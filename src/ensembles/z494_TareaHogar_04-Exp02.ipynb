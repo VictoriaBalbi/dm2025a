{
 "cells": [
  {
   "cell_type": "markdown",
   "metadata": {
    "id": "0cEmzeUKFkPh"
   },
   "source": [
    "# Tarea para el Hogar 04"
   ]
  },
  {
   "cell_type": "markdown",
   "metadata": {
    "id": "nSICPpyTGQmC"
   },
   "source": [
    "Esta Tarea para el Hogar 02 se entrega el final de la cuarta clase\n",
    "<br> se espera de usted que intente avanzar con los desafios propuestos y que los traiga terminados para la Clase 05 que será el viernes 01-agosto"
   ]
  },
  {
   "cell_type": "markdown",
   "metadata": {
    "id": "DenyKXkiJ5JN"
   },
   "source": [
    "##  1. Cazatalentos"
   ]
  },
  {
   "cell_type": "markdown",
   "metadata": {
    "id": "l-K2_ZsZGrVD"
   },
   "source": [
    "En la Clase 03 nos hemos enfrentado a  \"La Maldicion del Ganandor\",  elegir el modelo con el mejor puntaje simple no suele ser la mejor estrategia.\n",
    "<br> Lea y ejecute el notebook  **src/CazaTalentos/CazaTalentos.ipynb**\n",
    "<br> en caso de interesarle, participe del Desafío Ordenamiento  que vence el sábado 02 de agosto a las 19:00"
   ]
  },
  {
   "cell_type": "markdown",
   "metadata": {
    "id": "K9GkTOk5J9t3"
   },
   "source": [
    "## 2. Hiperparámetros del LightGBM"
   ]
  },
  {
   "cell_type": "markdown",
   "metadata": {
    "id": "VmEFy0ukKL5T"
   },
   "source": [
    "Los objetivos de esta tarea son:\n",
    "\n",
    "\n",
    "*   Aumentar la rentabilidad de la campaña de marketing de retención proactiva de clientes.\n",
    "*   Generar un mejor modelo optimizando sus hiperparámetros\n",
    "*   Conceptual : investigar los mas relevantes hiperparámetros de LightGBM\n",
    "*   Familiarizarse con la Bayesian Optimization, sus largos tiempos de corrida y opciones para reducirlos\n",
    "*   Familiarizarse con el uso de máquinas virtuales de Google Colab\n",
    "*   Ver un pipeline completo de optimización de hiperparámetros y puesta en producción"
   ]
  },
  {
   "cell_type": "markdown",
   "metadata": {
    "id": "5yvlS6JQLRMd"
   },
   "source": [
    "LightGBM cuenta con mas de 60 hiperparámetros, siendo posible utilizar 40 al mismo tiempo, aunque no razonable.\n",
    "<br> La documentación oficial de los hiperparámetros de LightGBM es  https://lightgbm.readthedocs.io/en/latest/Parameters.html#core-parameters\n"
   ]
  },
  {
   "cell_type": "markdown",
   "metadata": {
    "id": "eydI4YNAsFaf"
   },
   "source": [
    "Se lo alerta sobre que una Optimizacion Bayesiana lleva varias horas de corrida, y usted deberá correr VARIAS optimizaciones para descubrir cuales parámetros conviene optimizar.\n",
    "<br> A pesar que la próxima clase es recien en viernes 01 de agosto, inicie la tarea con tiempo, aprenda a planificar estratégicamente sus corridas como un@ científ@  de datos."
   ]
  },
  {
   "cell_type": "markdown",
   "metadata": {
    "id": "RzU4S0SeMcpp"
   },
   "source": [
    "Es necesario investigar cuales son los hiperparámetros de LightGBM que vale la pena optimizar en una Bayesian Optimization, ya que los realmente utiles son apenas un reducido subconjunto.\n",
    "<br>Usted deberá investigar cuales son los hiperparámetros mas relevantes de LightGBM, su primer alternativa es preguntándole a su amigo con capacidades especiales ChatGPT o sus endogámicos familiares Claude, DeepSeek, Gemini, Grok, etc\n",
    "<br> La segunda alternativa es la propia documentación de LightGBM  https://lightgbm.readthedocs.io/en/latest/Parameters-Tuning.html\n"
   ]
  },
  {
   "cell_type": "markdown",
   "metadata": {
    "id": "LNptUgI_NWWG"
   },
   "source": [
    "Adicionalmente podra buscar información como la que proveen esta diminuta muestra aleatoria de artículos ligeros:\n",
    "*  https://medium.com/@sarahzouinina/a-deep-dive-into-lightgbm-how-to-choose-and-tune-parameters-7c584945842e\n",
    "*  https://www.kaggle.com/code/somang1418/tuning-hyperparameters-under-10-minutes-lgbm\n",
    "*  https://towardsdatascience.com/beginners-guide-to-the-must-know-lightgbm-hyperparameters-a0005a812702/\n",
    "\n",
    "\n",
    "<br>  La muestra anterior se brinda a modo de ejemplo, usted deberá buscar muuuuchas  fuentes adicionales de información\n",
    "<br> Tenga presente que LightGBM es el estado del arte en modelado predictivo para datasets estructurado, que son el 90% del trabajo del 95% de los Data Scientists en Argentina."
   ]
  },
  {
   "cell_type": "markdown",
   "metadata": {
    "id": "WpUThBojODyK"
   },
   "source": [
    "El desafío de esta tarea es:\n",
    "* Qué hiperparparámetros conviene optimizar?  Las recomendaciones de los artículos ligeros es siempre sensata?  Sus autores realmente hicieron experimentos o son siemplemente escritores de entretenimiento carente de base científica?\n",
    "* Elegidos los hiperparámetros, cual es el  <desde, hasta> que se debe utilizar en la Bayesian Optimization ?\n",
    "* Realmente vale la pena optimizar 10 o 16 hiperparámetros al mismo tiempo ?  No resulta contraproducente una búsqueda en un espacio de tal alta dimensionalidad ?"
   ]
  },
  {
   "cell_type": "markdown",
   "metadata": {
    "id": "PX0qg_c0yqob"
   },
   "source": [
    "#### 2.1  Seteo del ambiente en Google Colab"
   ]
  },
  {
   "cell_type": "markdown",
   "metadata": {
    "id": "NGY7H9xza7Zr"
   },
   "source": [
    "Esta parte se debe correr con el runtime en Python3\n",
    "<br>Ir al menu, Runtime -> Change Runtime Type -> Runtime type ->  **Python 3**"
   ]
  },
  {
   "cell_type": "markdown",
   "metadata": {
    "id": "7PupIBNba7Zr"
   },
   "source": [
    "Conectar la virtual machine donde esta corriendo Google Colab con el  Google Drive, para poder tener persistencia de archivos"
   ]
  },
  {
   "cell_type": "code",
   "execution_count": null,
   "metadata": {
    "id": "9LpZCst5a7Zs"
   },
   "outputs": [],
   "source": [
    "# primero establecer el Runtime de Python 3\n",
    "from google.colab import drive\n",
    "drive.mount('/content/.drive')"
   ]
  },
  {
   "cell_type": "markdown",
   "metadata": {
    "id": "JYC_F-wla7Zs"
   },
   "source": [
    "Para correr la siguiente celda es fundamental en Arranque en Frio haber copiado el archivo kaggle.json al Google Drive, en la carpeta indicada en el instructivo\n",
    "\n",
    "<br>los siguientes comando estan en shell script de Linux\n",
    "*   Crear las carpetas en el Google Drive\n",
    "*   \"instalar\" el archivo kaggle.json desde el Google Drive a la virtual machine para que pueda ser utilizado por la libreria  kaggle de Python\n",
    "*   Bajar el  **dataset_pequeno**  al  Google Drive  y tambien al disco local de la virtual machine que esta corriendo Google Colab\n",
    "\n"
   ]
  },
  {
   "cell_type": "code",
   "execution_count": null,
   "metadata": {
    "id": "XWLelftXa7Zt"
   },
   "outputs": [],
   "source": [
    "%%shell\n",
    "\n",
    "mkdir -p \"/content/.drive/My Drive/dm\"\n",
    "mkdir -p \"/content/buckets\"\n",
    "ln -s \"/content/.drive/My Drive/dm\" /content/buckets/b1\n",
    "\n",
    "mkdir -p ~/.kaggle\n",
    "cp /content/buckets/b1/kaggle/kaggle.json  ~/.kaggle\n",
    "chmod 600 ~/.kaggle/kaggle.json\n",
    "\n",
    "\n",
    "mkdir -p /content/buckets/b1/exp\n",
    "mkdir -p /content/buckets/b1/datasets\n",
    "mkdir -p /content/datasets\n",
    "\n",
    "\n",
    "\n",
    "archivo_origen=\"https://storage.googleapis.com/open-courses/itba2025-8d0a/dataset_pequeno.csv\"\n",
    "archivo_destino=\"/content/datasets/dataset_pequeno.csv\"\n",
    "archivo_destino_bucket=\"/content/buckets/b1/datasets/dataset_pequeno.csv\"\n",
    "\n",
    "if ! test -f $archivo_destino_bucket; then\n",
    "  wget  $archivo_origen  -O $archivo_destino_bucket\n",
    "fi\n",
    "\n",
    "\n",
    "if ! test -f $archivo_destino; then\n",
    "  cp  $archivo_destino_bucket  $archivo_destino\n",
    "fi\n"
   ]
  },
  {
   "cell_type": "markdown",
   "metadata": {
    "id": "oSKhZRToy2F7"
   },
   "source": [
    "### 2.2 Optimizacion Hiperparámetros"
   ]
  },
  {
   "cell_type": "markdown",
   "metadata": {
    "id": "2kwPpHAtSmix"
   },
   "source": [
    "Esta parte se debe correr con el runtime en lenguaje R Ir al menu, Runtime -> Change Runtime Type -> Runtime type -> R"
   ]
  },
  {
   "cell_type": "markdown",
   "metadata": {
    "id": "xp4-Bj3aYI8d"
   },
   "source": [
    "### 2.2.1 Inicio"
   ]
  },
  {
   "cell_type": "markdown",
   "metadata": {
    "id": "zy8YTZfESxeJ"
   },
   "source": [
    "limpio el ambiente de R"
   ]
  },
  {
   "cell_type": "code",
   "execution_count": 68,
   "metadata": {
    "id": "gBq__iAdQliq"
   },
   "outputs": [
    {
     "data": {
      "text/html": [
       "'Fri Jul 25 14:23:16 2025'"
      ],
      "text/latex": [
       "'Fri Jul 25 14:23:16 2025'"
      ],
      "text/markdown": [
       "'Fri Jul 25 14:23:16 2025'"
      ],
      "text/plain": [
       "[1] \"Fri Jul 25 14:23:16 2025\""
      ]
     },
     "metadata": {},
     "output_type": "display_data"
    }
   ],
   "source": [
    "format(Sys.time(), \"%a %b %d %X %Y\")"
   ]
  },
  {
   "cell_type": "code",
   "execution_count": 69,
   "metadata": {
    "id": "7rdVrBojS1IV"
   },
   "outputs": [
    {
     "data": {
      "text/html": [
       "<table class=\"dataframe\">\n",
       "<caption>A matrix: 2 × 6 of type dbl</caption>\n",
       "<thead>\n",
       "\t<tr><th></th><th scope=col>used</th><th scope=col>(Mb)</th><th scope=col>gc trigger</th><th scope=col>(Mb)</th><th scope=col>max used</th><th scope=col>(Mb)</th></tr>\n",
       "</thead>\n",
       "<tbody>\n",
       "\t<tr><th scope=row>Ncells</th><td> 2278351</td><td>121.7</td><td>  3891067</td><td>207.9</td><td>  3891067</td><td> 207.9</td></tr>\n",
       "\t<tr><th scope=row>Vcells</th><td>29800801</td><td>227.4</td><td>128815287</td><td>982.8</td><td>161019099</td><td>1228.5</td></tr>\n",
       "</tbody>\n",
       "</table>\n"
      ],
      "text/latex": [
       "A matrix: 2 × 6 of type dbl\n",
       "\\begin{tabular}{r|llllll}\n",
       "  & used & (Mb) & gc trigger & (Mb) & max used & (Mb)\\\\\n",
       "\\hline\n",
       "\tNcells &  2278351 & 121.7 &   3891067 & 207.9 &   3891067 &  207.9\\\\\n",
       "\tVcells & 29800801 & 227.4 & 128815287 & 982.8 & 161019099 & 1228.5\\\\\n",
       "\\end{tabular}\n"
      ],
      "text/markdown": [
       "\n",
       "A matrix: 2 × 6 of type dbl\n",
       "\n",
       "| <!--/--> | used | (Mb) | gc trigger | (Mb) | max used | (Mb) |\n",
       "|---|---|---|---|---|---|---|\n",
       "| Ncells |  2278351 | 121.7 |   3891067 | 207.9 |   3891067 |  207.9 |\n",
       "| Vcells | 29800801 | 227.4 | 128815287 | 982.8 | 161019099 | 1228.5 |\n",
       "\n"
      ],
      "text/plain": [
       "       used     (Mb)  gc trigger (Mb)  max used  (Mb)  \n",
       "Ncells  2278351 121.7   3891067  207.9   3891067  207.9\n",
       "Vcells 29800801 227.4 128815287  982.8 161019099 1228.5"
      ]
     },
     "metadata": {},
     "output_type": "display_data"
    }
   ],
   "source": [
    "# limpio la memoria\n",
    "rm(list=ls(all.names=TRUE)) # remove all objects\n",
    "gc(full=TRUE, verbose=FALSE) # garbage collection"
   ]
  },
  {
   "cell_type": "markdown",
   "metadata": {
    "id": "kuPfQ7ksjwW3"
   },
   "source": [
    "### 2.2.2 Carga de Librerias"
   ]
  },
  {
   "cell_type": "code",
   "execution_count": 70,
   "metadata": {
    "id": "lVyxLaJ1j1J_"
   },
   "outputs": [],
   "source": [
    "# cargo las librerias que necesito\n",
    "require(\"data.table\")\n",
    "require(\"parallel\")\n",
    "\n",
    "if( !require(\"primes\") ) install.packages(\"primes\")\n",
    "require(\"primes\")\n",
    "\n",
    "if( !require(\"utils\") ) install.packages(\"utils\")\n",
    "require(\"utils\")\n",
    "\n",
    "if( !require(\"rlist\") ) install.packages(\"rlist\")\n",
    "require(\"rlist\")\n",
    "\n",
    "if( !require(\"yaml\")) install.packages(\"yaml\")\n",
    "require(\"yaml\")\n",
    "\n",
    "if( !require(\"lightgbm\") ) install.packages(\"lightgbm\")\n",
    "require(\"lightgbm\")\n",
    "\n",
    "if( !require(\"DiceKriging\") ) install.packages(\"DiceKriging\")\n",
    "require(\"DiceKriging\")\n",
    "\n",
    "if( !require(\"mlrMBO\") ) install.packages(\"mlrMBO\")\n",
    "require(\"mlrMBO\")"
   ]
  },
  {
   "cell_type": "markdown",
   "metadata": {
    "id": "Iz-6Qt6BUaA3"
   },
   "source": [
    "### 2.2.3 Definicion de Parametros"
   ]
  },
  {
   "cell_type": "markdown",
   "metadata": {
    "id": "cOdlKd7lUm2I"
   },
   "source": [
    "aqui debe cargar SU semilla primigenia\n",
    "<br>recuerde cambiar el numero de experimento en cada corrida nueva"
   ]
  },
  {
   "cell_type": "code",
   "execution_count": 71,
   "metadata": {
    "id": "ASYkebOu2mF6"
   },
   "outputs": [],
   "source": [
    "PARAM <- list()\n",
    "PARAM$experimento <- 4942\n",
    "PARAM$semilla_primigenia <- 123457\n",
    "\n"
   ]
  },
  {
   "cell_type": "code",
   "execution_count": 72,
   "metadata": {
    "id": "ezOhQdbA293o"
   },
   "outputs": [],
   "source": [
    "PARAM$kaggle$competencia <- \"data-mining-analista-sr-2025-a\"\n",
    "PARAM$kaggle$cortes <- seq(10000, 12000, by= 500)"
   ]
  },
  {
   "cell_type": "code",
   "execution_count": 73,
   "metadata": {
    "id": "jtB0Lub42rHO"
   },
   "outputs": [],
   "source": [
    "# un undersampling de 0.1  toma solo el 10% de los CONTINUA\n",
    "# undersampling de 1.0  implica tomar TODOS los datos\n",
    "\n",
    "PARAM$trainingstrategy$undersampling <- 0.5"
   ]
  },
  {
   "cell_type": "code",
   "execution_count": 74,
   "metadata": {
    "id": "OFxm-xiNUOJX"
   },
   "outputs": [],
   "source": [
    "# Parametros LightGBM\n",
    "\n",
    "PARAM$hyperparametertuning$xval_folds <- 5\n",
    "\n",
    "# parametros fijos del LightGBM que se pisaran con la parte variable de la BO\n",
    "PARAM$lgbm$param_fijos <-  list(\n",
    "  boosting= \"dart\", # puede ir  dart  , ni pruebe random_forest\n",
    "  objective= \"binary\",\n",
    "  metric= \"auc\",\n",
    "  first_metric_only= FALSE,\n",
    "  boost_from_average= TRUE,\n",
    "  feature_pre_filter= FALSE,\n",
    "  force_row_wise= TRUE, # para reducir warnings\n",
    "  verbosity= -100,\n",
    "\n",
    "  seed= PARAM$semilla_primigenia,\n",
    "\n",
    "  max_depth= -1L, # -1 significa no limitar,  por ahora lo dejo fijo\n",
    "  min_gain_to_split= 0, # min_gain_to_split >= 0\n",
    "  min_sum_hessian_in_leaf= 0.001, #  min_sum_hessian_in_leaf >= 0.0\n",
    "  lambda_l1= 0.0, # lambda_l1 >= 0.0\n",
    "  lambda_l2= 0.0, # lambda_l2 >= 0.0\n",
    "  max_bin= 31L, # lo debo dejar fijo, no participa de la BO\n",
    "\n",
    "  bagging_fraction= 1.0, # 0.0 < bagging_fraction <= 1.0\n",
    "  pos_bagging_fraction= 1.0, # 0.0 < pos_bagging_fraction <= 1.0\n",
    "  neg_bagging_fraction= 1.0, # 0.0 < neg_bagging_fraction <= 1.0\n",
    "  is_unbalance= FALSE, #\n",
    "  scale_pos_weight= 1.0, # scale_pos_weight > 0.0\n",
    "\n",
    "  drop_rate= 0.1, # 0.0 < neg_bagging_fraction <= 1.0\n",
    "  max_drop= 50, # <=0 means no limit\n",
    "  skip_drop= 0.5, # 0.0 <= skip_drop <= 1.0\n",
    "\n",
    "  extra_trees= FALSE,\n",
    "\n",
    "  num_iterations= 1200,\n",
    "  learning_rate= 0.02,\n",
    "  feature_fraction= 0.5,\n",
    "  num_leaves= 750,\n",
    "  min_data_in_leaf= 5000\n",
    ")\n"
   ]
  },
  {
   "cell_type": "markdown",
   "metadata": {
    "id": "D5Yj-JV4yvOt"
   },
   "source": [
    "Aqui se definen los hiperparámetros de LightGBM que participan de la Bayesian Optimization\n",
    "<br> si es un numero entero debe ir  makeIntegerParam\n",
    "<br> si es un numero real (con decimales) debe ir  makeNumericParam\n",
    "<br> es muy importante leer cuales son un lower y upper  permitidos y ademas razonables"
   ]
  },
  {
   "cell_type": "code",
   "execution_count": 75,
   "metadata": {
    "id": "jENpR26ZyuS8"
   },
   "outputs": [],
   "source": [
    "# Aqui se cargan los bordes de los hiperparametros de la BO\n",
    "PARAM$hypeparametertuning$hs <- makeParamSet(\n",
    "  makeIntegerParam(\"num_iterations\", lower= 100L, upper= 500L),\n",
    "  makeNumericParam(\"learning_rate\", lower= 0.001, upper= 0.1),\n",
    "  makeNumericParam(\"feature_fraction\", lower= 0.2, upper= 0.8),\n",
    "  makeIntegerParam(\"num_leaves\", lower= 8L, upper= 1024L), \n",
    "  makeIntegerParam(\"max_depth\", lower= 3L, upper= 10L)\n",
    ")"
   ]
  },
  {
   "cell_type": "markdown",
   "metadata": {
    "id": "-_RPFUb3zMoW"
   },
   "source": [
    "A mayor cantidad de hiperparámetros, se debe aumentar las iteraciones de la Bayesian Optimization\n",
    "<br> 30 es un valor muy tacaño, pero corre rápido\n",
    "<br> deberia partir de 50, alcanzando los 100 si se dispone de tiempo"
   ]
  },
  {
   "cell_type": "code",
   "execution_count": 76,
   "metadata": {
    "id": "q5Rd3pnbzSiG"
   },
   "outputs": [],
   "source": [
    "PARAM$hyperparametertuning$iteraciones <- 50 # iteraciones bayesianas"
   ]
  },
  {
   "cell_type": "markdown",
   "metadata": {
    "id": "4RWZXL1VZjMI"
   },
   "source": [
    "### 2.2.4  Preprocesamiento"
   ]
  },
  {
   "cell_type": "code",
   "execution_count": 77,
   "metadata": {
    "id": "j3toG9-lZm4K"
   },
   "outputs": [],
   "source": [
    "# carpeta de trabajo\n",
    "\n",
    "setwd(\"/content/buckets/b1/exp\")\n",
    "experimento_folder <- paste0(\"HT\", PARAM$experimento)\n",
    "dir.create(experimento_folder, showWarnings=FALSE)\n",
    "setwd( paste0(\"/content/buckets/b1/exp/\", experimento_folder ))"
   ]
  },
  {
   "cell_type": "code",
   "execution_count": 78,
   "metadata": {
    "id": "FM3lxKoLZ643"
   },
   "outputs": [],
   "source": [
    "# lectura del dataset\n",
    "\n",
    "dataset <- fread(\"/content/datasets/dataset_pequeno.csv\")"
   ]
  },
  {
   "cell_type": "code",
   "execution_count": 79,
   "metadata": {
    "id": "OsJ-91UeZ-I_"
   },
   "outputs": [],
   "source": [
    "dataset_train <- dataset[foto_mes %in% c(202107)]"
   ]
  },
  {
   "cell_type": "code",
   "execution_count": 80,
   "metadata": {
    "id": "vrWE7BE0aB2J"
   },
   "outputs": [],
   "source": [
    "# paso la clase a binaria que tome valores {0,1}  enteros\n",
    "#  BAJA+1 y BAJA+2  son  1,   CONTINUA es 0\n",
    "\n",
    "dataset_train[,\n",
    "  clase01 := ifelse(clase_ternaria %in% c(\"BAJA+2\",\"BAJA+1\"), 1L, 0L)\n",
    "]"
   ]
  },
  {
   "cell_type": "code",
   "execution_count": 81,
   "metadata": {
    "id": "jP7YlQBnaW6W"
   },
   "outputs": [],
   "source": [
    "# defino los datos que forma parte del training\n",
    "# aqui se hace el undersampling de los CONTINUA\n",
    "# notar que para esto utilizo la SEGUNDA semilla\n",
    "\n",
    "set.seed(PARAM$semilla_primigenia, kind = \"L'Ecuyer-CMRG\")\n",
    "dataset_train[, azar := runif(nrow(dataset_train))]\n",
    "dataset_train[, training := 0L]\n",
    "\n",
    "dataset_train[\n",
    "  foto_mes %in% c(202107) &\n",
    "    (azar <= PARAM$trainingstrategy$undersampling | clase_ternaria %in% c(\"BAJA+1\", \"BAJA+2\")),\n",
    "  training := 1L\n",
    "]"
   ]
  },
  {
   "cell_type": "code",
   "execution_count": 82,
   "metadata": {
    "id": "xElu4s5W4rX7"
   },
   "outputs": [],
   "source": [
    "# los campos que se van a utilizar\n",
    "\n",
    "campos_buenos <- setdiff(\n",
    "  colnames(dataset_train),\n",
    "  c(\"clase_ternaria\", \"clase01\", \"azar\", \"training\")\n",
    ")"
   ]
  },
  {
   "cell_type": "code",
   "execution_count": 83,
   "metadata": {
    "id": "PppMHcGYaaol"
   },
   "outputs": [
    {
     "data": {
      "text/html": [
       "83384"
      ],
      "text/latex": [
       "83384"
      ],
      "text/markdown": [
       "83384"
      ],
      "text/plain": [
       "[1] 83384"
      ]
     },
     "metadata": {},
     "output_type": "display_data"
    },
    {
     "data": {
      "text/html": [
       "154"
      ],
      "text/latex": [
       "154"
      ],
      "text/markdown": [
       "154"
      ],
      "text/plain": [
       "[1] 154"
      ]
     },
     "metadata": {},
     "output_type": "display_data"
    }
   ],
   "source": [
    "# dejo los datos en el formato que necesita LightGBM\n",
    "\n",
    "dtrain <- lgb.Dataset(\n",
    "  data= data.matrix(dataset_train[training == 1L, campos_buenos, with= FALSE]),\n",
    "  label= dataset_train[training == 1L, clase01],\n",
    "  free_raw_data= FALSE\n",
    ")\n",
    "\n",
    "nrow(dtrain)\n",
    "ncol(dtrain)"
   ]
  },
  {
   "cell_type": "markdown",
   "metadata": {
    "id": "Ta-EkOu3cphF"
   },
   "source": [
    "2.2.5 Configuracion Bayesian Optimization"
   ]
  },
  {
   "cell_type": "code",
   "execution_count": 84,
   "metadata": {
    "id": "cjgfurjdfiXb"
   },
   "outputs": [],
   "source": [
    "# En el argumento x llegan los parmaetros de la bayesiana\n",
    "#  devuelve la AUC en cross validation del modelo entrenado\n",
    "\n",
    "EstimarGanancia_AUC_lightgbm <- function(x) {\n",
    "\n",
    "  # x pisa (o agrega) a param_fijos\n",
    "  param_completo <- modifyList(PARAM$lgbm$param_fijos, x)\n",
    "\n",
    "  # entreno LightGBM\n",
    "  modelocv <- lgb.cv(\n",
    "    data= dtrain,\n",
    "    nfold= PARAM$hyperparametertuning$xval_folds,\n",
    "    stratified= TRUE,\n",
    "    param= param_completo\n",
    "  )\n",
    "\n",
    "  # obtengo la ganancia\n",
    "  AUC <- modelocv$best_score\n",
    "\n",
    "  # hago espacio en la memoria\n",
    "  rm(modelocv)\n",
    "  gc(full= TRUE, verbose= FALSE)\n",
    "\n",
    "  message(format(Sys.time(), \"%a %b %d %X %Y\"), \" AUC \", AUC)\n",
    "\n",
    "  return(AUC)\n",
    "}"
   ]
  },
  {
   "cell_type": "code",
   "execution_count": 85,
   "metadata": {
    "id": "WLi_o1hocvN-"
   },
   "outputs": [],
   "source": [
    "# Aqui comienza la configuracion de la Bayesian Optimization\n",
    "\n",
    "# en este archivo quedan la evolucion binaria de la BO\n",
    "kbayesiana <- \"bayesiana.RDATA\"\n",
    "\n",
    "funcion_optimizar <- EstimarGanancia_AUC_lightgbm # la funcion que voy a maximizar\n",
    "\n",
    "configureMlr(show.learner.output= FALSE)\n",
    "\n",
    "# configuro la busqueda bayesiana,  los hiperparametros que se van a optimizar\n",
    "# por favor, no desesperarse por lo complejo\n",
    "\n",
    "obj.fun <- makeSingleObjectiveFunction(\n",
    "  fn= funcion_optimizar, # la funcion que voy a maximizar\n",
    "  minimize= FALSE, # estoy Maximizando la ganancia\n",
    "  noisy= TRUE,\n",
    "  par.set= PARAM$hypeparametertuning$hs, # definido al comienzo del programa\n",
    "  has.simple.signature= FALSE # paso los parametros en una lista\n",
    ")\n",
    "\n",
    "# cada 600 segundos guardo el resultado intermedio\n",
    "ctrl <- makeMBOControl(\n",
    "  save.on.disk.at.time= 600, # se graba cada 600 segundos\n",
    "  save.file.path= kbayesiana\n",
    ") # se graba cada 600 segundos\n",
    "\n",
    "# indico la cantidad de iteraciones que va a tener la Bayesian Optimization\n",
    "ctrl <- setMBOControlTermination(\n",
    "  ctrl,\n",
    "  iters= PARAM$hyperparametertuning$iteraciones\n",
    ") # cantidad de iteraciones\n",
    "\n",
    "# defino el método estandar para la creacion de los puntos iniciales,\n",
    "# los \"No Inteligentes\"\n",
    "ctrl <- setMBOControlInfill(ctrl, crit= makeMBOInfillCritEI())\n",
    "\n",
    "# establezco la funcion que busca el maximo\n",
    "surr.km <- makeLearner(\n",
    "  \"regr.km\",\n",
    "  predict.type= \"se\",\n",
    "  covtype= \"matern3_2\",\n",
    "  control= list(trace= TRUE)\n",
    ")\n"
   ]
  },
  {
   "cell_type": "markdown",
   "metadata": {
    "id": "_uUeVo5pc4zc"
   },
   "source": [
    "2.2.6 Corrida Bayesian Optimization"
   ]
  },
  {
   "cell_type": "code",
   "execution_count": 86,
   "metadata": {
    "id": "RcABNaKGciaz"
   },
   "outputs": [
    {
     "name": "stderr",
     "output_type": "stream",
     "text": [
      "Computing y column(s) for design. Not provided.\n",
      "\n",
      "Fri Jul 25 14:24:02 2025 AUC 0.913449815292261\n",
      "\n",
      "Fri Jul 25 14:24:26 2025 AUC 0.920086347106251\n",
      "\n",
      "Fri Jul 25 14:25:12 2025 AUC 0.917226485223212\n",
      "\n",
      "Fri Jul 25 14:25:56 2025 AUC 0.916614645322471\n",
      "\n",
      "Fri Jul 25 14:26:50 2025 AUC 0.919469400167563\n",
      "\n",
      "Fri Jul 25 14:27:07 2025 AUC 0.910849626299596\n",
      "\n",
      "Fri Jul 25 14:27:44 2025 AUC 0.910234519230419\n",
      "\n",
      "Fri Jul 25 14:28:43 2025 AUC 0.921841586002262\n",
      "\n",
      "Fri Jul 25 14:29:07 2025 AUC 0.908114492933114\n",
      "\n",
      "Fri Jul 25 14:29:17 2025 AUC 0.897495141521405\n",
      "\n",
      "Fri Jul 25 14:29:47 2025 AUC 0.920122694829809\n",
      "\n",
      "Fri Jul 25 14:31:01 2025 AUC 0.914292183236649\n",
      "\n",
      "Fri Jul 25 14:31:48 2025 AUC 0.898930272958305\n",
      "\n",
      "Fri Jul 25 14:31:54 2025 AUC 0.904822844116443\n",
      "\n",
      "Fri Jul 25 14:32:15 2025 AUC 0.91965926842762\n",
      "\n",
      "Fri Jul 25 14:32:23 2025 AUC 0.898726064932933\n",
      "\n",
      "Fri Jul 25 14:33:24 2025 AUC 0.914898586343633\n",
      "\n",
      "Fri Jul 25 14:33:35 2025 AUC 0.914388470110682\n",
      "\n",
      "Fri Jul 25 14:34:00 2025 AUC 0.915623234856337\n",
      "\n",
      "Fri Jul 25 14:34:37 2025 AUC 0.903225092300928\n",
      "\n",
      "[mbo] 0: num_iterations=197; learning_rate=0.0606; feature_fraction=0.309; num_leaves=582; max_depth=5 : y = 0.913 : 17.5 secs : initdesign\n",
      "\n",
      "[mbo] 0: num_iterations=262; learning_rate=0.0928; feature_fraction=0.697; num_leaves=829; max_depth=9 : y = 0.92 : 23.5 secs : initdesign\n",
      "\n",
      "[mbo] 0: num_iterations=382; learning_rate=0.0553; feature_fraction=0.589; num_leaves=462; max_depth=7 : y = 0.917 : 46.1 secs : initdesign\n",
      "\n",
      "[mbo] 0: num_iterations=378; learning_rate=0.0571; feature_fraction=0.486; num_leaves=684; max_depth=4 : y = 0.917 : 43.8 secs : initdesign\n",
      "\n",
      "[mbo] 0: num_iterations=403; learning_rate=0.0676; feature_fraction=0.333; num_leaves=363; max_depth=8 : y = 0.919 : 54.6 secs : initdesign\n",
      "\n",
      "[mbo] 0: num_iterations=213; learning_rate=0.0471; feature_fraction=0.8; num_leaves=624; max_depth=7 : y = 0.911 : 16.3 secs : initdesign\n",
      "\n",
      "[mbo] 0: num_iterations=323; learning_rate=0.0336; feature_fraction=0.359; num_leaves=499; max_depth=5 : y = 0.91 : 37.5 secs : initdesign\n",
      "\n",
      "[mbo] 0: num_iterations=441; learning_rate=0.0855; feature_fraction=0.444; num_leaves=235; max_depth=4 : y = 0.922 : 58.7 secs : initdesign\n",
      "\n",
      "[mbo] 0: num_iterations=231; learning_rate=0.0294; feature_fraction=0.426; num_leaves=270; max_depth=8 : y = 0.908 : 24.3 secs : initdesign\n",
      "\n",
      "[mbo] 0: num_iterations=165; learning_rate=0.00529; feature_fraction=0.763; num_leaves=31; max_depth=10 : y = 0.897 : 10.2 secs : initdesign\n",
      "\n",
      "[mbo] 0: num_iterations=316; learning_rate=0.0769; feature_fraction=0.661; num_leaves=785; max_depth=5 : y = 0.92 : 30.1 secs : initdesign\n",
      "\n",
      "[mbo] 0: num_iterations=486; learning_rate=0.0366; feature_fraction=0.557; num_leaves=95; max_depth=10 : y = 0.914 : 73.5 secs : initdesign\n",
      "\n",
      "[mbo] 0: num_iterations=462; learning_rate=0.0123; feature_fraction=0.529; num_leaves=1018; max_depth=3 : y = 0.899 : 47.0 secs : initdesign\n",
      "\n",
      "[mbo] 0: num_iterations=114; learning_rate=0.0256; feature_fraction=0.632; num_leaves=724; max_depth=8 : y = 0.905 : 6.3 secs : initdesign\n",
      "\n",
      "[mbo] 0: num_iterations=245; learning_rate=0.0971; feature_fraction=0.606; num_leaves=124; max_depth=6 : y = 0.92 : 21.2 secs : initdesign\n",
      "\n",
      "[mbo] 0: num_iterations=137; learning_rate=0.00686; feature_fraction=0.284; num_leaves=526; max_depth=3 : y = 0.899 : 7.8 secs : initdesign\n",
      "\n",
      "[mbo] 0: num_iterations=422; learning_rate=0.0444; feature_fraction=0.401; num_leaves=913; max_depth=9 : y = 0.915 : 60.5 secs : initdesign\n",
      "\n",
      "[mbo] 0: num_iterations=153; learning_rate=0.0836; feature_fraction=0.212; num_leaves=403; max_depth=9 : y = 0.914 : 10.8 secs : initdesign\n",
      "\n",
      "[mbo] 0: num_iterations=298; learning_rate=0.0745; feature_fraction=0.245; num_leaves=926; max_depth=3 : y = 0.916 : 25.6 secs : initdesign\n",
      "\n",
      "[mbo] 0: num_iterations=355; learning_rate=0.0184; feature_fraction=0.73; num_leaves=179; max_depth=6 : y = 0.903 : 37.1 secs : initdesign\n",
      "\n",
      "Saved the current state after iteration 1 in the file bayesiana.RDATA.\n",
      "\n",
      "Fri Jul 25 14:35:55 2025 AUC 0.924226749942847\n",
      "\n",
      "[mbo] 1: num_iterations=500; learning_rate=0.0922; feature_fraction=0.611; num_leaves=551; max_depth=7 : y = 0.924 : 73.4 secs : infill_ei\n",
      "\n",
      "Fri Jul 25 14:37:05 2025 AUC 0.924977059322766\n",
      "\n",
      "[mbo] 2: num_iterations=500; learning_rate=0.1; feature_fraction=0.75; num_leaves=607; max_depth=5 : y = 0.925 : 69.1 secs : infill_ei\n",
      "\n",
      "Fri Jul 25 14:38:20 2025 AUC 0.923773216165836\n",
      "\n",
      "[mbo] 3: num_iterations=500; learning_rate=0.1; feature_fraction=0.602; num_leaves=755; max_depth=5 : y = 0.924 : 74.6 secs : infill_ei\n",
      "\n",
      "Fri Jul 25 14:39:40 2025 AUC 0.925050715399575\n",
      "\n",
      "[mbo] 4: num_iterations=500; learning_rate=0.1; feature_fraction=0.8; num_leaves=342; max_depth=6 : y = 0.925 : 79.1 secs : infill_ei\n",
      "\n",
      "Fri Jul 25 14:40:49 2025 AUC 0.923965225191254\n",
      "\n",
      "[mbo] 5: num_iterations=500; learning_rate=0.0999; feature_fraction=0.723; num_leaves=428; max_depth=5 : y = 0.924 : 68.7 secs : infill_ei\n",
      "\n",
      "Fri Jul 25 14:42:00 2025 AUC 0.924755421101746\n",
      "\n",
      "[mbo] 6: num_iterations=499; learning_rate=0.0974; feature_fraction=0.8; num_leaves=686; max_depth=7 : y = 0.925 : 70.7 secs : infill_ei\n",
      "\n",
      "Fri Jul 25 14:42:56 2025 AUC 0.924184640686928\n",
      "\n",
      "[mbo] 7: num_iterations=433; learning_rate=0.0999; feature_fraction=0.799; num_leaves=607; max_depth=6 : y = 0.924 : 54.6 secs : infill_ei\n",
      "\n",
      "Fri Jul 25 14:44:05 2025 AUC 0.924090506347221\n",
      "\n",
      "[mbo] 8: num_iterations=500; learning_rate=0.089; feature_fraction=0.799; num_leaves=25; max_depth=6 : y = 0.924 : 69.1 secs : infill_ei\n",
      "\n",
      "Fri Jul 25 14:45:14 2025 AUC 0.924168668424098\n",
      "\n",
      "[mbo] 9: num_iterations=500; learning_rate=0.0928; feature_fraction=0.8; num_leaves=683; max_depth=5 : y = 0.924 : 67.7 secs : infill_ei\n",
      "\n",
      "Saved the current state after iteration 10 in the file bayesiana.RDATA.\n",
      "\n",
      "Fri Jul 25 14:46:31 2025 AUC 0.924557705830123\n",
      "\n",
      "[mbo] 10: num_iterations=500; learning_rate=0.0999; feature_fraction=0.799; num_leaves=180; max_depth=9 : y = 0.925 : 71.7 secs : infill_ei\n",
      "\n",
      "Fri Jul 25 14:47:45 2025 AUC 0.923521340017135\n",
      "\n",
      "[mbo] 11: num_iterations=500; learning_rate=0.086; feature_fraction=0.477; num_leaves=9; max_depth=10 : y = 0.924 : 73.5 secs : infill_ei\n",
      "\n",
      "Fri Jul 25 14:49:00 2025 AUC 0.924649955434763\n",
      "\n",
      "[mbo] 12: num_iterations=500; learning_rate=0.0999; feature_fraction=0.491; num_leaves=9; max_depth=7 : y = 0.925 : 74.7 secs : infill_ei\n",
      "\n",
      "Fri Jul 25 14:50:18 2025 AUC 0.923946837623209\n",
      "\n",
      "[mbo] 13: num_iterations=500; learning_rate=0.0976; feature_fraction=0.585; num_leaves=167; max_depth=7 : y = 0.924 : 76.5 secs : infill_ei\n",
      "\n",
      "Fri Jul 25 14:51:31 2025 AUC 0.924157964720235\n",
      "\n",
      "[mbo] 14: num_iterations=500; learning_rate=0.1; feature_fraction=0.788; num_leaves=595; max_depth=10 : y = 0.924 : 72.8 secs : infill_ei\n",
      "\n",
      "Fri Jul 25 14:52:54 2025 AUC 0.924453485138004\n",
      "\n",
      "[mbo] 15: num_iterations=500; learning_rate=0.0999; feature_fraction=0.451; num_leaves=618; max_depth=8 : y = 0.924 : 82.6 secs : infill_ei\n",
      "\n",
      "Fri Jul 25 14:54:05 2025 AUC 0.923367787386421\n",
      "\n",
      "[mbo] 16: num_iterations=500; learning_rate=0.1; feature_fraction=0.23; num_leaves=9; max_depth=8 : y = 0.923 : 70.4 secs : infill_ei\n",
      "\n",
      "Fri Jul 25 14:55:27 2025 AUC 0.924335569065758\n",
      "\n",
      "[mbo] 17: num_iterations=500; learning_rate=0.0999; feature_fraction=0.459; num_leaves=585; max_depth=6 : y = 0.924 : 81.4 secs : infill_ei\n",
      "\n",
      "Saved the current state after iteration 18 in the file bayesiana.RDATA.\n",
      "\n",
      "Fri Jul 25 14:56:39 2025 AUC 0.925801339223988\n",
      "\n",
      "[mbo] 18: num_iterations=500; learning_rate=0.0999; feature_fraction=0.799; num_leaves=10; max_depth=8 : y = 0.926 : 67.3 secs : infill_ei\n",
      "\n",
      "Fri Jul 25 14:58:02 2025 AUC 0.923243848033897\n",
      "\n",
      "[mbo] 19: num_iterations=500; learning_rate=0.0854; feature_fraction=0.467; num_leaves=1024; max_depth=10 : y = 0.923 : 82.3 secs : infill_ei\n",
      "\n",
      "Fri Jul 25 14:58:52 2025 AUC 0.922176585439511\n",
      "\n",
      "[mbo] 20: num_iterations=499; learning_rate=0.0998; feature_fraction=0.8; num_leaves=593; max_depth=3 : y = 0.922 : 49.3 secs : infill_ei\n",
      "\n",
      "Fri Jul 25 15:00:12 2025 AUC 0.923015661686363\n",
      "\n",
      "[mbo] 21: num_iterations=500; learning_rate=0.0822; feature_fraction=0.415; num_leaves=647; max_depth=6 : y = 0.923 : 79.7 secs : infill_ei\n",
      "\n",
      "Fri Jul 25 15:01:32 2025 AUC 0.923398009448636\n",
      "\n",
      "[mbo] 22: num_iterations=500; learning_rate=0.1; feature_fraction=0.2; num_leaves=991; max_depth=10 : y = 0.923 : 78.4 secs : infill_ei\n",
      "\n",
      "Fri Jul 25 15:02:45 2025 AUC 0.924366626890654\n",
      "\n",
      "[mbo] 23: num_iterations=500; learning_rate=0.0999; feature_fraction=0.767; num_leaves=1022; max_depth=6 : y = 0.924 : 72.3 secs : infill_ei\n",
      "\n",
      "Fri Jul 25 15:02:50 2025 AUC 0.916048883719642\n",
      "\n",
      "[mbo] 24: num_iterations=100; learning_rate=0.1; feature_fraction=0.784; num_leaves=1023; max_depth=5 : y = 0.916 : 5.0 secs : infill_ei\n",
      "\n",
      "Fri Jul 25 15:03:35 2025 AUC 0.924104650273266\n",
      "\n",
      "[mbo] 25: num_iterations=379; learning_rate=0.1; feature_fraction=0.429; num_leaves=8; max_depth=10 : y = 0.924 : 44.2 secs : infill_ei\n",
      "\n",
      "Fri Jul 25 15:04:49 2025 AUC 0.924663286395868\n",
      "\n",
      "[mbo] 26: num_iterations=500; learning_rate=0.1; feature_fraction=0.704; num_leaves=1023; max_depth=10 : y = 0.925 : 73.0 secs : infill_ei\n",
      "\n",
      "Fri Jul 25 15:05:41 2025 AUC 0.924798245346883\n",
      "\n",
      "[mbo] 27: num_iterations=462; learning_rate=0.1; feature_fraction=0.729; num_leaves=8; max_depth=8 : y = 0.925 : 51.4 secs : infill_ei\n",
      "\n",
      "Saved the current state after iteration 28 in the file bayesiana.RDATA.\n",
      "\n",
      "Fri Jul 25 15:06:36 2025 AUC 0.923458416612036\n",
      "\n",
      "[mbo] 28: num_iterations=373; learning_rate=0.1; feature_fraction=0.407; num_leaves=1024; max_depth=10 : y = 0.923 : 48.5 secs : infill_ei\n",
      "\n",
      "Fri Jul 25 15:07:58 2025 AUC 0.924138820253451\n",
      "\n",
      "[mbo] 29: num_iterations=500; learning_rate=0.1; feature_fraction=0.407; num_leaves=1023; max_depth=8 : y = 0.924 : 81.9 secs : infill_ei\n",
      "\n",
      "Fri Jul 25 15:09:18 2025 AUC 0.925187647426318\n",
      "\n",
      "[mbo] 30: num_iterations=499; learning_rate=0.0999; feature_fraction=0.372; num_leaves=49; max_depth=10 : y = 0.925 : 78.6 secs : infill_ei\n",
      "\n",
      "Fri Jul 25 15:10:39 2025 AUC 0.924146060351786\n",
      "\n",
      "[mbo] 31: num_iterations=500; learning_rate=0.0994; feature_fraction=0.573; num_leaves=915; max_depth=10 : y = 0.924 : 79.9 secs : infill_ei\n",
      "\n",
      "Fri Jul 25 15:12:00 2025 AUC 0.923976932502049\n",
      "\n",
      "[mbo] 32: num_iterations=500; learning_rate=0.1; feature_fraction=0.396; num_leaves=286; max_depth=10 : y = 0.924 : 80.9 secs : infill_ei\n",
      "\n",
      "Fri Jul 25 15:13:13 2025 AUC 0.923638142091294\n",
      "\n",
      "[mbo] 33: num_iterations=500; learning_rate=0.0741; feature_fraction=0.799; num_leaves=1024; max_depth=9 : y = 0.924 : 72.1 secs : infill_ei\n",
      "\n",
      "Fri Jul 25 15:14:28 2025 AUC 0.925060362726773\n",
      "\n",
      "[mbo] 34: num_iterations=500; learning_rate=0.1; feature_fraction=0.797; num_leaves=955; max_depth=8 : y = 0.925 : 73.9 secs : infill_ei\n",
      "\n",
      "Fri Jul 25 15:15:35 2025 AUC 0.924096301323572\n",
      "\n",
      "[mbo] 35: num_iterations=500; learning_rate=0.1; feature_fraction=0.799; num_leaves=16; max_depth=5 : y = 0.924 : 66.8 secs : infill_ei\n",
      "\n",
      "Fri Jul 25 15:16:47 2025 AUC 0.923467404559509\n",
      "\n",
      "[mbo] 36: num_iterations=500; learning_rate=0.0787; feature_fraction=0.794; num_leaves=570; max_depth=6 : y = 0.923 : 70.9 secs : infill_ei\n",
      "\n",
      "Saved the current state after iteration 37 in the file bayesiana.RDATA.\n",
      "\n",
      "Fri Jul 25 15:18:04 2025 AUC 0.924848549165739\n",
      "\n",
      "[mbo] 37: num_iterations=500; learning_rate=0.0995; feature_fraction=0.403; num_leaves=9; max_depth=9 : y = 0.925 : 72.9 secs : infill_ei\n",
      "\n",
      "Fri Jul 25 15:19:13 2025 AUC 0.924817208397995\n",
      "\n",
      "[mbo] 38: num_iterations=500; learning_rate=0.1; feature_fraction=0.795; num_leaves=13; max_depth=10 : y = 0.925 : 68.3 secs : infill_ei\n",
      "\n",
      "Fri Jul 25 15:19:56 2025 AUC 0.922543164595426\n",
      "\n",
      "[mbo] 39: num_iterations=370; learning_rate=0.0899; feature_fraction=0.372; num_leaves=8; max_depth=7 : y = 0.923 : 41.9 secs : infill_ei\n",
      "\n",
      "Fri Jul 25 15:21:05 2025 AUC 0.921530410218979\n",
      "\n",
      "[mbo] 40: num_iterations=500; learning_rate=0.0718; feature_fraction=0.406; num_leaves=8; max_depth=5 : y = 0.922 : 68.2 secs : infill_ei\n",
      "\n",
      "Fri Jul 25 15:22:18 2025 AUC 0.924820241591119\n",
      "\n",
      "[mbo] 41: num_iterations=500; learning_rate=0.0885; feature_fraction=0.711; num_leaves=1024; max_depth=8 : y = 0.925 : 72.1 secs : infill_ei\n",
      "\n",
      "Fri Jul 25 15:23:31 2025 AUC 0.924368417822417\n",
      "\n",
      "[mbo] 42: num_iterations=495; learning_rate=0.1; feature_fraction=0.645; num_leaves=1023; max_depth=9 : y = 0.924 : 72.3 secs : infill_ei\n",
      "\n",
      "Fri Jul 25 15:24:44 2025 AUC 0.924693065841386\n",
      "\n",
      "[mbo] 43: num_iterations=500; learning_rate=0.0914; feature_fraction=0.753; num_leaves=883; max_depth=9 : y = 0.925 : 72.0 secs : infill_ei\n",
      "\n",
      "Fri Jul 25 15:25:57 2025 AUC 0.924507759800051\n",
      "\n",
      "[mbo] 44: num_iterations=500; learning_rate=0.0999; feature_fraction=0.743; num_leaves=846; max_depth=8 : y = 0.925 : 72.3 secs : infill_ei\n",
      "\n",
      "Fri Jul 25 15:27:00 2025 AUC 0.924583217402192\n",
      "\n",
      "[mbo] 45: num_iterations=463; learning_rate=0.0899; feature_fraction=0.8; num_leaves=1024; max_depth=10 : y = 0.925 : 62.6 secs : infill_ei\n",
      "\n",
      "Saved the current state after iteration 46 in the file bayesiana.RDATA.\n",
      "\n",
      "Fri Jul 25 15:28:13 2025 AUC 0.923321431581185\n",
      "\n",
      "[mbo] 46: num_iterations=500; learning_rate=0.0816; feature_fraction=0.799; num_leaves=13; max_depth=8 : y = 0.923 : 68.1 secs : infill_ei\n",
      "\n",
      "Fri Jul 25 15:29:33 2025 AUC 0.924638120083403\n",
      "\n",
      "[mbo] 47: num_iterations=500; learning_rate=0.1; feature_fraction=0.325; num_leaves=625; max_depth=10 : y = 0.925 : 79.6 secs : infill_ei\n",
      "\n",
      "Fri Jul 25 15:30:39 2025 AUC 0.922625537354922\n",
      "\n",
      "[mbo] 48: num_iterations=483; learning_rate=0.1; feature_fraction=0.266; num_leaves=621; max_depth=4 : y = 0.923 : 64.4 secs : infill_ei\n",
      "\n",
      "Fri Jul 25 15:31:52 2025 AUC 0.924164993945439\n",
      "\n",
      "[mbo] 49: num_iterations=500; learning_rate=0.0935; feature_fraction=0.746; num_leaves=944; max_depth=7 : y = 0.924 : 72.0 secs : infill_ei\n",
      "\n",
      "Fri Jul 25 15:33:07 2025 AUC 0.923904323651961\n",
      "\n",
      "[mbo] 50: num_iterations=500; learning_rate=0.089; feature_fraction=0.799; num_leaves=608; max_depth=8 : y = 0.924 : 74.2 secs : infill_ei\n",
      "\n",
      "Saved the final state in the file bayesiana.RDATA\n",
      "\n"
     ]
    }
   ],
   "source": [
    "# inicio la optimizacion bayesiana, retomando si ya existe\n",
    "# es la celda mas lenta de todo el notebook\n",
    "\n",
    "if (!file.exists(kbayesiana)) {\n",
    "  bayesiana_salida <- mbo(obj.fun, learner= surr.km, control= ctrl)\n",
    "} else {\n",
    "  bayesiana_salida <- mboContinue(kbayesiana) # retomo en caso que ya exista\n",
    "}"
   ]
  },
  {
   "cell_type": "code",
   "execution_count": 87,
   "metadata": {
    "id": "ssk5nnMk6INK"
   },
   "outputs": [
    {
     "data": {
      "text/html": [
       "<style>\n",
       ".list-inline {list-style: none; margin:0; padding: 0}\n",
       ".list-inline>li {display: inline-block}\n",
       ".list-inline>li:not(:last-child)::after {content: \"\\00b7\"; padding: 0 .5ex}\n",
       "</style>\n",
       "<ol class=list-inline><li>'num_iterations'</li><li>'learning_rate'</li><li>'feature_fraction'</li><li>'num_leaves'</li><li>'max_depth'</li><li>'y'</li><li>'dob'</li><li>'eol'</li><li>'error.message'</li><li>'exec.time'</li><li>'ei'</li><li>'error.model'</li><li>'train.time'</li><li>'prop.type'</li><li>'propose.time'</li><li>'se'</li><li>'mean'</li></ol>\n"
      ],
      "text/latex": [
       "\\begin{enumerate*}\n",
       "\\item 'num\\_iterations'\n",
       "\\item 'learning\\_rate'\n",
       "\\item 'feature\\_fraction'\n",
       "\\item 'num\\_leaves'\n",
       "\\item 'max\\_depth'\n",
       "\\item 'y'\n",
       "\\item 'dob'\n",
       "\\item 'eol'\n",
       "\\item 'error.message'\n",
       "\\item 'exec.time'\n",
       "\\item 'ei'\n",
       "\\item 'error.model'\n",
       "\\item 'train.time'\n",
       "\\item 'prop.type'\n",
       "\\item 'propose.time'\n",
       "\\item 'se'\n",
       "\\item 'mean'\n",
       "\\end{enumerate*}\n"
      ],
      "text/markdown": [
       "1. 'num_iterations'\n",
       "2. 'learning_rate'\n",
       "3. 'feature_fraction'\n",
       "4. 'num_leaves'\n",
       "5. 'max_depth'\n",
       "6. 'y'\n",
       "7. 'dob'\n",
       "8. 'eol'\n",
       "9. 'error.message'\n",
       "10. 'exec.time'\n",
       "11. 'ei'\n",
       "12. 'error.model'\n",
       "13. 'train.time'\n",
       "14. 'prop.type'\n",
       "15. 'propose.time'\n",
       "16. 'se'\n",
       "17. 'mean'\n",
       "\n",
       "\n"
      ],
      "text/plain": [
       " [1] \"num_iterations\"   \"learning_rate\"    \"feature_fraction\" \"num_leaves\"      \n",
       " [5] \"max_depth\"        \"y\"                \"dob\"              \"eol\"             \n",
       " [9] \"error.message\"    \"exec.time\"        \"ei\"               \"error.model\"     \n",
       "[13] \"train.time\"       \"prop.type\"        \"propose.time\"     \"se\"              \n",
       "[17] \"mean\"            "
      ]
     },
     "metadata": {},
     "output_type": "display_data"
    }
   ],
   "source": [
    "\n",
    "tb_bayesiana <- as.data.table(bayesiana_salida$opt.path)\n",
    "colnames( tb_bayesiana)"
   ]
  },
  {
   "cell_type": "code",
   "execution_count": 88,
   "metadata": {
    "id": "u4zq-vknhjGc"
   },
   "outputs": [],
   "source": [
    "# almaceno los resultados de la Bayesian Optimization\n",
    "# y capturo los mejores hiperparametros encontrados\n",
    "\n",
    "tb_bayesiana <- as.data.table(bayesiana_salida$opt.path)\n",
    "\n",
    "tb_bayesiana[, iter := .I]\n",
    "\n",
    "# ordeno en forma descendente por AUC = y\n",
    "setorder(tb_bayesiana, -y)\n",
    "\n",
    "# grabo para eventualmente poder utilizarlos en OTRA corrida\n",
    "fwrite( tb_bayesiana,\n",
    "  file= \"BO_log.txt\",\n",
    "  sep= \"\\t\"\n",
    ")\n",
    "\n",
    "# los mejores hiperparámetros son los que quedaron en el registro 1 de la tabla\n",
    "PARAM$out$lgbm$mejores_hiperparametros <- tb_bayesiana[\n",
    "  1, # el primero es el de mejor AUC\n",
    "  setdiff(colnames(tb_bayesiana),\n",
    "    c(\"y\",\"dob\",\"eol\",\"error.message\",\"exec.time\",\"ei\",\"error.model\",\n",
    "      \"train.time\",\"prop.type\",\"propose.time\",\"se\",\"mean\",\"iter\")),\n",
    "  with= FALSE\n",
    "]\n",
    "\n",
    "\n",
    "PARAM$out$lgbm$y <- tb_bayesiana[1, y]\n"
   ]
  },
  {
   "cell_type": "code",
   "execution_count": 89,
   "metadata": {
    "id": "E8v2eA427N8e"
   },
   "outputs": [],
   "source": [
    "write_yaml( PARAM, file=\"PARAM.yml\")"
   ]
  },
  {
   "cell_type": "code",
   "execution_count": 90,
   "metadata": {
    "id": "iBTWexVU7PGC"
   },
   "outputs": [
    {
     "name": "stdout",
     "output_type": "stream",
     "text": [
      "   num_iterations learning_rate feature_fraction num_leaves max_depth\n",
      "            <int>         <num>            <num>      <int>     <int>\n",
      "1:            500     0.0999005        0.7989359         10         8\n",
      "[1] 0.9258013\n"
     ]
    }
   ],
   "source": [
    "print(PARAM$out$lgbm$mejores_hiperparametros)\n",
    "print(PARAM$out$lgbm$y)"
   ]
  },
  {
   "cell_type": "markdown",
   "metadata": {
    "id": "TKsVZmAnhwX-"
   },
   "source": [
    "## 2.3  Produccion"
   ]
  },
  {
   "cell_type": "markdown",
   "metadata": {
    "id": "RQ_C33Tr5B_9"
   },
   "source": [
    "### Final Training\n",
    "Construyo el modelo final, que es uno solo, no hace ningun tipo de particion < training, validation, testing>]"
   ]
  },
  {
   "cell_type": "code",
   "execution_count": 91,
   "metadata": {
    "id": "eDqfyA14hzwv"
   },
   "outputs": [],
   "source": [
    "setwd(\"/content/buckets/b1/exp\")\n",
    "experimento <- paste0(\"exp\", PARAM$experimento)\n",
    "dir.create(experimento, showWarnings= FALSE)\n",
    "setwd( paste0(\"/content/buckets/b1/exp/\", experimento ))"
   ]
  },
  {
   "cell_type": "markdown",
   "metadata": {
    "id": "8qFmFivf5Iet"
   },
   "source": [
    "#### Final Training Dataset\n",
    "\n",
    "Aqui esta la gran decision de en qué meses hago el Final Training\n",
    "<br> debo utilizar los mejores hiperparámetros que encontré en la optimización bayesiana"
   ]
  },
  {
   "cell_type": "code",
   "execution_count": 92,
   "metadata": {
    "id": "lg5WVZncvc7H"
   },
   "outputs": [],
   "source": [
    "# clase01\n",
    "dataset[, clase01 := ifelse(clase_ternaria %in% c(\"BAJA+1\", \"BAJA+2\"), 1L, 0L)]"
   ]
  },
  {
   "cell_type": "code",
   "execution_count": 93,
   "metadata": {
    "id": "yc9QzXREv0xf"
   },
   "outputs": [],
   "source": [
    "dataset_train <- dataset[foto_mes %in% c(202107)]"
   ]
  },
  {
   "cell_type": "code",
   "execution_count": 94,
   "metadata": {
    "id": "thjdqEBLuvNt"
   },
   "outputs": [],
   "source": [
    "# dejo los datos en el formato que necesita LightGBM\n",
    "\n",
    "dtrain <- lgb.Dataset(\n",
    "  data= data.matrix(dataset_train[, campos_buenos, with= FALSE]),\n",
    "  label= dataset_train[, clase01]\n",
    ")"
   ]
  },
  {
   "cell_type": "markdown",
   "metadata": {
    "id": "VNUa-WSz5Oqu"
   },
   "source": [
    "#### Final Training Hyperparameters"
   ]
  },
  {
   "cell_type": "code",
   "execution_count": 95,
   "metadata": {
    "id": "FgCcvBfEwImu"
   },
   "outputs": [
    {
     "data": {
      "text/html": [
       "<dl>\n",
       "\t<dt>$boosting</dt>\n",
       "\t\t<dd>'dart'</dd>\n",
       "\t<dt>$objective</dt>\n",
       "\t\t<dd>'binary'</dd>\n",
       "\t<dt>$metric</dt>\n",
       "\t\t<dd>'auc'</dd>\n",
       "\t<dt>$first_metric_only</dt>\n",
       "\t\t<dd>FALSE</dd>\n",
       "\t<dt>$boost_from_average</dt>\n",
       "\t\t<dd>TRUE</dd>\n",
       "\t<dt>$feature_pre_filter</dt>\n",
       "\t\t<dd>FALSE</dd>\n",
       "\t<dt>$force_row_wise</dt>\n",
       "\t\t<dd>TRUE</dd>\n",
       "\t<dt>$verbosity</dt>\n",
       "\t\t<dd>-100</dd>\n",
       "\t<dt>$seed</dt>\n",
       "\t\t<dd>123457</dd>\n",
       "\t<dt>$max_depth</dt>\n",
       "\t\t<dd>8</dd>\n",
       "\t<dt>$min_gain_to_split</dt>\n",
       "\t\t<dd>0</dd>\n",
       "\t<dt>$min_sum_hessian_in_leaf</dt>\n",
       "\t\t<dd>0.001</dd>\n",
       "\t<dt>$lambda_l1</dt>\n",
       "\t\t<dd>0</dd>\n",
       "\t<dt>$lambda_l2</dt>\n",
       "\t\t<dd>0</dd>\n",
       "\t<dt>$max_bin</dt>\n",
       "\t\t<dd>31</dd>\n",
       "\t<dt>$bagging_fraction</dt>\n",
       "\t\t<dd>1</dd>\n",
       "\t<dt>$pos_bagging_fraction</dt>\n",
       "\t\t<dd>1</dd>\n",
       "\t<dt>$neg_bagging_fraction</dt>\n",
       "\t\t<dd>1</dd>\n",
       "\t<dt>$is_unbalance</dt>\n",
       "\t\t<dd>FALSE</dd>\n",
       "\t<dt>$scale_pos_weight</dt>\n",
       "\t\t<dd>1</dd>\n",
       "\t<dt>$drop_rate</dt>\n",
       "\t\t<dd>0.1</dd>\n",
       "\t<dt>$max_drop</dt>\n",
       "\t\t<dd>50</dd>\n",
       "\t<dt>$skip_drop</dt>\n",
       "\t\t<dd>0.5</dd>\n",
       "\t<dt>$extra_trees</dt>\n",
       "\t\t<dd>FALSE</dd>\n",
       "\t<dt>$num_iterations</dt>\n",
       "\t\t<dd>500</dd>\n",
       "\t<dt>$learning_rate</dt>\n",
       "\t\t<dd>0.0999004963972798</dd>\n",
       "\t<dt>$feature_fraction</dt>\n",
       "\t\t<dd>0.798935911559484</dd>\n",
       "\t<dt>$num_leaves</dt>\n",
       "\t\t<dd>10</dd>\n",
       "\t<dt>$min_data_in_leaf</dt>\n",
       "\t\t<dd>5000</dd>\n",
       "</dl>\n"
      ],
      "text/latex": [
       "\\begin{description}\n",
       "\\item[\\$boosting] 'dart'\n",
       "\\item[\\$objective] 'binary'\n",
       "\\item[\\$metric] 'auc'\n",
       "\\item[\\$first\\_metric\\_only] FALSE\n",
       "\\item[\\$boost\\_from\\_average] TRUE\n",
       "\\item[\\$feature\\_pre\\_filter] FALSE\n",
       "\\item[\\$force\\_row\\_wise] TRUE\n",
       "\\item[\\$verbosity] -100\n",
       "\\item[\\$seed] 123457\n",
       "\\item[\\$max\\_depth] 8\n",
       "\\item[\\$min\\_gain\\_to\\_split] 0\n",
       "\\item[\\$min\\_sum\\_hessian\\_in\\_leaf] 0.001\n",
       "\\item[\\$lambda\\_l1] 0\n",
       "\\item[\\$lambda\\_l2] 0\n",
       "\\item[\\$max\\_bin] 31\n",
       "\\item[\\$bagging\\_fraction] 1\n",
       "\\item[\\$pos\\_bagging\\_fraction] 1\n",
       "\\item[\\$neg\\_bagging\\_fraction] 1\n",
       "\\item[\\$is\\_unbalance] FALSE\n",
       "\\item[\\$scale\\_pos\\_weight] 1\n",
       "\\item[\\$drop\\_rate] 0.1\n",
       "\\item[\\$max\\_drop] 50\n",
       "\\item[\\$skip\\_drop] 0.5\n",
       "\\item[\\$extra\\_trees] FALSE\n",
       "\\item[\\$num\\_iterations] 500\n",
       "\\item[\\$learning\\_rate] 0.0999004963972798\n",
       "\\item[\\$feature\\_fraction] 0.798935911559484\n",
       "\\item[\\$num\\_leaves] 10\n",
       "\\item[\\$min\\_data\\_in\\_leaf] 5000\n",
       "\\end{description}\n"
      ],
      "text/markdown": [
       "$boosting\n",
       ":   'dart'\n",
       "$objective\n",
       ":   'binary'\n",
       "$metric\n",
       ":   'auc'\n",
       "$first_metric_only\n",
       ":   FALSE\n",
       "$boost_from_average\n",
       ":   TRUE\n",
       "$feature_pre_filter\n",
       ":   FALSE\n",
       "$force_row_wise\n",
       ":   TRUE\n",
       "$verbosity\n",
       ":   -100\n",
       "$seed\n",
       ":   123457\n",
       "$max_depth\n",
       ":   8\n",
       "$min_gain_to_split\n",
       ":   0\n",
       "$min_sum_hessian_in_leaf\n",
       ":   0.001\n",
       "$lambda_l1\n",
       ":   0\n",
       "$lambda_l2\n",
       ":   0\n",
       "$max_bin\n",
       ":   31\n",
       "$bagging_fraction\n",
       ":   1\n",
       "$pos_bagging_fraction\n",
       ":   1\n",
       "$neg_bagging_fraction\n",
       ":   1\n",
       "$is_unbalance\n",
       ":   FALSE\n",
       "$scale_pos_weight\n",
       ":   1\n",
       "$drop_rate\n",
       ":   0.1\n",
       "$max_drop\n",
       ":   50\n",
       "$skip_drop\n",
       ":   0.5\n",
       "$extra_trees\n",
       ":   FALSE\n",
       "$num_iterations\n",
       ":   500\n",
       "$learning_rate\n",
       ":   0.0999004963972798\n",
       "$feature_fraction\n",
       ":   0.798935911559484\n",
       "$num_leaves\n",
       ":   10\n",
       "$min_data_in_leaf\n",
       ":   5000\n",
       "\n",
       "\n"
      ],
      "text/plain": [
       "$boosting\n",
       "[1] \"dart\"\n",
       "\n",
       "$objective\n",
       "[1] \"binary\"\n",
       "\n",
       "$metric\n",
       "[1] \"auc\"\n",
       "\n",
       "$first_metric_only\n",
       "[1] FALSE\n",
       "\n",
       "$boost_from_average\n",
       "[1] TRUE\n",
       "\n",
       "$feature_pre_filter\n",
       "[1] FALSE\n",
       "\n",
       "$force_row_wise\n",
       "[1] TRUE\n",
       "\n",
       "$verbosity\n",
       "[1] -100\n",
       "\n",
       "$seed\n",
       "[1] 123457\n",
       "\n",
       "$max_depth\n",
       "[1] 8\n",
       "\n",
       "$min_gain_to_split\n",
       "[1] 0\n",
       "\n",
       "$min_sum_hessian_in_leaf\n",
       "[1] 0.001\n",
       "\n",
       "$lambda_l1\n",
       "[1] 0\n",
       "\n",
       "$lambda_l2\n",
       "[1] 0\n",
       "\n",
       "$max_bin\n",
       "[1] 31\n",
       "\n",
       "$bagging_fraction\n",
       "[1] 1\n",
       "\n",
       "$pos_bagging_fraction\n",
       "[1] 1\n",
       "\n",
       "$neg_bagging_fraction\n",
       "[1] 1\n",
       "\n",
       "$is_unbalance\n",
       "[1] FALSE\n",
       "\n",
       "$scale_pos_weight\n",
       "[1] 1\n",
       "\n",
       "$drop_rate\n",
       "[1] 0.1\n",
       "\n",
       "$max_drop\n",
       "[1] 50\n",
       "\n",
       "$skip_drop\n",
       "[1] 0.5\n",
       "\n",
       "$extra_trees\n",
       "[1] FALSE\n",
       "\n",
       "$num_iterations\n",
       "[1] 500\n",
       "\n",
       "$learning_rate\n",
       "[1] 0.0999005\n",
       "\n",
       "$feature_fraction\n",
       "[1] 0.7989359\n",
       "\n",
       "$num_leaves\n",
       "[1] 10\n",
       "\n",
       "$min_data_in_leaf\n",
       "[1] 5000\n"
      ]
     },
     "metadata": {},
     "output_type": "display_data"
    }
   ],
   "source": [
    "param_final <- modifyList(PARAM$lgbm$param_fijos,\n",
    "  PARAM$out$lgbm$mejores_hiperparametros)\n",
    "\n",
    "param_final"
   ]
  },
  {
   "cell_type": "markdown",
   "metadata": {
    "id": "TZIYn4l95TBH"
   },
   "source": [
    "#### Training\n",
    "Genero el modelo final, siempre sobre TODOS los datos de  final_train, sin hacer ningun tipo de undersampling de la clase mayoritaria"
   ]
  },
  {
   "cell_type": "code",
   "execution_count": 96,
   "metadata": {
    "id": "vPLsd4mMRe4u"
   },
   "outputs": [],
   "source": [
    "# este punto es muy SUTIL  y será revisado en la Clase 05\n",
    "\n",
    "param_normalizado <- copy(param_final)\n",
    "param_normalizado$min_data_in_leaf <-  param_final$min_data_in_leaf / PARAM$trainingstrategy$undersampling"
   ]
  },
  {
   "cell_type": "code",
   "execution_count": 97,
   "metadata": {
    "id": "WRI_-taRwOXO"
   },
   "outputs": [],
   "source": [
    "  # entreno LightGBM\n",
    "\n",
    "  modelo_final <- lgb.train(\n",
    "    data= dtrain,\n",
    "    param= param_normalizado\n",
    "  )"
   ]
  },
  {
   "cell_type": "code",
   "execution_count": 99,
   "metadata": {
    "id": "_bkhnCvj0g3Q"
   },
   "outputs": [],
   "source": [
    "# ahora imprimo la importancia de variables\n",
    "\n",
    "tb_importancia <- as.data.table(lgb.importance(modelo_final))\n",
    "archivo_importancia <- \"impo.txt\"\n",
    "\n",
    "fwrite(tb_importancia,\n",
    "  file= archivo_importancia,\n",
    "  sep= \"\\t\"\n",
    ")"
   ]
  },
  {
   "cell_type": "code",
   "execution_count": 100,
   "metadata": {
    "id": "lZ3sLmbh0kFj"
   },
   "outputs": [],
   "source": [
    "# grabo a disco el modelo en un formato para seres humanos ... ponele ...\n",
    "\n",
    "lgb.save(modelo_final, \"modelo.txt\" )"
   ]
  },
  {
   "cell_type": "markdown",
   "metadata": {
    "id": "VEtp2--t5Ymg"
   },
   "source": [
    "### Scoring"
   ]
  },
  {
   "cell_type": "markdown",
   "metadata": {
    "id": "hI5008Mj5ZdI"
   },
   "source": [
    "Aplico el modelo final a los datos del futuro"
   ]
  },
  {
   "cell_type": "code",
   "execution_count": 101,
   "metadata": {
    "id": "PimBY3N_0ryP"
   },
   "outputs": [],
   "source": [
    "# aplico el modelo a los datos sin clase\n",
    "dfuture <- dataset[foto_mes == 202109]\n",
    "\n",
    "# aplico el modelo a los datos nuevos\n",
    "prediccion <- predict(\n",
    "  modelo_final,\n",
    "  data.matrix(dfuture[, campos_buenos, with= FALSE])\n",
    ")"
   ]
  },
  {
   "cell_type": "markdown",
   "metadata": {
    "id": "D26rNRh55gpw"
   },
   "source": [
    "#### Tabla Prediccion"
   ]
  },
  {
   "cell_type": "code",
   "execution_count": 102,
   "metadata": {
    "id": "RJwg7LHd11yu"
   },
   "outputs": [],
   "source": [
    "# tabla de prediccion\n",
    "\n",
    "tb_prediccion <- dfuture[, list(numero_de_cliente)]\n",
    "tb_prediccion[, prob := prediccion ]\n",
    "\n",
    "# grabo las probabilidad del modelo\n",
    "fwrite(tb_prediccion,\n",
    "  file= \"prediccion.txt\",\n",
    "  sep= \"\\t\"\n",
    ")"
   ]
  },
  {
   "cell_type": "markdown",
   "metadata": {
    "id": "jOt4eG_55ltv"
   },
   "source": [
    "Kaggle Competition Submit"
   ]
  },
  {
   "cell_type": "code",
   "execution_count": 103,
   "metadata": {
    "id": "gWW3tatE12je"
   },
   "outputs": [
    {
     "name": "stdout",
     "output_type": "stream",
     "text": [
      "Successfully submitted to Data Mining, Analista Sr 2025A \n",
      "Successfully submitted to Data Mining, Analista Sr 2025A \n",
      "Successfully submitted to Data Mining, Analista Sr 2025A \n",
      "Successfully submitted to Data Mining, Analista Sr 2025A \n",
      "Successfully submitted to Data Mining, Analista Sr 2025A \n"
     ]
    }
   ],
   "source": [
    "# genero archivos con los  \"envios\" mejores\n",
    "# suba TODOS los archivos a Kaggle\n",
    "\n",
    "# ordeno por probabilidad descendente\n",
    "setorder(tb_prediccion, -prob)\n",
    "\n",
    "dir.create(\"kaggle\")\n",
    "\n",
    "for (envios in PARAM$kaggle$cortes) {\n",
    "\n",
    "  tb_prediccion[, Predicted := 0L] # seteo inicial a 0\n",
    "  tb_prediccion[1:envios, Predicted := 1L] # marclo los primeros\n",
    "\n",
    "  archivo_kaggle <- paste0(\"./kaggle/KA\", PARAM$experimento, \"_\", envios, \".csv\")\n",
    "\n",
    "  # grabo el archivo\n",
    "  fwrite(tb_prediccion[, list(numero_de_cliente, Predicted)],\n",
    "    file= archivo_kaggle,\n",
    "    sep= \",\"\n",
    "  )\n",
    "\n",
    "  # subida a Kaggle, armo la linea de comando\n",
    "  comando <- \"kaggle competitions submit\"\n",
    "  competencia <- paste(\"-c\", PARAM$kaggle$competencia)\n",
    "  arch <- paste( \"-f\", archivo_kaggle)\n",
    "\n",
    "  mensaje <- paste0(\"-m 'envios=\", envios,\n",
    "  \"  semilla=\", PARAM$semilla_primigenia,\n",
    "    \"'\" )\n",
    "\n",
    "  linea <- paste( comando, competencia, arch, mensaje)\n",
    "\n",
    "  salida <- system(linea, intern=TRUE) # el submit a Kaggle\n",
    "  cat(salida, \"\\n\")\n",
    "}"
   ]
  },
  {
   "cell_type": "code",
   "execution_count": 104,
   "metadata": {
    "id": "B9tB2X4439Hg"
   },
   "outputs": [],
   "source": [
    "write_yaml( PARAM, file=\"PARAM.yml\")"
   ]
  },
  {
   "cell_type": "code",
   "execution_count": 105,
   "metadata": {
    "id": "9zA_W25c15DP"
   },
   "outputs": [
    {
     "data": {
      "text/html": [
       "'Fri Jul 25 15:41:40 2025'"
      ],
      "text/latex": [
       "'Fri Jul 25 15:41:40 2025'"
      ],
      "text/markdown": [
       "'Fri Jul 25 15:41:40 2025'"
      ],
      "text/plain": [
       "[1] \"Fri Jul 25 15:41:40 2025\""
      ]
     },
     "metadata": {},
     "output_type": "display_data"
    }
   ],
   "source": [
    "format(Sys.time(), \"%a %b %d %X %Y\")"
   ]
  },
  {
   "cell_type": "markdown",
   "metadata": {
    "id": "UdVZucdLHzZ0"
   },
   "source": [
    "Finalmente usted deberá cargar el resultado de su corrida en la Google Sheet Colaborativa,  hoja **TareaHogar04**\n",
    "<br> Siéntase libre de agregar las columnas que hagan falta a la planilla"
   ]
  },
  {
   "cell_type": "code",
   "execution_count": null,
   "metadata": {
    "id": "WMHh7uNVIJkT"
   },
   "outputs": [],
   "source": []
  }
 ],
 "metadata": {
  "colab": {
   "provenance": []
  },
  "kernelspec": {
   "display_name": "R",
   "language": "R",
   "name": "ir"
  },
  "language_info": {
   "codemirror_mode": "r",
   "file_extension": ".r",
   "mimetype": "text/x-r-source",
   "name": "R",
   "pygments_lexer": "r",
   "version": "4.4.3"
  }
 },
 "nbformat": 4,
 "nbformat_minor": 4
}
