{
 "cells": [
  {
   "cell_type": "markdown",
   "metadata": {
    "id": "0cEmzeUKFkPh"
   },
   "source": [
    "# Tarea para el Hogar 04"
   ]
  },
  {
   "cell_type": "markdown",
   "metadata": {
    "id": "nSICPpyTGQmC"
   },
   "source": [
    "Esta Tarea para el Hogar 02 se entrega el final de la cuarta clase\n",
    "<br> se espera de usted que intente avanzar con los desafios propuestos y que los traiga terminados para la Clase 05 que será el viernes 01-agosto"
   ]
  },
  {
   "cell_type": "markdown",
   "metadata": {
    "id": "DenyKXkiJ5JN"
   },
   "source": [
    "##  1. Cazatalentos"
   ]
  },
  {
   "cell_type": "markdown",
   "metadata": {
    "id": "l-K2_ZsZGrVD"
   },
   "source": [
    "En la Clase 03 nos hemos enfrentado a  \"La Maldicion del Ganandor\",  elegir el modelo con el mejor puntaje simple no suele ser la mejor estrategia.\n",
    "<br> Lea y ejecute el notebook  **src/CazaTalentos/CazaTalentos.ipynb**\n",
    "<br> en caso de interesarle, participe del Desafío Ordenamiento  que vence el sábado 02 de agosto a las 19:00"
   ]
  },
  {
   "cell_type": "markdown",
   "metadata": {
    "id": "K9GkTOk5J9t3"
   },
   "source": [
    "## 2. Hiperparámetros del LightGBM"
   ]
  },
  {
   "cell_type": "markdown",
   "metadata": {
    "id": "VmEFy0ukKL5T"
   },
   "source": [
    "Los objetivos de esta tarea son:\n",
    "\n",
    "\n",
    "*   Aumentar la rentabilidad de la campaña de marketing de retención proactiva de clientes.\n",
    "*   Generar un mejor modelo optimizando sus hiperparámetros\n",
    "*   Conceptual : investigar los mas relevantes hiperparámetros de LightGBM\n",
    "*   Familiarizarse con la Bayesian Optimization, sus largos tiempos de corrida y opciones para reducirlos\n",
    "*   Familiarizarse con el uso de máquinas virtuales de Google Colab\n",
    "*   Ver un pipeline completo de optimización de hiperparámetros y puesta en producción"
   ]
  },
  {
   "cell_type": "markdown",
   "metadata": {
    "id": "5yvlS6JQLRMd"
   },
   "source": [
    "LightGBM cuenta con mas de 60 hiperparámetros, siendo posible utilizar 40 al mismo tiempo, aunque no razonable.\n",
    "<br> La documentación oficial de los hiperparámetros de LightGBM es  https://lightgbm.readthedocs.io/en/latest/Parameters.html#core-parameters\n"
   ]
  },
  {
   "cell_type": "markdown",
   "metadata": {
    "id": "eydI4YNAsFaf"
   },
   "source": [
    "Se lo alerta sobre que una Optimizacion Bayesiana lleva varias horas de corrida, y usted deberá correr VARIAS optimizaciones para descubrir cuales parámetros conviene optimizar.\n",
    "<br> A pesar que la próxima clase es recien en viernes 01 de agosto, inicie la tarea con tiempo, aprenda a planificar estratégicamente sus corridas como un@ científ@  de datos."
   ]
  },
  {
   "cell_type": "markdown",
   "metadata": {
    "id": "RzU4S0SeMcpp"
   },
   "source": [
    "Es necesario investigar cuales son los hiperparámetros de LightGBM que vale la pena optimizar en una Bayesian Optimization, ya que los realmente utiles son apenas un reducido subconjunto.\n",
    "<br>Usted deberá investigar cuales son los hiperparámetros mas relevantes de LightGBM, su primer alternativa es preguntándole a su amigo con capacidades especiales ChatGPT o sus endogámicos familiares Claude, DeepSeek, Gemini, Grok, etc\n",
    "<br> La segunda alternativa es la propia documentación de LightGBM  https://lightgbm.readthedocs.io/en/latest/Parameters-Tuning.html\n"
   ]
  },
  {
   "cell_type": "markdown",
   "metadata": {
    "id": "LNptUgI_NWWG"
   },
   "source": [
    "Adicionalmente podra buscar información como la que proveen esta diminuta muestra aleatoria de artículos ligeros:\n",
    "*  https://medium.com/@sarahzouinina/a-deep-dive-into-lightgbm-how-to-choose-and-tune-parameters-7c584945842e\n",
    "*  https://www.kaggle.com/code/somang1418/tuning-hyperparameters-under-10-minutes-lgbm\n",
    "*  https://towardsdatascience.com/beginners-guide-to-the-must-know-lightgbm-hyperparameters-a0005a812702/\n",
    "\n",
    "\n",
    "<br>  La muestra anterior se brinda a modo de ejemplo, usted deberá buscar muuuuchas  fuentes adicionales de información\n",
    "<br> Tenga presente que LightGBM es el estado del arte en modelado predictivo para datasets estructurado, que son el 90% del trabajo del 95% de los Data Scientists en Argentina."
   ]
  },
  {
   "cell_type": "markdown",
   "metadata": {
    "id": "WpUThBojODyK"
   },
   "source": [
    "El desafío de esta tarea es:\n",
    "* Qué hiperparparámetros conviene optimizar?  Las recomendaciones de los artículos ligeros es siempre sensata?  Sus autores realmente hicieron experimentos o son siemplemente escritores de entretenimiento carente de base científica?\n",
    "* Elegidos los hiperparámetros, cual es el  <desde, hasta> que se debe utilizar en la Bayesian Optimization ?\n",
    "* Realmente vale la pena optimizar 10 o 16 hiperparámetros al mismo tiempo ?  No resulta contraproducente una búsqueda en un espacio de tal alta dimensionalidad ?"
   ]
  },
  {
   "cell_type": "markdown",
   "metadata": {
    "id": "PX0qg_c0yqob"
   },
   "source": [
    "#### 2.1  Seteo del ambiente en Google Colab"
   ]
  },
  {
   "cell_type": "markdown",
   "metadata": {
    "id": "NGY7H9xza7Zr"
   },
   "source": [
    "Esta parte se debe correr con el runtime en Python3\n",
    "<br>Ir al menu, Runtime -> Change Runtime Type -> Runtime type ->  **Python 3**"
   ]
  },
  {
   "cell_type": "markdown",
   "metadata": {
    "id": "7PupIBNba7Zr"
   },
   "source": [
    "Conectar la virtual machine donde esta corriendo Google Colab con el  Google Drive, para poder tener persistencia de archivos"
   ]
  },
  {
   "cell_type": "code",
   "execution_count": null,
   "metadata": {
    "id": "9LpZCst5a7Zs"
   },
   "outputs": [],
   "source": [
    "# primero establecer el Runtime de Python 3\n",
    "from google.colab import drive\n",
    "drive.mount('/content/.drive')"
   ]
  },
  {
   "cell_type": "markdown",
   "metadata": {
    "id": "JYC_F-wla7Zs"
   },
   "source": [
    "Para correr la siguiente celda es fundamental en Arranque en Frio haber copiado el archivo kaggle.json al Google Drive, en la carpeta indicada en el instructivo\n",
    "\n",
    "<br>los siguientes comando estan en shell script de Linux\n",
    "*   Crear las carpetas en el Google Drive\n",
    "*   \"instalar\" el archivo kaggle.json desde el Google Drive a la virtual machine para que pueda ser utilizado por la libreria  kaggle de Python\n",
    "*   Bajar el  **dataset_pequeno**  al  Google Drive  y tambien al disco local de la virtual machine que esta corriendo Google Colab\n",
    "\n"
   ]
  },
  {
   "cell_type": "code",
   "execution_count": null,
   "metadata": {
    "id": "XWLelftXa7Zt"
   },
   "outputs": [],
   "source": [
    "%%shell\n",
    "\n",
    "mkdir -p \"/content/.drive/My Drive/dm\"\n",
    "mkdir -p \"/content/buckets\"\n",
    "ln -s \"/content/.drive/My Drive/dm\" /content/buckets/b1\n",
    "\n",
    "mkdir -p ~/.kaggle\n",
    "cp /content/buckets/b1/kaggle/kaggle.json  ~/.kaggle\n",
    "chmod 600 ~/.kaggle/kaggle.json\n",
    "\n",
    "\n",
    "mkdir -p /content/buckets/b1/exp\n",
    "mkdir -p /content/buckets/b1/datasets\n",
    "mkdir -p /content/datasets\n",
    "\n",
    "\n",
    "\n",
    "archivo_origen=\"https://storage.googleapis.com/open-courses/itba2025-8d0a/dataset_pequeno.csv\"\n",
    "archivo_destino=\"/content/datasets/dataset_pequeno.csv\"\n",
    "archivo_destino_bucket=\"/content/buckets/b1/datasets/dataset_pequeno.csv\"\n",
    "\n",
    "if ! test -f $archivo_destino_bucket; then\n",
    "  wget  $archivo_origen  -O $archivo_destino_bucket\n",
    "fi\n",
    "\n",
    "\n",
    "if ! test -f $archivo_destino; then\n",
    "  cp  $archivo_destino_bucket  $archivo_destino\n",
    "fi\n"
   ]
  },
  {
   "cell_type": "markdown",
   "metadata": {
    "id": "oSKhZRToy2F7"
   },
   "source": [
    "### 2.2 Optimizacion Hiperparámetros"
   ]
  },
  {
   "cell_type": "markdown",
   "metadata": {
    "id": "2kwPpHAtSmix"
   },
   "source": [
    "Esta parte se debe correr con el runtime en lenguaje R Ir al menu, Runtime -> Change Runtime Type -> Runtime type -> R"
   ]
  },
  {
   "cell_type": "markdown",
   "metadata": {
    "id": "xp4-Bj3aYI8d"
   },
   "source": [
    "### 2.2.1 Inicio"
   ]
  },
  {
   "cell_type": "markdown",
   "metadata": {
    "id": "zy8YTZfESxeJ"
   },
   "source": [
    "limpio el ambiente de R"
   ]
  },
  {
   "cell_type": "code",
   "execution_count": 1,
   "metadata": {
    "id": "gBq__iAdQliq"
   },
   "outputs": [
    {
     "data": {
      "text/html": [
       "'Wed Jul 30 22:55:54 2025'"
      ],
      "text/latex": [
       "'Wed Jul 30 22:55:54 2025'"
      ],
      "text/markdown": [
       "'Wed Jul 30 22:55:54 2025'"
      ],
      "text/plain": [
       "[1] \"Wed Jul 30 22:55:54 2025\""
      ]
     },
     "metadata": {},
     "output_type": "display_data"
    }
   ],
   "source": [
    "format(Sys.time(), \"%a %b %d %X %Y\")"
   ]
  },
  {
   "cell_type": "code",
   "execution_count": 2,
   "metadata": {
    "id": "7rdVrBojS1IV"
   },
   "outputs": [
    {
     "data": {
      "text/html": [
       "<table class=\"dataframe\">\n",
       "<caption>A matrix: 2 × 6 of type dbl</caption>\n",
       "<thead>\n",
       "\t<tr><th></th><th scope=col>used</th><th scope=col>(Mb)</th><th scope=col>gc trigger</th><th scope=col>(Mb)</th><th scope=col>max used</th><th scope=col>(Mb)</th></tr>\n",
       "</thead>\n",
       "<tbody>\n",
       "\t<tr><th scope=row>Ncells</th><td> 656930</td><td>35.1</td><td>1439377</td><td>76.9</td><td>1431349</td><td>76.5</td></tr>\n",
       "\t<tr><th scope=row>Vcells</th><td>1225055</td><td> 9.4</td><td>8388608</td><td>64.0</td><td>1924963</td><td>14.7</td></tr>\n",
       "</tbody>\n",
       "</table>\n"
      ],
      "text/latex": [
       "A matrix: 2 × 6 of type dbl\n",
       "\\begin{tabular}{r|llllll}\n",
       "  & used & (Mb) & gc trigger & (Mb) & max used & (Mb)\\\\\n",
       "\\hline\n",
       "\tNcells &  656930 & 35.1 & 1439377 & 76.9 & 1431349 & 76.5\\\\\n",
       "\tVcells & 1225055 &  9.4 & 8388608 & 64.0 & 1924963 & 14.7\\\\\n",
       "\\end{tabular}\n"
      ],
      "text/markdown": [
       "\n",
       "A matrix: 2 × 6 of type dbl\n",
       "\n",
       "| <!--/--> | used | (Mb) | gc trigger | (Mb) | max used | (Mb) |\n",
       "|---|---|---|---|---|---|---|\n",
       "| Ncells |  656930 | 35.1 | 1439377 | 76.9 | 1431349 | 76.5 |\n",
       "| Vcells | 1225055 |  9.4 | 8388608 | 64.0 | 1924963 | 14.7 |\n",
       "\n"
      ],
      "text/plain": [
       "       used    (Mb) gc trigger (Mb) max used (Mb)\n",
       "Ncells  656930 35.1 1439377    76.9 1431349  76.5\n",
       "Vcells 1225055  9.4 8388608    64.0 1924963  14.7"
      ]
     },
     "metadata": {},
     "output_type": "display_data"
    }
   ],
   "source": [
    "# limpio la memoria\n",
    "rm(list=ls(all.names=TRUE)) # remove all objects\n",
    "gc(full=TRUE, verbose=FALSE) # garbage collection"
   ]
  },
  {
   "cell_type": "markdown",
   "metadata": {
    "id": "kuPfQ7ksjwW3"
   },
   "source": [
    "### 2.2.2 Carga de Librerias"
   ]
  },
  {
   "cell_type": "code",
   "execution_count": 3,
   "metadata": {
    "id": "lVyxLaJ1j1J_"
   },
   "outputs": [
    {
     "name": "stderr",
     "output_type": "stream",
     "text": [
      "Loading required package: data.table\n",
      "\n",
      "Loading required package: parallel\n",
      "\n",
      "Loading required package: primes\n",
      "\n",
      "Loading required package: rlist\n",
      "\n",
      "Loading required package: yaml\n",
      "\n",
      "Loading required package: lightgbm\n",
      "\n",
      "Loading required package: DiceKriging\n",
      "\n",
      "Loading required package: mlrMBO\n",
      "\n",
      "Loading required package: mlr\n",
      "\n",
      "Loading required package: ParamHelpers\n",
      "\n",
      "Loading required package: smoof\n",
      "\n",
      "Loading required package: checkmate\n",
      "\n",
      "\n",
      "Attaching package: ‘checkmate’\n",
      "\n",
      "\n",
      "The following object is masked from ‘package:DiceKriging’:\n",
      "\n",
      "    checkNames\n",
      "\n",
      "\n"
     ]
    }
   ],
   "source": [
    "# cargo las librerias que necesito\n",
    "require(\"data.table\")\n",
    "require(\"parallel\")\n",
    "\n",
    "if( !require(\"primes\") ) install.packages(\"primes\")\n",
    "require(\"primes\")\n",
    "\n",
    "if( !require(\"utils\") ) install.packages(\"utils\")\n",
    "require(\"utils\")\n",
    "\n",
    "if( !require(\"rlist\") ) install.packages(\"rlist\")\n",
    "require(\"rlist\")\n",
    "\n",
    "if( !require(\"yaml\")) install.packages(\"yaml\")\n",
    "require(\"yaml\")\n",
    "\n",
    "if( !require(\"lightgbm\") ) install.packages(\"lightgbm\")\n",
    "require(\"lightgbm\")\n",
    "\n",
    "if( !require(\"DiceKriging\") ) install.packages(\"DiceKriging\")\n",
    "require(\"DiceKriging\")\n",
    "\n",
    "if( !require(\"mlrMBO\") ) install.packages(\"mlrMBO\")\n",
    "require(\"mlrMBO\")"
   ]
  },
  {
   "cell_type": "markdown",
   "metadata": {
    "id": "Iz-6Qt6BUaA3"
   },
   "source": [
    "### 2.2.3 Definicion de Parametros"
   ]
  },
  {
   "cell_type": "markdown",
   "metadata": {
    "id": "cOdlKd7lUm2I"
   },
   "source": [
    "aqui debe cargar SU semilla primigenia\n",
    "<br>recuerde cambiar el numero de experimento en cada corrida nueva"
   ]
  },
  {
   "cell_type": "code",
   "execution_count": 5,
   "metadata": {
    "id": "ASYkebOu2mF6"
   },
   "outputs": [],
   "source": [
    "PARAM <- list()\n",
    "PARAM$experimento <- 4940.2\n",
    "PARAM$semilla_primigenia <- 123457\n",
    "\n"
   ]
  },
  {
   "cell_type": "code",
   "execution_count": 6,
   "metadata": {
    "id": "ezOhQdbA293o"
   },
   "outputs": [],
   "source": [
    "PARAM$kaggle$competencia <- \"data-mining-analista-sr-2025-a\"\n",
    "PARAM$kaggle$cortes <- seq(10000, 12000, by= 500)"
   ]
  },
  {
   "cell_type": "code",
   "execution_count": 7,
   "metadata": {
    "id": "jtB0Lub42rHO"
   },
   "outputs": [],
   "source": [
    "# un undersampling de 0.1  toma solo el 10% de los CONTINUA\n",
    "# undersampling de 1.0  implica tomar TODOS los datos\n",
    "\n",
    "PARAM$trainingstrategy$undersampling <- 0.5"
   ]
  },
  {
   "cell_type": "code",
   "execution_count": 8,
   "metadata": {
    "id": "OFxm-xiNUOJX"
   },
   "outputs": [],
   "source": [
    "# Parametros LightGBM\n",
    "\n",
    "PARAM$hyperparametertuning$xval_folds <- 5\n",
    "\n",
    "# parametros fijos del LightGBM que se pisaran con la parte variable de la BO\n",
    "PARAM$lgbm$param_fijos <-  list(\n",
    "  boosting= \"gbdt\", # puede ir  dart  , ni pruebe random_forest\n",
    "  objective= \"binary\",\n",
    "  metric= \"auc\",\n",
    "  first_metric_only= FALSE,\n",
    "  boost_from_average= TRUE,\n",
    "  feature_pre_filter= FALSE,\n",
    "  force_row_wise= TRUE, # para reducir warnings\n",
    "  verbosity= -100,\n",
    "\n",
    "  seed= PARAM$semilla_primigenia,\n",
    "\n",
    "  max_depth= -1L, # -1 significa no limitar,  por ahora lo dejo fijo\n",
    "  min_gain_to_split= 0, # min_gain_to_split >= 0\n",
    "  min_sum_hessian_in_leaf= 0.001, #  min_sum_hessian_in_leaf >= 0.0\n",
    "  lambda_l1= 0.0, # lambda_l1 >= 0.0\n",
    "  lambda_l2= 0.0, # lambda_l2 >= 0.0\n",
    "  max_bin= 31L, # lo debo dejar fijo, no participa de la BO\n",
    "\n",
    "  bagging_fraction= 1.0, # 0.0 < bagging_fraction <= 1.0\n",
    "  pos_bagging_fraction= 1.0, # 0.0 < pos_bagging_fraction <= 1.0\n",
    "  neg_bagging_fraction= 1.0, # 0.0 < neg_bagging_fraction <= 1.0\n",
    "  is_unbalance= FALSE, #\n",
    "  scale_pos_weight= 1.0, # scale_pos_weight > 0.0\n",
    "\n",
    "  drop_rate= 0.1, # 0.0 < neg_bagging_fraction <= 1.0\n",
    "  max_drop= 50, # <=0 means no limit\n",
    "  skip_drop= 0.5, # 0.0 <= skip_drop <= 1.0\n",
    "\n",
    "  extra_trees= FALSE,\n",
    "\n",
    "  num_iterations= 1200,\n",
    "  learning_rate= 0.02,\n",
    "  feature_fraction= 0.5,\n",
    "  num_leaves= 750,\n",
    "  min_data_in_leaf= 5000\n",
    ")\n"
   ]
  },
  {
   "cell_type": "markdown",
   "metadata": {
    "id": "D5Yj-JV4yvOt"
   },
   "source": [
    "Aqui se definen los hiperparámetros de LightGBM que participan de la Bayesian Optimization\n",
    "<br> si es un numero entero debe ir  makeIntegerParam\n",
    "<br> si es un numero real (con decimales) debe ir  makeNumericParam\n",
    "<br> es muy importante leer cuales son un lower y upper  permitidos y ademas razonables"
   ]
  },
  {
   "cell_type": "code",
   "execution_count": 9,
   "metadata": {
    "id": "jENpR26ZyuS8"
   },
   "outputs": [],
   "source": [
    "# Aqui se cargan los bordes de los hiperparametros de la BO\n",
    "PARAM$hypeparametertuning$hs <- makeParamSet(\n",
    "  makeIntegerParam(\"num_iterations\", lower= 8L, upper= 2000L),\n",
    "  makeNumericParam(\"learning_rate\", lower= 0.01, upper= 0.3),\n",
    "  makeNumericParam(\"feature_fraction\", lower= 0.6, upper= 1.0),\n",
    "  makeIntegerParam(\"num_leaves\", lower= 16L, upper= 256L), \n",
    "  makeIntegerParam(\"min_data_in_leaf\", lower= 10L, upper= 100L),\n",
    "  makeIntegerParam(\"max_depth\", lower= 3L, upper= 15L),\n",
    "  makeNumericParam(\"bagging_fraction\", lower= 0.6, upper= 1),\n",
    "  makeNumericParam(\"lambda_l1\", lower= 0, upper= 10),\n",
    "  makeNumericParam(\"lambda_l2\", lower= 0, upper= 10),\n",
    "  makeNumericParam(\"min_gain_to_split\", lower= 0, upper= 1)\n",
    ")"
   ]
  },
  {
   "cell_type": "markdown",
   "metadata": {
    "id": "-_RPFUb3zMoW"
   },
   "source": [
    "A mayor cantidad de hiperparámetros, se debe aumentar las iteraciones de la Bayesian Optimization\n",
    "<br> 30 es un valor muy tacaño, pero corre rápido\n",
    "<br> deberia partir de 50, alcanzando los 100 si se dispone de tiempo"
   ]
  },
  {
   "cell_type": "code",
   "execution_count": 10,
   "metadata": {
    "id": "q5Rd3pnbzSiG"
   },
   "outputs": [],
   "source": [
    "PARAM$hyperparametertuning$iteraciones <- 200 # iteraciones bayesianas"
   ]
  },
  {
   "cell_type": "markdown",
   "metadata": {
    "id": "4RWZXL1VZjMI"
   },
   "source": [
    "### 2.2.4  Preprocesamiento"
   ]
  },
  {
   "cell_type": "code",
   "execution_count": 11,
   "metadata": {
    "id": "j3toG9-lZm4K"
   },
   "outputs": [],
   "source": [
    "# carpeta de trabajo\n",
    "\n",
    "setwd(\"/content/buckets/b1/exp\")\n",
    "experimento_folder <- paste0(\"HT\", PARAM$experimento)\n",
    "dir.create(experimento_folder, showWarnings=FALSE)\n",
    "setwd( paste0(\"/content/buckets/b1/exp/\", experimento_folder ))"
   ]
  },
  {
   "cell_type": "code",
   "execution_count": 12,
   "metadata": {
    "id": "FM3lxKoLZ643"
   },
   "outputs": [],
   "source": [
    "# lectura del dataset\n",
    "\n",
    "dataset <- fread(\"/content/datasets/dataset_pequeno.csv\")"
   ]
  },
  {
   "cell_type": "code",
   "execution_count": 13,
   "metadata": {
    "id": "OsJ-91UeZ-I_"
   },
   "outputs": [],
   "source": [
    "dataset_train <- dataset[foto_mes %in% c(202107)]"
   ]
  },
  {
   "cell_type": "code",
   "execution_count": 14,
   "metadata": {
    "id": "vrWE7BE0aB2J"
   },
   "outputs": [],
   "source": [
    "# paso la clase a binaria que tome valores {0,1}  enteros\n",
    "#  BAJA+1 y BAJA+2  son  1,   CONTINUA es 0\n",
    "\n",
    "dataset_train[,\n",
    "  clase01 := ifelse(clase_ternaria %in% c(\"BAJA+2\",\"BAJA+1\"), 1L, 0L)\n",
    "]"
   ]
  },
  {
   "cell_type": "code",
   "execution_count": 15,
   "metadata": {
    "id": "jP7YlQBnaW6W"
   },
   "outputs": [],
   "source": [
    "# defino los datos que forma parte del training\n",
    "# aqui se hace el undersampling de los CONTINUA\n",
    "# notar que para esto utilizo la SEGUNDA semilla\n",
    "\n",
    "set.seed(PARAM$semilla_primigenia, kind = \"L'Ecuyer-CMRG\")\n",
    "dataset_train[, azar := runif(nrow(dataset_train))]\n",
    "dataset_train[, training := 0L]\n",
    "\n",
    "dataset_train[\n",
    "  foto_mes %in% c(202107) &\n",
    "    (azar <= PARAM$trainingstrategy$undersampling | clase_ternaria %in% c(\"BAJA+1\", \"BAJA+2\")),\n",
    "  training := 1L\n",
    "]"
   ]
  },
  {
   "cell_type": "code",
   "execution_count": 16,
   "metadata": {
    "id": "xElu4s5W4rX7"
   },
   "outputs": [],
   "source": [
    "# los campos que se van a utilizar\n",
    "\n",
    "campos_buenos <- setdiff(\n",
    "  colnames(dataset_train),\n",
    "  c(\"clase_ternaria\", \"clase01\", \"azar\", \"training\")\n",
    ")"
   ]
  },
  {
   "cell_type": "code",
   "execution_count": 17,
   "metadata": {
    "id": "PppMHcGYaaol"
   },
   "outputs": [
    {
     "data": {
      "text/html": [
       "83384"
      ],
      "text/latex": [
       "83384"
      ],
      "text/markdown": [
       "83384"
      ],
      "text/plain": [
       "[1] 83384"
      ]
     },
     "metadata": {},
     "output_type": "display_data"
    },
    {
     "data": {
      "text/html": [
       "154"
      ],
      "text/latex": [
       "154"
      ],
      "text/markdown": [
       "154"
      ],
      "text/plain": [
       "[1] 154"
      ]
     },
     "metadata": {},
     "output_type": "display_data"
    }
   ],
   "source": [
    "# dejo los datos en el formato que necesita LightGBM\n",
    "\n",
    "dtrain <- lgb.Dataset(\n",
    "  data= data.matrix(dataset_train[training == 1L, campos_buenos, with= FALSE]),\n",
    "  label= dataset_train[training == 1L, clase01],\n",
    "  free_raw_data= FALSE\n",
    ")\n",
    "\n",
    "nrow(dtrain)\n",
    "ncol(dtrain)"
   ]
  },
  {
   "cell_type": "markdown",
   "metadata": {
    "id": "Ta-EkOu3cphF"
   },
   "source": [
    "2.2.5 Configuracion Bayesian Optimization"
   ]
  },
  {
   "cell_type": "code",
   "execution_count": 18,
   "metadata": {
    "id": "cjgfurjdfiXb"
   },
   "outputs": [],
   "source": [
    "# En el argumento x llegan los parmaetros de la bayesiana\n",
    "#  devuelve la AUC en cross validation del modelo entrenado\n",
    "\n",
    "EstimarGanancia_AUC_lightgbm <- function(x) {\n",
    "\n",
    "  # x pisa (o agrega) a param_fijos\n",
    "  param_completo <- modifyList(PARAM$lgbm$param_fijos, x)\n",
    "\n",
    "  # entreno LightGBM\n",
    "  modelocv <- lgb.cv(\n",
    "    data= dtrain,\n",
    "    nfold= PARAM$hyperparametertuning$xval_folds,\n",
    "    stratified= TRUE,\n",
    "    param= param_completo\n",
    "  )\n",
    "\n",
    "  # obtengo la ganancia\n",
    "  AUC <- modelocv$best_score\n",
    "\n",
    "  # hago espacio en la memoria\n",
    "  rm(modelocv)\n",
    "  gc(full= TRUE, verbose= FALSE)\n",
    "\n",
    "  message(format(Sys.time(), \"%a %b %d %X %Y\"), \" AUC \", AUC)\n",
    "\n",
    "  return(AUC)\n",
    "}"
   ]
  },
  {
   "cell_type": "code",
   "execution_count": 19,
   "metadata": {
    "id": "WLi_o1hocvN-"
   },
   "outputs": [],
   "source": [
    "# Aqui comienza la configuracion de la Bayesian Optimization\n",
    "\n",
    "# en este archivo quedan la evolucion binaria de la BO\n",
    "kbayesiana <- \"bayesiana.RDATA\"\n",
    "\n",
    "funcion_optimizar <- EstimarGanancia_AUC_lightgbm # la funcion que voy a maximizar\n",
    "\n",
    "configureMlr(show.learner.output= FALSE)\n",
    "\n",
    "# configuro la busqueda bayesiana,  los hiperparametros que se van a optimizar\n",
    "# por favor, no desesperarse por lo complejo\n",
    "\n",
    "obj.fun <- makeSingleObjectiveFunction(\n",
    "  fn= funcion_optimizar, # la funcion que voy a maximizar\n",
    "  minimize= FALSE, # estoy Maximizando la ganancia\n",
    "  noisy= TRUE,\n",
    "  par.set= PARAM$hypeparametertuning$hs, # definido al comienzo del programa\n",
    "  has.simple.signature= FALSE # paso los parametros en una lista\n",
    ")\n",
    "\n",
    "# cada 600 segundos guardo el resultado intermedio\n",
    "ctrl <- makeMBOControl(\n",
    "  save.on.disk.at.time= 600, # se graba cada 600 segundos\n",
    "  save.file.path= kbayesiana\n",
    ") # se graba cada 600 segundos\n",
    "\n",
    "# indico la cantidad de iteraciones que va a tener la Bayesian Optimization\n",
    "ctrl <- setMBOControlTermination(\n",
    "  ctrl,\n",
    "  iters= PARAM$hyperparametertuning$iteraciones\n",
    ") # cantidad de iteraciones\n",
    "\n",
    "# defino el método estandar para la creacion de los puntos iniciales,\n",
    "# los \"No Inteligentes\"\n",
    "ctrl <- setMBOControlInfill(ctrl, crit= makeMBOInfillCritEI())\n",
    "\n",
    "# establezco la funcion que busca el maximo\n",
    "surr.km <- makeLearner(\n",
    "  \"regr.km\",\n",
    "  predict.type= \"se\",\n",
    "  covtype= \"matern3_2\",\n",
    "  control= list(trace= TRUE)\n",
    ")\n"
   ]
  },
  {
   "cell_type": "markdown",
   "metadata": {
    "id": "_uUeVo5pc4zc"
   },
   "source": [
    "2.2.6 Corrida Bayesian Optimization"
   ]
  },
  {
   "cell_type": "code",
   "execution_count": 20,
   "metadata": {
    "id": "RcABNaKGciaz"
   },
   "outputs": [
    {
     "name": "stderr",
     "output_type": "stream",
     "text": [
      "Computing y column(s) for design. Not provided.\n",
      "\n",
      "Wed Jul 30 22:56:59 2025 AUC 0.927998271603962\n",
      "\n",
      "Wed Jul 30 22:57:11 2025 AUC 0.928054750699408\n",
      "\n",
      "Wed Jul 30 22:57:29 2025 AUC 0.9257133299868\n",
      "\n",
      "Wed Jul 30 22:57:45 2025 AUC 0.925321432558436\n",
      "\n",
      "Wed Jul 30 22:58:01 2025 AUC 0.924695396822356\n",
      "\n",
      "Wed Jul 30 22:58:17 2025 AUC 0.928668011580742\n",
      "\n",
      "Wed Jul 30 22:58:39 2025 AUC 0.926595550198586\n",
      "\n",
      "Wed Jul 30 22:58:58 2025 AUC 0.925808318100403\n",
      "\n",
      "Wed Jul 30 22:59:13 2025 AUC 0.928260338386459\n",
      "\n",
      "Wed Jul 30 22:59:25 2025 AUC 0.928704557657629\n",
      "\n",
      "Wed Jul 30 22:59:37 2025 AUC 0.923037106812622\n",
      "\n",
      "Wed Jul 30 22:59:45 2025 AUC 0.927482568094762\n",
      "\n",
      "Wed Jul 30 23:00:04 2025 AUC 0.926139392909774\n",
      "\n",
      "Wed Jul 30 23:00:32 2025 AUC 0.927227579917405\n",
      "\n",
      "Wed Jul 30 23:00:54 2025 AUC 0.924465087450044\n",
      "\n",
      "Wed Jul 30 23:01:00 2025 AUC 0.925387845018679\n",
      "\n",
      "Wed Jul 30 23:01:25 2025 AUC 0.926335800703113\n",
      "\n",
      "Wed Jul 30 23:01:37 2025 AUC 0.926479371313534\n",
      "\n",
      "Wed Jul 30 23:01:39 2025 AUC 0.923525215186755\n",
      "\n",
      "Wed Jul 30 23:01:50 2025 AUC 0.92273712465055\n",
      "\n",
      "Wed Jul 30 23:02:19 2025 AUC 0.928327357111881\n",
      "\n",
      "Wed Jul 30 23:02:24 2025 AUC 0.928437105862597\n",
      "\n",
      "Wed Jul 30 23:02:32 2025 AUC 0.927859568765642\n",
      "\n",
      "Wed Jul 30 23:02:41 2025 AUC 0.927467025848546\n",
      "\n",
      "Wed Jul 30 23:03:05 2025 AUC 0.923475587050171\n",
      "\n",
      "Wed Jul 30 23:03:26 2025 AUC 0.925144322371895\n",
      "\n",
      "Wed Jul 30 23:03:52 2025 AUC 0.925226603200776\n",
      "\n",
      "Wed Jul 30 23:04:04 2025 AUC 0.917131626572427\n",
      "\n",
      "Wed Jul 30 23:04:17 2025 AUC 0.927697731928122\n",
      "\n",
      "Wed Jul 30 23:04:58 2025 AUC 0.928549379497695\n",
      "\n",
      "Wed Jul 30 23:05:04 2025 AUC 0.922631596039552\n",
      "\n",
      "Wed Jul 30 23:05:08 2025 AUC 0.925607331887233\n",
      "\n",
      "Wed Jul 30 23:05:12 2025 AUC 0.92014736809308\n",
      "\n",
      "Wed Jul 30 23:05:37 2025 AUC 0.925978489230649\n",
      "\n",
      "Wed Jul 30 23:06:01 2025 AUC 0.923823447364361\n",
      "\n",
      "Wed Jul 30 23:06:29 2025 AUC 0.926000130549968\n",
      "\n",
      "Wed Jul 30 23:06:35 2025 AUC 0.923271745494811\n",
      "\n",
      "Wed Jul 30 23:06:39 2025 AUC 0.925903644525676\n",
      "\n",
      "Wed Jul 30 23:07:03 2025 AUC 0.928068448704482\n",
      "\n",
      "Wed Jul 30 23:07:24 2025 AUC 0.927550908614219\n",
      "\n",
      "[mbo] 0: num_iterations=1517; learning_rate=0.0204; feature_fraction=0.824; num_leaves=105; min_data_in_leaf=40; max_depth=7; bagging_fraction=0.794; lambda_l1=4.18; lambda_l2=4.02; min_gain_to_split=0.8 : y = 0.928 : 27.3 secs : initdesign\n",
      "\n",
      "[mbo] 0: num_iterations=656; learning_rate=0.104; feature_fraction=0.874; num_leaves=49; min_data_in_leaf=62; max_depth=9; bagging_fraction=0.854; lambda_l1=2.33; lambda_l2=3.75; min_gain_to_split=0.529 : y = 0.928 : 11.8 secs : initdesign\n",
      "\n",
      "[mbo] 0: num_iterations=1317; learning_rate=0.166; feature_fraction=0.751; num_leaves=135; min_data_in_leaf=33; max_depth=8; bagging_fraction=0.947; lambda_l1=1.11; lambda_l2=5.28; min_gain_to_split=0.843 : y = 0.926 : 17.7 secs : initdesign\n",
      "\n",
      "[mbo] 0: num_iterations=1144; learning_rate=0.2; feature_fraction=0.668; num_leaves=97; min_data_in_leaf=79; max_depth=7; bagging_fraction=0.656; lambda_l1=3.36; lambda_l2=4.8; min_gain_to_split=0.411 : y = 0.925 : 15.9 secs : initdesign\n",
      "\n",
      "[mbo] 0: num_iterations=1198; learning_rate=0.222; feature_fraction=0.799; num_leaves=107; min_data_in_leaf=35; max_depth=14; bagging_fraction=0.893; lambda_l1=4.96; lambda_l2=5.56; min_gain_to_split=0.297 : y = 0.925 : 16.4 secs : initdesign\n",
      "\n",
      "[mbo] 0: num_iterations=797; learning_rate=0.0465; feature_fraction=0.927; num_leaves=160; min_data_in_leaf=29; max_depth=6; bagging_fraction=0.819; lambda_l1=2.17; lambda_l2=7.61; min_gain_to_split=0.512 : y = 0.929 : 16.3 secs : initdesign\n",
      "\n",
      "[mbo] 0: num_iterations=1449; learning_rate=0.124; feature_fraction=0.966; num_leaves=153; min_data_in_leaf=88; max_depth=13; bagging_fraction=0.82; lambda_l1=6.58; lambda_l2=3.43; min_gain_to_split=0.0829 : y = 0.927 : 21.4 secs : initdesign\n",
      "\n",
      "[mbo] 0: num_iterations=1453; learning_rate=0.261; feature_fraction=0.851; num_leaves=76; min_data_in_leaf=39; max_depth=12; bagging_fraction=0.71; lambda_l1=4.64; lambda_l2=7.87; min_gain_to_split=0.732 : y = 0.926 : 19.2 secs : initdesign\n",
      "\n",
      "[mbo] 0: num_iterations=974; learning_rate=0.136; feature_fraction=0.652; num_leaves=71; min_data_in_leaf=42; max_depth=6; bagging_fraction=0.765; lambda_l1=6.15; lambda_l2=5.9; min_gain_to_split=0.612 : y = 0.928 : 15.2 secs : initdesign\n",
      "\n",
      "[mbo] 0: num_iterations=706; learning_rate=0.069; feature_fraction=0.75; num_leaves=193; min_data_in_leaf=27; max_depth=6; bagging_fraction=0.932; lambda_l1=6.84; lambda_l2=6.41; min_gain_to_split=0.342 : y = 0.929 : 11.7 secs : initdesign\n",
      "\n",
      "[mbo] 0: num_iterations=650; learning_rate=0.194; feature_fraction=0.739; num_leaves=119; min_data_in_leaf=92; max_depth=10; bagging_fraction=0.926; lambda_l1=0.483; lambda_l2=1.56; min_gain_to_split=0.137 : y = 0.923 : 12.5 secs : initdesign\n",
      "\n",
      "[mbo] 0: num_iterations=529; learning_rate=0.246; feature_fraction=0.86; num_leaves=144; min_data_in_leaf=48; max_depth=3; bagging_fraction=0.753; lambda_l1=0.655; lambda_l2=2.57; min_gain_to_split=0.656 : y = 0.927 : 8.1 secs : initdesign\n",
      "\n",
      "[mbo] 0: num_iterations=1394; learning_rate=0.129; feature_fraction=0.778; num_leaves=83; min_data_in_leaf=97; max_depth=11; bagging_fraction=0.626; lambda_l1=4; lambda_l2=4.55; min_gain_to_split=0.969 : y = 0.926 : 18.4 secs : initdesign\n",
      "\n",
      "[mbo] 0: num_iterations=1629; learning_rate=0.118; feature_fraction=0.683; num_leaves=157; min_data_in_leaf=56; max_depth=15; bagging_fraction=0.743; lambda_l1=5.31; lambda_l2=6.62; min_gain_to_split=0.025 : y = 0.927 : 28.1 secs : initdesign\n",
      "\n",
      "[mbo] 0: num_iterations=1090; learning_rate=0.267; feature_fraction=0.609; num_leaves=204; min_data_in_leaf=85; max_depth=12; bagging_fraction=0.909; lambda_l1=7.54; lambda_l2=9.32; min_gain_to_split=0.487 : y = 0.924 : 22.4 secs : initdesign\n",
      "\n",
      "[mbo] 0: num_iterations=354; learning_rate=0.214; feature_fraction=0.936; num_leaves=168; min_data_in_leaf=72; max_depth=9; bagging_fraction=0.788; lambda_l1=1.86; lambda_l2=9.21; min_gain_to_split=0.851 : y = 0.925 : 6.0 secs : initdesign\n",
      "\n",
      "[mbo] 0: num_iterations=1736; learning_rate=0.0808; feature_fraction=0.762; num_leaves=247; min_data_in_leaf=94; max_depth=11; bagging_fraction=0.839; lambda_l1=8.78; lambda_l2=3.25; min_gain_to_split=0.392 : y = 0.926 : 24.8 secs : initdesign\n",
      "\n",
      "[mbo] 0: num_iterations=915; learning_rate=0.181; feature_fraction=0.8; num_leaves=116; min_data_in_leaf=75; max_depth=4; bagging_fraction=0.984; lambda_l1=7.23; lambda_l2=1.42; min_gain_to_split=0.687 : y = 0.926 : 12.2 secs : initdesign\n",
      "\n",
      "[mbo] 0: num_iterations=24; learning_rate=0.175; feature_fraction=0.842; num_leaves=29; min_data_in_leaf=30; max_depth=11; bagging_fraction=0.648; lambda_l1=2.85; lambda_l2=5.22; min_gain_to_split=0.108 : y = 0.924 : 1.3 secs : initdesign\n",
      "\n",
      "[mbo] 0: num_iterations=860; learning_rate=0.241; feature_fraction=0.907; num_leaves=229; min_data_in_leaf=17; max_depth=12; bagging_fraction=0.804; lambda_l1=5.74; lambda_l2=3.69; min_gain_to_split=0.776 : y = 0.923 : 11.5 secs : initdesign\n",
      "\n",
      "[mbo] 0: num_iterations=1042; learning_rate=0.0932; feature_fraction=0.912; num_leaves=210; min_data_in_leaf=60; max_depth=5; bagging_fraction=0.723; lambda_l1=0.876; lambda_l2=2.44; min_gain_to_split=0.0125 : y = 0.928 : 29.1 secs : initdesign\n",
      "\n",
      "[mbo] 0: num_iterations=206; learning_rate=0.0846; feature_fraction=0.714; num_leaves=43; min_data_in_leaf=70; max_depth=4; bagging_fraction=0.875; lambda_l1=3.7; lambda_l2=7.38; min_gain_to_split=0.907 : y = 0.928 : 4.5 secs : initdesign\n",
      "\n",
      "[mbo] 0: num_iterations=572; learning_rate=0.152; feature_fraction=0.815; num_leaves=65; min_data_in_leaf=67; max_depth=4; bagging_fraction=0.602; lambda_l1=6.44; lambda_l2=1; min_gain_to_split=0.233 : y = 0.928 : 8.6 secs : initdesign\n",
      "\n",
      "[mbo] 0: num_iterations=484; learning_rate=0.146; feature_fraction=0.894; num_leaves=138; min_data_in_leaf=89; max_depth=8; bagging_fraction=0.96; lambda_l1=7.84; lambda_l2=8.56; min_gain_to_split=0.0533 : y = 0.927 : 9.1 secs : initdesign\n",
      "\n",
      "[mbo] 0: num_iterations=1876; learning_rate=0.21; feature_fraction=0.981; num_leaves=25; min_data_in_leaf=19; max_depth=7; bagging_fraction=0.772; lambda_l1=9.3; lambda_l2=7.02; min_gain_to_split=0.753 : y = 0.923 : 23.6 secs : initdesign\n",
      "\n",
      "[mbo] 0: num_iterations=1264; learning_rate=0.228; feature_fraction=0.629; num_leaves=36; min_data_in_leaf=84; max_depth=13; bagging_fraction=0.865; lambda_l1=2.62; lambda_l2=4.48; min_gain_to_split=0.646 : y = 0.925 : 21.4 secs : initdesign\n",
      "\n",
      "[mbo] 0: num_iterations=1981; learning_rate=0.161; feature_fraction=0.723; num_leaves=19; min_data_in_leaf=15; max_depth=13; bagging_fraction=0.997; lambda_l1=8.11; lambda_l2=0.576; min_gain_to_split=0.571 : y = 0.925 : 25.1 secs : initdesign\n",
      "\n",
      "[mbo] 0: num_iterations=808; learning_rate=0.274; feature_fraction=0.952; num_leaves=175; min_data_in_leaf=59; max_depth=14; bagging_fraction=0.698; lambda_l1=0.125; lambda_l2=2.09; min_gain_to_split=0.361 : y = 0.917 : 12.8 secs : initdesign\n",
      "\n",
      "[mbo] 0: num_iterations=428; learning_rate=0.0295; feature_fraction=0.972; num_leaves=189; min_data_in_leaf=21; max_depth=5; bagging_fraction=0.713; lambda_l1=7.43; lambda_l2=8.4; min_gain_to_split=0.194 : y = 0.928 : 12.7 secs : initdesign\n",
      "\n",
      "[mbo] 0: num_iterations=1601; learning_rate=0.0157; feature_fraction=0.703; num_leaves=251; min_data_in_leaf=53; max_depth=15; bagging_fraction=0.683; lambda_l1=1.42; lambda_l2=2.93; min_gain_to_split=0.599 : y = 0.929 : 41.3 secs : initdesign\n",
      "\n",
      "[mbo] 0: num_iterations=210; learning_rate=0.0331; feature_fraction=0.618; num_leaves=237; min_data_in_leaf=81; max_depth=3; bagging_fraction=0.915; lambda_l1=8.62; lambda_l2=8.88; min_gain_to_split=0.448 : y = 0.923 : 5.5 secs : initdesign\n",
      "\n",
      "[mbo] 0: num_iterations=97; learning_rate=0.0432; feature_fraction=0.785; num_leaves=219; min_data_in_leaf=46; max_depth=8; bagging_fraction=0.74; lambda_l1=5.92; lambda_l2=0.142; min_gain_to_split=0.929 : y = 0.926 : 4.0 secs : initdesign\n",
      "\n",
      "[mbo] 0: num_iterations=294; learning_rate=0.299; feature_fraction=0.999; num_leaves=239; min_data_in_leaf=76; max_depth=10; bagging_fraction=0.97; lambda_l1=5.13; lambda_l2=0.292; min_gain_to_split=0.884 : y = 0.92 : 4.6 secs : initdesign\n",
      "\n",
      "[mbo] 0: num_iterations=1769; learning_rate=0.184; feature_fraction=0.881; num_leaves=53; min_data_in_leaf=65; max_depth=15; bagging_fraction=0.67; lambda_l1=9.75; lambda_l2=0.946; min_gain_to_split=0.172 : y = 0.926 : 24.2 secs : initdesign\n",
      "\n",
      "[mbo] 0: num_iterations=1822; learning_rate=0.255; feature_fraction=0.691; num_leaves=199; min_data_in_leaf=12; max_depth=10; bagging_fraction=0.885; lambda_l1=3.17; lambda_l2=9.65; min_gain_to_split=0.323 : y = 0.924 : 24.2 secs : initdesign\n",
      "\n",
      "[mbo] 0: num_iterations=1932; learning_rate=0.0983; feature_fraction=0.646; num_leaves=94; min_data_in_leaf=46; max_depth=14; bagging_fraction=0.847; lambda_l1=9.53; lambda_l2=9.98; min_gain_to_split=0.99 : y = 0.926 : 27.7 secs : initdesign\n",
      "\n",
      "[mbo] 0: num_iterations=359; learning_rate=0.29; feature_fraction=0.636; num_leaves=126; min_data_in_leaf=12; max_depth=5; bagging_fraction=0.677; lambda_l1=9.06; lambda_l2=6.93; min_gain_to_split=0.707 : y = 0.923 : 6.6 secs : initdesign\n",
      "\n",
      "[mbo] 0: num_iterations=149; learning_rate=0.28; feature_fraction=0.832; num_leaves=182; min_data_in_leaf=99; max_depth=7; bagging_fraction=0.63; lambda_l1=4.35; lambda_l2=8.1; min_gain_to_split=0.261 : y = 0.926 : 3.7 secs : initdesign\n",
      "\n",
      "[mbo] 0: num_iterations=1689; learning_rate=0.0574; feature_fraction=0.672; num_leaves=226; min_data_in_leaf=24; max_depth=3; bagging_fraction=0.612; lambda_l1=8.27; lambda_l2=1.79; min_gain_to_split=0.211 : y = 0.928 : 24.6 secs : initdesign\n",
      "\n",
      "[mbo] 0: num_iterations=1222; learning_rate=0.0639; feature_fraction=0.945; num_leaves=60; min_data_in_leaf=54; max_depth=10; bagging_fraction=0.961; lambda_l1=1.64; lambda_l2=6.08; min_gain_to_split=0.459 : y = 0.928 : 20.4 secs : initdesign\n",
      "\n",
      "Saved the current state after iteration 1 in the file bayesiana.RDATA.\n",
      "\n",
      "Wed Jul 30 23:07:41 2025 AUC 0.929446149786636\n",
      "\n",
      "[mbo] 1: num_iterations=753; learning_rate=0.0888; feature_fraction=0.844; num_leaves=107; min_data_in_leaf=43; max_depth=5; bagging_fraction=0.755; lambda_l1=2.81; lambda_l2=4.77; min_gain_to_split=0.281 : y = 0.929 : 13.2 secs : infill_ei\n",
      "\n",
      "Wed Jul 30 23:07:52 2025 AUC 0.92687970051096\n",
      "\n",
      "[mbo] 2: num_iterations=655; learning_rate=0.0943; feature_fraction=0.939; num_leaves=42; min_data_in_leaf=41; max_depth=5; bagging_fraction=0.803; lambda_l1=4.66; lambda_l2=5.78; min_gain_to_split=0.623 : y = 0.927 : 10.1 secs : infill_ei\n",
      "\n",
      "Wed Jul 30 23:08:14 2025 AUC 0.928845424110986\n",
      "\n",
      "[mbo] 3: num_iterations=1416; learning_rate=0.0845; feature_fraction=0.72; num_leaves=88; min_data_in_leaf=36; max_depth=4; bagging_fraction=0.673; lambda_l1=5.11; lambda_l2=5.82; min_gain_to_split=0.3 : y = 0.929 : 20.9 secs : infill_ei\n",
      "\n",
      "Wed Jul 30 23:08:30 2025 AUC 0.929026355734416\n",
      "\n",
      "[mbo] 4: num_iterations=939; learning_rate=0.0702; feature_fraction=0.842; num_leaves=140; min_data_in_leaf=57; max_depth=6; bagging_fraction=0.735; lambda_l1=5.38; lambda_l2=9.44; min_gain_to_split=0.391 : y = 0.929 : 14.7 secs : infill_ei\n",
      "\n",
      "Wed Jul 30 23:08:51 2025 AUC 0.928855294325885\n",
      "\n",
      "[mbo] 5: num_iterations=973; learning_rate=0.0638; feature_fraction=0.774; num_leaves=140; min_data_in_leaf=42; max_depth=6; bagging_fraction=0.73; lambda_l1=3.01; lambda_l2=4.9; min_gain_to_split=0.107 : y = 0.929 : 19.6 secs : infill_ei\n",
      "\n",
      "Wed Jul 30 23:09:07 2025 AUC 0.928384498251324\n",
      "\n",
      "[mbo] 6: num_iterations=883; learning_rate=0.0754; feature_fraction=0.862; num_leaves=187; min_data_in_leaf=54; max_depth=5; bagging_fraction=0.929; lambda_l1=3.02; lambda_l2=6.58; min_gain_to_split=0.298 : y = 0.928 : 15.0 secs : infill_ei\n",
      "\n",
      "Wed Jul 30 23:09:23 2025 AUC 0.927911240315073\n",
      "\n",
      "[mbo] 7: num_iterations=900; learning_rate=0.109; feature_fraction=0.821; num_leaves=152; min_data_in_leaf=35; max_depth=3; bagging_fraction=0.72; lambda_l1=4.35; lambda_l2=3.46; min_gain_to_split=0.296 : y = 0.928 : 14.4 secs : infill_ei\n",
      "\n",
      "Wed Jul 30 23:09:37 2025 AUC 0.929172879151555\n",
      "\n",
      "[mbo] 8: num_iterations=775; learning_rate=0.0767; feature_fraction=0.718; num_leaves=71; min_data_in_leaf=26; max_depth=6; bagging_fraction=0.774; lambda_l1=3.39; lambda_l2=8.09; min_gain_to_split=0.426 : y = 0.929 : 12.8 secs : infill_ei\n",
      "\n",
      "Wed Jul 30 23:10:01 2025 AUC 0.928639683947372\n",
      "\n",
      "[mbo] 9: num_iterations=822; learning_rate=0.0578; feature_fraction=0.87; num_leaves=104; min_data_in_leaf=23; max_depth=6; bagging_fraction=0.676; lambda_l1=1.13; lambda_l2=5.82; min_gain_to_split=0.123 : y = 0.929 : 22.5 secs : infill_ei\n",
      "\n",
      "Wed Jul 30 23:10:14 2025 AUC 0.928247699236527\n",
      "\n",
      "[mbo] 10: num_iterations=805; learning_rate=0.0876; feature_fraction=0.723; num_leaves=44; min_data_in_leaf=46; max_depth=6; bagging_fraction=0.765; lambda_l1=8.78; lambda_l2=4.62; min_gain_to_split=0.441 : y = 0.928 : 12.0 secs : infill_ei\n",
      "\n",
      "Wed Jul 30 23:10:38 2025 AUC 0.929004747640718\n",
      "\n",
      "[mbo] 11: num_iterations=1459; learning_rate=0.0713; feature_fraction=0.694; num_leaves=147; min_data_in_leaf=23; max_depth=6; bagging_fraction=0.841; lambda_l1=1.8; lambda_l2=5.88; min_gain_to_split=0.638 : y = 0.929 : 22.4 secs : infill_ei\n",
      "\n",
      "Wed Jul 30 23:10:49 2025 AUC 0.928745934722115\n",
      "\n",
      "[mbo] 12: num_iterations=532; learning_rate=0.0994; feature_fraction=0.825; num_leaves=137; min_data_in_leaf=40; max_depth=6; bagging_fraction=0.8; lambda_l1=2.87; lambda_l2=9.39; min_gain_to_split=0.533 : y = 0.929 : 9.4 secs : infill_ei\n",
      "\n",
      "Wed Jul 30 23:11:03 2025 AUC 0.928773283943159\n",
      "\n",
      "[mbo] 13: num_iterations=650; learning_rate=0.0864; feature_fraction=0.844; num_leaves=97; min_data_in_leaf=74; max_depth=5; bagging_fraction=0.678; lambda_l1=0.725; lambda_l2=4.96; min_gain_to_split=0.397 : y = 0.929 : 12.9 secs : infill_ei\n",
      "\n",
      "Wed Jul 30 23:11:33 2025 AUC 0.929285087893913\n",
      "\n",
      "[mbo] 14: num_iterations=1882; learning_rate=0.0858; feature_fraction=0.846; num_leaves=101; min_data_in_leaf=49; max_depth=6; bagging_fraction=0.799; lambda_l1=3.23; lambda_l2=8.38; min_gain_to_split=0.165 : y = 0.929 : 29.0 secs : infill_ei\n",
      "\n",
      "Wed Jul 30 23:11:56 2025 AUC 0.927507384751145\n",
      "\n",
      "[mbo] 15: num_iterations=1474; learning_rate=0.0887; feature_fraction=0.859; num_leaves=104; min_data_in_leaf=56; max_depth=6; bagging_fraction=0.792; lambda_l1=2.41; lambda_l2=1.39; min_gain_to_split=0.317 : y = 0.928 : 21.6 secs : infill_ei\n",
      "\n",
      "Wed Jul 30 23:12:11 2025 AUC 0.928180706201784\n",
      "\n",
      "[mbo] 16: num_iterations=886; learning_rate=0.0884; feature_fraction=0.733; num_leaves=100; min_data_in_leaf=48; max_depth=6; bagging_fraction=0.941; lambda_l1=3.41; lambda_l2=7.11; min_gain_to_split=0.362 : y = 0.928 : 14.3 secs : infill_ei\n",
      "\n",
      "Wed Jul 30 23:12:25 2025 AUC 0.927302468177836\n",
      "\n",
      "[mbo] 17: num_iterations=687; learning_rate=0.0825; feature_fraction=0.834; num_leaves=105; min_data_in_leaf=20; max_depth=6; bagging_fraction=0.759; lambda_l1=6.71; lambda_l2=6.98; min_gain_to_split=0.106 : y = 0.927 : 12.4 secs : infill_ei\n",
      "\n",
      "Wed Jul 30 23:12:44 2025 AUC 0.929762099953797\n",
      "\n",
      "[mbo] 18: num_iterations=927; learning_rate=0.07; feature_fraction=0.837; num_leaves=100; min_data_in_leaf=45; max_depth=5; bagging_fraction=0.655; lambda_l1=0.778; lambda_l2=8.36; min_gain_to_split=0.482 : y = 0.93 : 17.6 secs : infill_ei\n",
      "\n",
      "Wed Jul 30 23:12:59 2025 AUC 0.928106219124479\n",
      "\n",
      "[mbo] 19: num_iterations=740; learning_rate=0.0707; feature_fraction=0.705; num_leaves=155; min_data_in_leaf=33; max_depth=5; bagging_fraction=0.727; lambda_l1=0.341; lambda_l2=5.13; min_gain_to_split=0.717 : y = 0.928 : 13.2 secs : infill_ei\n",
      "\n",
      "Wed Jul 30 23:13:23 2025 AUC 0.930721599839647\n",
      "\n",
      "[mbo] 20: num_iterations=892; learning_rate=0.0459; feature_fraction=0.875; num_leaves=112; min_data_in_leaf=44; max_depth=5; bagging_fraction=0.629; lambda_l1=1.64; lambda_l2=9.35; min_gain_to_split=0.166 : y = 0.931 : 23.0 secs : infill_ei\n",
      "\n",
      "Wed Jul 30 23:14:09 2025 AUC 0.930001315996635\n",
      "\n",
      "[mbo] 21: num_iterations=1615; learning_rate=0.0348; feature_fraction=0.867; num_leaves=167; min_data_in_leaf=37; max_depth=5; bagging_fraction=0.655; lambda_l1=1.46; lambda_l2=9.98; min_gain_to_split=0.0111 : y = 0.93 : 44.6 secs : infill_ei\n",
      "\n",
      "Wed Jul 30 23:14:24 2025 AUC 0.928055363451816\n",
      "\n",
      "[mbo] 22: num_iterations=475; learning_rate=0.0244; feature_fraction=0.886; num_leaves=99; min_data_in_leaf=51; max_depth=5; bagging_fraction=0.63; lambda_l1=2.64; lambda_l2=8.51; min_gain_to_split=0.00491 : y = 0.928 : 13.3 secs : infill_ei\n",
      "\n",
      "Wed Jul 30 23:14:51 2025 AUC 0.92928818348141\n",
      "\n",
      "[mbo] 23: num_iterations=1247; learning_rate=0.0472; feature_fraction=0.866; num_leaves=212; min_data_in_leaf=42; max_depth=11; bagging_fraction=0.624; lambda_l1=3.45; lambda_l2=8.44; min_gain_to_split=0.248 : y = 0.929 : 25.5 secs : infill_ei\n",
      "\n",
      "Wed Jul 30 23:15:30 2025 AUC 0.928513139011421\n",
      "\n",
      "[mbo] 24: num_iterations=1853; learning_rate=0.053; feature_fraction=0.87; num_leaves=160; min_data_in_leaf=40; max_depth=5; bagging_fraction=0.607; lambda_l1=0.435; lambda_l2=7.87; min_gain_to_split=0.218 : y = 0.929 : 36.8 secs : infill_ei\n",
      "\n",
      "Wed Jul 30 23:15:54 2025 AUC 0.930443397607571\n",
      "\n",
      "[mbo] 25: num_iterations=1085; learning_rate=0.0571; feature_fraction=0.862; num_leaves=50; min_data_in_leaf=30; max_depth=5; bagging_fraction=0.65; lambda_l1=1.57; lambda_l2=9.96; min_gain_to_split=0.209 : y = 0.93 : 22.8 secs : infill_ei\n",
      "\n",
      "Wed Jul 30 23:16:23 2025 AUC 0.92938855051887\n",
      "\n",
      "[mbo] 26: num_iterations=1207; learning_rate=0.0376; feature_fraction=0.755; num_leaves=162; min_data_in_leaf=27; max_depth=5; bagging_fraction=0.749; lambda_l1=3.08; lambda_l2=9.97; min_gain_to_split=0.13 : y = 0.929 : 26.8 secs : infill_ei\n",
      "\n",
      "Wed Jul 30 23:16:45 2025 AUC 0.928293961104497\n",
      "\n",
      "[mbo] 27: num_iterations=1058; learning_rate=0.0494; feature_fraction=0.869; num_leaves=121; min_data_in_leaf=43; max_depth=7; bagging_fraction=0.687; lambda_l1=1.75; lambda_l2=9.97; min_gain_to_split=0.468 : y = 0.928 : 20.8 secs : infill_ei\n",
      "\n",
      "Wed Jul 30 23:17:22 2025 AUC 0.930222555403973\n",
      "\n",
      "[mbo] 28: num_iterations=1615; learning_rate=0.0479; feature_fraction=0.618; num_leaves=154; min_data_in_leaf=21; max_depth=6; bagging_fraction=0.641; lambda_l1=4.3; lambda_l2=9.46; min_gain_to_split=0.178 : y = 0.93 : 35.6 secs : infill_ei\n",
      "\n",
      "Wed Jul 30 23:18:00 2025 AUC 0.929312230534481\n",
      "\n",
      "[mbo] 29: num_iterations=1567; learning_rate=0.0153; feature_fraction=0.846; num_leaves=79; min_data_in_leaf=26; max_depth=5; bagging_fraction=0.617; lambda_l1=6.1; lambda_l2=9.52; min_gain_to_split=0.155 : y = 0.929 : 36.6 secs : infill_ei\n",
      "\n",
      "Saved the current state after iteration 30 in the file bayesiana.RDATA.\n",
      "\n",
      "Wed Jul 30 23:18:20 2025 AUC 0.928505337011833\n",
      "\n",
      "[mbo] 30: num_iterations=840; learning_rate=0.0838; feature_fraction=0.682; num_leaves=96; min_data_in_leaf=35; max_depth=4; bagging_fraction=0.602; lambda_l1=1.96; lambda_l2=9.15; min_gain_to_split=0.322 : y = 0.929 : 14.6 secs : infill_ei\n",
      "\n",
      "Wed Jul 30 23:18:46 2025 AUC 0.928855782096158\n",
      "\n",
      "[mbo] 31: num_iterations=1655; learning_rate=0.0589; feature_fraction=0.709; num_leaves=198; min_data_in_leaf=28; max_depth=6; bagging_fraction=0.654; lambda_l1=6.44; lambda_l2=9.56; min_gain_to_split=0.2 : y = 0.929 : 24.8 secs : infill_ei\n",
      "\n",
      "Wed Jul 30 23:19:18 2025 AUC 0.929786026380242\n",
      "\n",
      "[mbo] 32: num_iterations=1657; learning_rate=0.0451; feature_fraction=0.651; num_leaves=47; min_data_in_leaf=31; max_depth=5; bagging_fraction=0.725; lambda_l1=2.94; lambda_l2=9.6; min_gain_to_split=0.283 : y = 0.93 : 29.9 secs : infill_ei\n",
      "\n",
      "Wed Jul 30 23:19:58 2025 AUC 0.928833206329749\n",
      "\n",
      "[mbo] 33: num_iterations=1701; learning_rate=0.0441; feature_fraction=0.606; num_leaves=90; min_data_in_leaf=11; max_depth=6; bagging_fraction=0.778; lambda_l1=4.91; lambda_l2=5.14; min_gain_to_split=0.645 : y = 0.929 : 38.7 secs : infill_ei\n",
      "\n",
      "Wed Jul 30 23:20:26 2025 AUC 0.929886592600774\n",
      "\n",
      "[mbo] 34: num_iterations=950; learning_rate=0.0214; feature_fraction=0.835; num_leaves=85; min_data_in_leaf=28; max_depth=6; bagging_fraction=0.656; lambda_l1=3.83; lambda_l2=7.61; min_gain_to_split=0.246 : y = 0.93 : 26.1 secs : infill_ei\n",
      "\n",
      "Wed Jul 30 23:21:17 2025 AUC 0.92947961154696\n",
      "\n",
      "[mbo] 35: num_iterations=1609; learning_rate=0.011; feature_fraction=0.64; num_leaves=74; min_data_in_leaf=32; max_depth=6; bagging_fraction=0.668; lambda_l1=2.96; lambda_l2=7.01; min_gain_to_split=0.152 : y = 0.929 : 49.9 secs : infill_ei\n",
      "\n",
      "Wed Jul 30 23:22:16 2025 AUC 0.929002263705242\n",
      "\n",
      "[mbo] 36: num_iterations=1552; learning_rate=0.0104; feature_fraction=0.795; num_leaves=178; min_data_in_leaf=23; max_depth=12; bagging_fraction=0.708; lambda_l1=4.08; lambda_l2=9.31; min_gain_to_split=0.285 : y = 0.929 : 57.2 secs : infill_ei\n",
      "\n",
      "Wed Jul 30 23:22:55 2025 AUC 0.929225557065018\n",
      "\n",
      "[mbo] 37: num_iterations=1551; learning_rate=0.0371; feature_fraction=0.841; num_leaves=84; min_data_in_leaf=52; max_depth=11; bagging_fraction=0.797; lambda_l1=4.07; lambda_l2=8.73; min_gain_to_split=0.0518 : y = 0.929 : 37.3 secs : infill_ei\n",
      "\n",
      "Wed Jul 30 23:23:26 2025 AUC 0.928749589821369\n",
      "\n",
      "[mbo] 38: num_iterations=1466; learning_rate=0.0611; feature_fraction=0.917; num_leaves=120; min_data_in_leaf=83; max_depth=6; bagging_fraction=0.623; lambda_l1=3.32; lambda_l2=10; min_gain_to_split=0.0719 : y = 0.929 : 28.6 secs : infill_ei\n",
      "\n",
      "Wed Jul 30 23:24:00 2025 AUC 0.929498513340402\n",
      "\n",
      "[mbo] 39: num_iterations=1652; learning_rate=0.0344; feature_fraction=0.645; num_leaves=151; min_data_in_leaf=42; max_depth=9; bagging_fraction=0.609; lambda_l1=4.87; lambda_l2=6.02; min_gain_to_split=0.197 : y = 0.929 : 33.0 secs : infill_ei\n",
      "\n",
      "Wed Jul 30 23:24:23 2025 AUC 0.929254871715604\n",
      "\n",
      "[mbo] 40: num_iterations=986; learning_rate=0.0291; feature_fraction=0.877; num_leaves=64; min_data_in_leaf=39; max_depth=4; bagging_fraction=0.601; lambda_l1=2.29; lambda_l2=7.91; min_gain_to_split=0.429 : y = 0.929 : 20.9 secs : infill_ei\n",
      "\n",
      "Wed Jul 30 23:24:58 2025 AUC 0.928149716792188\n",
      "\n",
      "[mbo] 41: num_iterations=1309; learning_rate=0.0381; feature_fraction=0.611; num_leaves=173; min_data_in_leaf=25; max_depth=11; bagging_fraction=0.771; lambda_l1=6.01; lambda_l2=6.45; min_gain_to_split=0.392 : y = 0.928 : 33.1 secs : infill_ei\n",
      "\n",
      "Wed Jul 30 23:25:25 2025 AUC 0.928127616798138\n",
      "\n",
      "[mbo] 42: num_iterations=1546; learning_rate=0.0402; feature_fraction=0.75; num_leaves=58; min_data_in_leaf=50; max_depth=12; bagging_fraction=0.694; lambda_l1=3.59; lambda_l2=8.54; min_gain_to_split=0.611 : y = 0.928 : 25.2 secs : infill_ei\n",
      "\n",
      "Wed Jul 30 23:25:39 2025 AUC 0.92947897980493\n",
      "\n",
      "[mbo] 43: num_iterations=546; learning_rate=0.0509; feature_fraction=0.669; num_leaves=17; min_data_in_leaf=53; max_depth=5; bagging_fraction=0.736; lambda_l1=1.4; lambda_l2=4.33; min_gain_to_split=0.536 : y = 0.929 : 12.1 secs : infill_ei\n",
      "\n",
      "Wed Jul 30 23:26:14 2025 AUC 0.928706724149786\n",
      "\n",
      "[mbo] 44: num_iterations=1961; learning_rate=0.043; feature_fraction=0.674; num_leaves=88; min_data_in_leaf=39; max_depth=5; bagging_fraction=0.604; lambda_l1=4.23; lambda_l2=7.98; min_gain_to_split=0.167 : y = 0.929 : 33.1 secs : infill_ei\n",
      "\n",
      "Wed Jul 30 23:26:37 2025 AUC 0.929435239226431\n",
      "\n",
      "[mbo] 45: num_iterations=1027; learning_rate=0.0577; feature_fraction=0.843; num_leaves=47; min_data_in_leaf=49; max_depth=4; bagging_fraction=0.734; lambda_l1=1.08; lambda_l2=8.12; min_gain_to_split=0.215 : y = 0.929 : 21.6 secs : infill_ei\n",
      "\n",
      "Wed Jul 30 23:27:09 2025 AUC 0.929525099141875\n",
      "\n",
      "[mbo] 46: num_iterations=1260; learning_rate=0.0409; feature_fraction=0.852; num_leaves=59; min_data_in_leaf=36; max_depth=6; bagging_fraction=0.751; lambda_l1=1.06; lambda_l2=9.18; min_gain_to_split=0.214 : y = 0.93 : 29.5 secs : infill_ei\n",
      "\n",
      "Wed Jul 30 23:27:50 2025 AUC 0.92862470751913\n",
      "\n",
      "[mbo] 47: num_iterations=1528; learning_rate=0.0646; feature_fraction=0.68; num_leaves=106; min_data_in_leaf=27; max_depth=5; bagging_fraction=0.619; lambda_l1=0.706; lambda_l2=7.87; min_gain_to_split=0.0358 : y = 0.929 : 39.4 secs : infill_ei\n",
      "\n",
      "Wed Jul 30 23:28:31 2025 AUC 0.930039344803317\n",
      "\n",
      "[mbo] 48: num_iterations=1421; learning_rate=0.0349; feature_fraction=0.6; num_leaves=19; min_data_in_leaf=10; max_depth=6; bagging_fraction=0.645; lambda_l1=3.89; lambda_l2=8.96; min_gain_to_split=0.263 : y = 0.93 : 39.2 secs : infill_ei\n",
      "\n",
      "Saved the current state after iteration 49 in the file bayesiana.RDATA.\n",
      "\n",
      "Wed Jul 30 23:29:12 2025 AUC 0.928801534072148\n",
      "\n",
      "[mbo] 49: num_iterations=1372; learning_rate=0.0178; feature_fraction=0.621; num_leaves=184; min_data_in_leaf=16; max_depth=6; bagging_fraction=0.693; lambda_l1=7.17; lambda_l2=3.03; min_gain_to_split=0.278 : y = 0.929 : 33.4 secs : infill_ei\n",
      "\n",
      "Wed Jul 30 23:29:51 2025 AUC 0.928165836575478\n",
      "\n",
      "[mbo] 50: num_iterations=1668; learning_rate=0.0219; feature_fraction=0.868; num_leaves=138; min_data_in_leaf=49; max_depth=9; bagging_fraction=0.771; lambda_l1=4.85; lambda_l2=10; min_gain_to_split=0.19 : y = 0.928 : 37.4 secs : infill_ei\n",
      "\n",
      "Wed Jul 30 23:30:26 2025 AUC 0.929678541641369\n",
      "\n",
      "[mbo] 51: num_iterations=1328; learning_rate=0.0426; feature_fraction=0.602; num_leaves=102; min_data_in_leaf=38; max_depth=6; bagging_fraction=0.603; lambda_l1=3.97; lambda_l2=8.81; min_gain_to_split=0.481 : y = 0.93 : 32.5 secs : infill_ei\n",
      "\n",
      "Wed Jul 30 23:31:03 2025 AUC 0.929187832992853\n",
      "\n",
      "[mbo] 52: num_iterations=1253; learning_rate=0.013; feature_fraction=0.676; num_leaves=182; min_data_in_leaf=13; max_depth=6; bagging_fraction=0.627; lambda_l1=3.99; lambda_l2=7.6; min_gain_to_split=0.368 : y = 0.929 : 35.2 secs : infill_ei\n",
      "\n",
      "Wed Jul 30 23:31:26 2025 AUC 0.9286949151218\n",
      "\n",
      "[mbo] 53: num_iterations=1049; learning_rate=0.0744; feature_fraction=0.871; num_leaves=166; min_data_in_leaf=44; max_depth=5; bagging_fraction=0.626; lambda_l1=2.2; lambda_l2=9.9; min_gain_to_split=0.142 : y = 0.929 : 20.7 secs : infill_ei\n",
      "\n",
      "Wed Jul 30 23:31:49 2025 AUC 0.928884752648226\n",
      "\n",
      "[mbo] 54: num_iterations=1207; learning_rate=0.0354; feature_fraction=0.872; num_leaves=109; min_data_in_leaf=50; max_depth=5; bagging_fraction=0.734; lambda_l1=1.55; lambda_l2=6.8; min_gain_to_split=0.759 : y = 0.929 : 21.0 secs : infill_ei\n",
      "\n",
      "Wed Jul 30 23:32:10 2025 AUC 0.929108346458155\n",
      "\n",
      "[mbo] 55: num_iterations=858; learning_rate=0.0422; feature_fraction=0.804; num_leaves=53; min_data_in_leaf=67; max_depth=5; bagging_fraction=0.687; lambda_l1=2.38; lambda_l2=3.32; min_gain_to_split=0.254 : y = 0.929 : 19.5 secs : infill_ei\n",
      "\n",
      "Wed Jul 30 23:33:14 2025 AUC 0.929226176070023\n",
      "\n",
      "[mbo] 56: num_iterations=1744; learning_rate=0.0329; feature_fraction=0.638; num_leaves=144; min_data_in_leaf=32; max_depth=11; bagging_fraction=0.625; lambda_l1=2.41; lambda_l2=8.82; min_gain_to_split=0.0375 : y = 0.929 : 61.0 secs : infill_ei\n",
      "\n",
      "Wed Jul 30 23:34:18 2025 AUC 0.928286728742352\n",
      "\n",
      "[mbo] 57: num_iterations=1634; learning_rate=0.0322; feature_fraction=0.83; num_leaves=203; min_data_in_leaf=47; max_depth=12; bagging_fraction=0.675; lambda_l1=2.79; lambda_l2=4.95; min_gain_to_split=0.0136 : y = 0.928 : 62.4 secs : infill_ei\n",
      "\n",
      "Wed Jul 30 23:34:52 2025 AUC 0.929741481649956\n",
      "\n",
      "[mbo] 58: num_iterations=807; learning_rate=0.0196; feature_fraction=0.777; num_leaves=69; min_data_in_leaf=38; max_depth=11; bagging_fraction=0.607; lambda_l1=3.22; lambda_l2=9.6; min_gain_to_split=0.206 : y = 0.93 : 32.0 secs : infill_ei\n",
      "\n",
      "Wed Jul 30 23:35:18 2025 AUC 0.930064268114624\n",
      "\n",
      "[mbo] 59: num_iterations=1000; learning_rate=0.036; feature_fraction=0.676; num_leaves=81; min_data_in_leaf=13; max_depth=5; bagging_fraction=0.655; lambda_l1=1.44; lambda_l2=9.27; min_gain_to_split=0.291 : y = 0.93 : 23.5 secs : infill_ei\n",
      "\n",
      "Wed Jul 30 23:35:55 2025 AUC 0.927997913400348\n",
      "\n",
      "[mbo] 60: num_iterations=1004; learning_rate=0.0116; feature_fraction=0.803; num_leaves=64; min_data_in_leaf=27; max_depth=9; bagging_fraction=0.605; lambda_l1=6.81; lambda_l2=7.57; min_gain_to_split=0.289 : y = 0.928 : 34.4 secs : infill_ei\n",
      "\n",
      "Wed Jul 30 23:36:17 2025 AUC 0.928128049900846\n",
      "\n",
      "[mbo] 61: num_iterations=842; learning_rate=0.04; feature_fraction=0.88; num_leaves=45; min_data_in_leaf=53; max_depth=5; bagging_fraction=0.698; lambda_l1=0.303; lambda_l2=9.93; min_gain_to_split=0.239 : y = 0.928 : 20.4 secs : infill_ei\n",
      "\n",
      "Wed Jul 30 23:36:43 2025 AUC 0.929328042672135\n",
      "\n",
      "[mbo] 62: num_iterations=958; learning_rate=0.0905; feature_fraction=0.604; num_leaves=79; min_data_in_leaf=68; max_depth=5; bagging_fraction=0.756; lambda_l1=2.77; lambda_l2=8.25; min_gain_to_split=0.311 : y = 0.929 : 23.4 secs : infill_ei\n",
      "\n",
      "Wed Jul 30 23:37:07 2025 AUC 0.928483301393313\n",
      "\n",
      "[mbo] 63: num_iterations=1114; learning_rate=0.0471; feature_fraction=0.643; num_leaves=18; min_data_in_leaf=54; max_depth=5; bagging_fraction=0.803; lambda_l1=4.23; lambda_l2=8.27; min_gain_to_split=0.308 : y = 0.928 : 20.6 secs : infill_ei\n",
      "\n",
      "Wed Jul 30 23:37:31 2025 AUC 0.928182055187069\n",
      "\n",
      "[mbo] 64: num_iterations=1076; learning_rate=0.0477; feature_fraction=0.717; num_leaves=90; min_data_in_leaf=30; max_depth=5; bagging_fraction=0.622; lambda_l1=2.75; lambda_l2=9.06; min_gain_to_split=0.176 : y = 0.928 : 22.0 secs : infill_ei\n",
      "\n",
      "Wed Jul 30 23:37:56 2025 AUC 0.930202685818373\n",
      "\n",
      "[mbo] 65: num_iterations=995; learning_rate=0.0355; feature_fraction=0.638; num_leaves=38; min_data_in_leaf=15; max_depth=6; bagging_fraction=0.671; lambda_l1=0.515; lambda_l2=9.54; min_gain_to_split=0.649 : y = 0.93 : 22.7 secs : infill_ei\n",
      "\n",
      "Wed Jul 30 23:38:10 2025 AUC 0.928807485830166\n",
      "\n",
      "[mbo] 66: num_iterations=492; learning_rate=0.063; feature_fraction=0.636; num_leaves=56; min_data_in_leaf=18; max_depth=6; bagging_fraction=0.735; lambda_l1=3.82; lambda_l2=8.74; min_gain_to_split=0.282 : y = 0.929 : 11.9 secs : infill_ei\n",
      "\n",
      "Wed Jul 30 23:38:29 2025 AUC 0.928772960822044\n",
      "\n",
      "[mbo] 67: num_iterations=964; learning_rate=0.0459; feature_fraction=0.84; num_leaves=106; min_data_in_leaf=32; max_depth=5; bagging_fraction=0.68; lambda_l1=3.57; lambda_l2=8.79; min_gain_to_split=0.466 : y = 0.929 : 16.5 secs : infill_ei\n",
      "\n",
      "Wed Jul 30 23:38:58 2025 AUC 0.929294902059831\n",
      "\n",
      "[mbo] 68: num_iterations=1012; learning_rate=0.0181; feature_fraction=0.629; num_leaves=36; min_data_in_leaf=90; max_depth=5; bagging_fraction=0.606; lambda_l1=1.09; lambda_l2=9.65; min_gain_to_split=0.658 : y = 0.929 : 26.9 secs : infill_ei\n",
      "\n",
      "Saved the current state after iteration 69 in the file bayesiana.RDATA.\n",
      "\n",
      "Wed Jul 30 23:39:29 2025 AUC 0.929293567192087\n",
      "\n",
      "[mbo] 69: num_iterations=875; learning_rate=0.057; feature_fraction=0.828; num_leaves=57; min_data_in_leaf=14; max_depth=5; bagging_fraction=0.625; lambda_l1=1.04; lambda_l2=9.5; min_gain_to_split=0.137 : y = 0.929 : 23.6 secs : infill_ei\n",
      "\n",
      "Wed Jul 30 23:39:59 2025 AUC 0.929395034945453\n",
      "\n",
      "[mbo] 70: num_iterations=1085; learning_rate=0.0277; feature_fraction=0.885; num_leaves=87; min_data_in_leaf=78; max_depth=5; bagging_fraction=0.652; lambda_l1=1.59; lambda_l2=9.38; min_gain_to_split=0.217 : y = 0.929 : 27.2 secs : infill_ei\n",
      "\n",
      "Wed Jul 30 23:40:33 2025 AUC 0.929357876319982\n",
      "\n",
      "[mbo] 71: num_iterations=1249; learning_rate=0.0192; feature_fraction=0.695; num_leaves=102; min_data_in_leaf=37; max_depth=6; bagging_fraction=0.609; lambda_l1=1.28; lambda_l2=9.81; min_gain_to_split=0.547 : y = 0.929 : 31.6 secs : infill_ei\n",
      "\n",
      "Wed Jul 30 23:41:11 2025 AUC 0.929266047175519\n",
      "\n",
      "[mbo] 72: num_iterations=1421; learning_rate=0.0294; feature_fraction=0.633; num_leaves=124; min_data_in_leaf=32; max_depth=8; bagging_fraction=0.67; lambda_l1=3.86; lambda_l2=8.66; min_gain_to_split=0.177 : y = 0.929 : 35.9 secs : infill_ei\n",
      "\n",
      "Wed Jul 30 23:41:41 2025 AUC 0.929612934898321\n",
      "\n",
      "[mbo] 73: num_iterations=1477; learning_rate=0.061; feature_fraction=0.622; num_leaves=68; min_data_in_leaf=37; max_depth=5; bagging_fraction=0.651; lambda_l1=2.23; lambda_l2=4.78; min_gain_to_split=0.523 : y = 0.93 : 28.3 secs : infill_ei\n",
      "\n",
      "Wed Jul 30 23:42:09 2025 AUC 0.929171766959606\n",
      "\n",
      "[mbo] 74: num_iterations=1488; learning_rate=0.0422; feature_fraction=0.704; num_leaves=26; min_data_in_leaf=18; max_depth=6; bagging_fraction=0.686; lambda_l1=1.59; lambda_l2=9.67; min_gain_to_split=0.575 : y = 0.929 : 26.0 secs : infill_ei\n",
      "\n",
      "Wed Jul 30 23:42:36 2025 AUC 0.929073009215599\n",
      "\n",
      "[mbo] 75: num_iterations=871; learning_rate=0.0388; feature_fraction=0.954; num_leaves=49; min_data_in_leaf=56; max_depth=7; bagging_fraction=0.638; lambda_l1=0.669; lambda_l2=9.86; min_gain_to_split=0.317 : y = 0.929 : 24.0 secs : infill_ei\n",
      "\n",
      "Wed Jul 30 23:42:56 2025 AUC 0.929297723245236\n",
      "\n",
      "[mbo] 76: num_iterations=752; learning_rate=0.0542; feature_fraction=0.737; num_leaves=97; min_data_in_leaf=41; max_depth=5; bagging_fraction=0.838; lambda_l1=1.72; lambda_l2=9.39; min_gain_to_split=0.232 : y = 0.929 : 18.1 secs : infill_ei\n",
      "\n",
      "Wed Jul 30 23:43:24 2025 AUC 0.929931845887199\n",
      "\n",
      "[mbo] 77: num_iterations=817; learning_rate=0.0192; feature_fraction=0.617; num_leaves=53; min_data_in_leaf=71; max_depth=5; bagging_fraction=0.644; lambda_l1=1.6; lambda_l2=9.38; min_gain_to_split=0.145 : y = 0.93 : 25.4 secs : infill_ei\n",
      "\n",
      "Wed Jul 30 23:43:40 2025 AUC 0.929331248299553\n",
      "\n",
      "[mbo] 78: num_iterations=730; learning_rate=0.067; feature_fraction=0.922; num_leaves=112; min_data_in_leaf=51; max_depth=3; bagging_fraction=0.715; lambda_l1=0.674; lambda_l2=8.38; min_gain_to_split=0.192 : y = 0.929 : 13.4 secs : infill_ei\n",
      "\n",
      "Wed Jul 30 23:44:20 2025 AUC 0.929146202418438\n",
      "\n",
      "[mbo] 79: num_iterations=1357; learning_rate=0.0215; feature_fraction=0.616; num_leaves=120; min_data_in_leaf=62; max_depth=6; bagging_fraction=0.643; lambda_l1=5.22; lambda_l2=8.38; min_gain_to_split=0.167 : y = 0.929 : 37.6 secs : infill_ei\n",
      "\n",
      "Wed Jul 30 23:45:04 2025 AUC 0.928656186011061\n",
      "\n",
      "[mbo] 80: num_iterations=1469; learning_rate=0.0236; feature_fraction=0.823; num_leaves=55; min_data_in_leaf=39; max_depth=9; bagging_fraction=0.639; lambda_l1=0.727; lambda_l2=9.69; min_gain_to_split=0.271 : y = 0.929 : 41.2 secs : infill_ei\n",
      "\n",
      "Wed Jul 30 23:45:28 2025 AUC 0.928678750175243\n",
      "\n",
      "[mbo] 81: num_iterations=1187; learning_rate=0.0453; feature_fraction=0.841; num_leaves=66; min_data_in_leaf=45; max_depth=3; bagging_fraction=0.638; lambda_l1=1.49; lambda_l2=6.55; min_gain_to_split=0.448 : y = 0.929 : 21.7 secs : infill_ei\n",
      "\n",
      "Wed Jul 30 23:45:52 2025 AUC 0.929941011025285\n",
      "\n",
      "[mbo] 82: num_iterations=1012; learning_rate=0.0313; feature_fraction=0.632; num_leaves=39; min_data_in_leaf=40; max_depth=5; bagging_fraction=0.776; lambda_l1=2.77; lambda_l2=6.97; min_gain_to_split=0.769 : y = 0.93 : 20.8 secs : infill_ei\n",
      "\n",
      "Wed Jul 30 23:46:18 2025 AUC 0.929257871173782\n",
      "\n",
      "[mbo] 83: num_iterations=1474; learning_rate=0.0358; feature_fraction=0.664; num_leaves=79; min_data_in_leaf=27; max_depth=6; bagging_fraction=0.603; lambda_l1=5.56; lambda_l2=2.81; min_gain_to_split=0.398 : y = 0.929 : 24.0 secs : infill_ei\n",
      "\n",
      "Wed Jul 30 23:46:33 2025 AUC 0.929590731922287\n",
      "\n",
      "[mbo] 84: num_iterations=528; learning_rate=0.0579; feature_fraction=0.999; num_leaves=125; min_data_in_leaf=24; max_depth=4; bagging_fraction=0.717; lambda_l1=1.61; lambda_l2=8.71; min_gain_to_split=0.231 : y = 0.93 : 11.9 secs : infill_ei\n",
      "\n",
      "Wed Jul 30 23:46:38 2025 AUC 0.915492622316915\n",
      "\n",
      "[mbo] 85: num_iterations=40; learning_rate=0.0151; feature_fraction=0.659; num_leaves=50; min_data_in_leaf=35; max_depth=5; bagging_fraction=0.644; lambda_l1=0.781; lambda_l2=9.93; min_gain_to_split=0.812 : y = 0.915 : 1.7 secs : infill_ei\n",
      "\n",
      "Wed Jul 30 23:47:08 2025 AUC 0.929957791799456\n",
      "\n",
      "[mbo] 86: num_iterations=924; learning_rate=0.0309; feature_fraction=0.6; num_leaves=29; min_data_in_leaf=35; max_depth=5; bagging_fraction=0.804; lambda_l1=1.54; lambda_l2=2.07; min_gain_to_split=0.896 : y = 0.93 : 27.7 secs : infill_ei\n",
      "\n",
      "Wed Jul 30 23:47:31 2025 AUC 0.929000995163877\n",
      "\n",
      "[mbo] 87: num_iterations=759; learning_rate=0.015; feature_fraction=0.72; num_leaves=175; min_data_in_leaf=88; max_depth=5; bagging_fraction=0.7; lambda_l1=3.69; lambda_l2=5.54; min_gain_to_split=0.0717 : y = 0.929 : 20.3 secs : infill_ei\n",
      "\n",
      "Wed Jul 30 23:47:46 2025 AUC 0.927304312883771\n",
      "\n",
      "[mbo] 88: num_iterations=483; learning_rate=0.114; feature_fraction=0.606; num_leaves=58; min_data_in_leaf=67; max_depth=3; bagging_fraction=0.742; lambda_l1=3.07; lambda_l2=1.02; min_gain_to_split=0.758 : y = 0.927 : 11.8 secs : infill_ei\n",
      "\n",
      "Wed Jul 30 23:47:59 2025 AUC 0.928381154061893\n",
      "\n",
      "[mbo] 89: num_iterations=514; learning_rate=0.0644; feature_fraction=0.975; num_leaves=207; min_data_in_leaf=86; max_depth=3; bagging_fraction=0.744; lambda_l1=1.59; lambda_l2=4.56; min_gain_to_split=0.214 : y = 0.928 : 10.0 secs : infill_ei\n",
      "\n",
      "Wed Jul 30 23:48:22 2025 AUC 0.92877860498752\n",
      "\n",
      "[mbo] 90: num_iterations=769; learning_rate=0.0229; feature_fraction=0.929; num_leaves=134; min_data_in_leaf=89; max_depth=5; bagging_fraction=0.601; lambda_l1=2.59; lambda_l2=5.72; min_gain_to_split=0.23 : y = 0.929 : 20.9 secs : infill_ei\n",
      "\n",
      "Wed Jul 30 23:48:58 2025 AUC 0.929530603678521\n",
      "\n",
      "[mbo] 91: num_iterations=907; learning_rate=0.0101; feature_fraction=0.629; num_leaves=88; min_data_in_leaf=63; max_depth=12; bagging_fraction=0.747; lambda_l1=2.88; lambda_l2=7.02; min_gain_to_split=0.928 : y = 0.93 : 33.5 secs : infill_ei\n",
      "\n",
      "Wed Jul 30 23:49:33 2025 AUC 0.928353270176902\n",
      "\n",
      "[mbo] 92: num_iterations=1405; learning_rate=0.0156; feature_fraction=0.887; num_leaves=240; min_data_in_leaf=15; max_depth=4; bagging_fraction=0.771; lambda_l1=1.64; lambda_l2=8.96; min_gain_to_split=0.0294 : y = 0.928 : 31.1 secs : infill_ei\n",
      "\n",
      "Saved the current state after iteration 93 in the file bayesiana.RDATA.\n",
      "\n",
      "Wed Jul 30 23:50:14 2025 AUC 0.930052527743223\n",
      "\n",
      "[mbo] 93: num_iterations=906; learning_rate=0.0152; feature_fraction=0.613; num_leaves=22; min_data_in_leaf=48; max_depth=9; bagging_fraction=0.657; lambda_l1=3.73; lambda_l2=8.12; min_gain_to_split=0.0106 : y = 0.93 : 34.3 secs : infill_ei\n",
      "\n",
      "Wed Jul 30 23:50:51 2025 AUC 0.929337010794817\n",
      "\n",
      "[mbo] 94: num_iterations=890; learning_rate=0.0281; feature_fraction=0.612; num_leaves=123; min_data_in_leaf=69; max_depth=9; bagging_fraction=0.667; lambda_l1=2.32; lambda_l2=6.81; min_gain_to_split=0.259 : y = 0.929 : 33.8 secs : infill_ei\n",
      "\n",
      "Wed Jul 30 23:51:26 2025 AUC 0.928026899975443\n",
      "\n",
      "[mbo] 95: num_iterations=1713; learning_rate=0.0588; feature_fraction=0.899; num_leaves=124; min_data_in_leaf=35; max_depth=5; bagging_fraction=0.615; lambda_l1=3.59; lambda_l2=9; min_gain_to_split=0.0607 : y = 0.928 : 31.4 secs : infill_ei\n",
      "\n",
      "Wed Jul 30 23:51:56 2025 AUC 0.929592232834971\n",
      "\n",
      "[mbo] 96: num_iterations=1127; learning_rate=0.0326; feature_fraction=0.607; num_leaves=99; min_data_in_leaf=36; max_depth=5; bagging_fraction=0.889; lambda_l1=2.86; lambda_l2=3.31; min_gain_to_split=0.924 : y = 0.93 : 27.2 secs : infill_ei\n",
      "\n",
      "Wed Jul 30 23:52:25 2025 AUC 0.929419989200024\n",
      "\n",
      "[mbo] 97: num_iterations=817; learning_rate=0.0107; feature_fraction=0.681; num_leaves=71; min_data_in_leaf=38; max_depth=9; bagging_fraction=0.867; lambda_l1=3.47; lambda_l2=7.63; min_gain_to_split=0.954 : y = 0.929 : 27.2 secs : infill_ei\n",
      "\n",
      "Wed Jul 30 23:52:59 2025 AUC 0.928596904398933\n",
      "\n",
      "[mbo] 98: num_iterations=1601; learning_rate=0.0355; feature_fraction=0.658; num_leaves=231; min_data_in_leaf=39; max_depth=3; bagging_fraction=0.992; lambda_l1=1.59; lambda_l2=9.62; min_gain_to_split=0.394 : y = 0.929 : 30.5 secs : infill_ei\n",
      "\n",
      "Wed Jul 30 23:53:50 2025 AUC 0.929194118824146\n",
      "\n",
      "[mbo] 99: num_iterations=1621; learning_rate=0.0101; feature_fraction=0.627; num_leaves=234; min_data_in_leaf=43; max_depth=6; bagging_fraction=0.601; lambda_l1=1.19; lambda_l2=8.72; min_gain_to_split=0.714 : y = 0.929 : 47.8 secs : infill_ei\n",
      "\n",
      "Wed Jul 30 23:54:25 2025 AUC 0.928916504845125\n",
      "\n",
      "[mbo] 100: num_iterations=1257; learning_rate=0.0415; feature_fraction=0.601; num_leaves=76; min_data_in_leaf=81; max_depth=5; bagging_fraction=0.757; lambda_l1=0.805; lambda_l2=6.19; min_gain_to_split=0.665 : y = 0.929 : 32.5 secs : infill_ei\n",
      "\n",
      "Wed Jul 30 23:54:57 2025 AUC 0.928436241739663\n",
      "\n",
      "[mbo] 101: num_iterations=985; learning_rate=0.0345; feature_fraction=0.602; num_leaves=106; min_data_in_leaf=13; max_depth=12; bagging_fraction=0.602; lambda_l1=1.52; lambda_l2=2.56; min_gain_to_split=0.619 : y = 0.928 : 28.9 secs : infill_ei\n",
      "\n",
      "Wed Jul 30 23:55:32 2025 AUC 0.929481570831343\n",
      "\n",
      "[mbo] 102: num_iterations=815; learning_rate=0.0104; feature_fraction=0.883; num_leaves=35; min_data_in_leaf=70; max_depth=11; bagging_fraction=0.635; lambda_l1=4.12; lambda_l2=5.92; min_gain_to_split=0.103 : y = 0.929 : 31.4 secs : infill_ei\n",
      "\n",
      "Wed Jul 30 23:55:47 2025 AUC 0.92832218303463\n",
      "\n",
      "[mbo] 103: num_iterations=520; learning_rate=0.0669; feature_fraction=0.755; num_leaves=98; min_data_in_leaf=52; max_depth=7; bagging_fraction=0.736; lambda_l1=3.77; lambda_l2=4.52; min_gain_to_split=0.251 : y = 0.928 : 11.5 secs : infill_ei\n",
      "\n",
      "Wed Jul 30 23:56:14 2025 AUC 0.927440409978703\n",
      "\n",
      "[mbo] 104: num_iterations=907; learning_rate=0.0254; feature_fraction=0.984; num_leaves=38; min_data_in_leaf=33; max_depth=5; bagging_fraction=0.605; lambda_l1=1.59; lambda_l2=4.63; min_gain_to_split=0.249 : y = 0.927 : 23.8 secs : infill_ei\n",
      "\n",
      "Wed Jul 30 23:56:40 2025 AUC 0.929243907537959\n",
      "\n",
      "[mbo] 105: num_iterations=886; learning_rate=0.0631; feature_fraction=0.604; num_leaves=20; min_data_in_leaf=43; max_depth=6; bagging_fraction=0.824; lambda_l1=1.84; lambda_l2=7.29; min_gain_to_split=0.502 : y = 0.929 : 23.7 secs : infill_ei\n",
      "\n",
      "Wed Jul 30 23:57:17 2025 AUC 0.929618864438912\n",
      "\n",
      "[mbo] 106: num_iterations=1299; learning_rate=0.0131; feature_fraction=0.675; num_leaves=80; min_data_in_leaf=13; max_depth=5; bagging_fraction=0.863; lambda_l1=1.56; lambda_l2=8.76; min_gain_to_split=0.429 : y = 0.93 : 33.0 secs : infill_ei\n",
      "\n",
      "Wed Jul 30 23:57:48 2025 AUC 0.929063889568793\n",
      "\n",
      "[mbo] 107: num_iterations=776; learning_rate=0.0148; feature_fraction=0.609; num_leaves=46; min_data_in_leaf=72; max_depth=7; bagging_fraction=0.794; lambda_l1=5.88; lambda_l2=6.87; min_gain_to_split=0.432 : y = 0.929 : 28.4 secs : infill_ei\n",
      "\n",
      "Wed Jul 30 23:58:20 2025 AUC 0.929090089731238\n",
      "\n",
      "[mbo] 108: num_iterations=911; learning_rate=0.0227; feature_fraction=0.653; num_leaves=75; min_data_in_leaf=39; max_depth=6; bagging_fraction=0.772; lambda_l1=1.81; lambda_l2=4.17; min_gain_to_split=0.0847 : y = 0.929 : 28.6 secs : infill_ei\n",
      "\n",
      "Wed Jul 30 23:58:37 2025 AUC 0.92911536332012\n",
      "\n",
      "[mbo] 109: num_iterations=771; learning_rate=0.0386; feature_fraction=0.714; num_leaves=30; min_data_in_leaf=22; max_depth=3; bagging_fraction=0.873; lambda_l1=3.71; lambda_l2=0.897; min_gain_to_split=0.83 : y = 0.929 : 14.2 secs : infill_ei\n",
      "\n",
      "Wed Jul 30 23:59:12 2025 AUC 0.929392292814753\n",
      "\n",
      "[mbo] 110: num_iterations=1227; learning_rate=0.0287; feature_fraction=0.602; num_leaves=42; min_data_in_leaf=17; max_depth=5; bagging_fraction=0.788; lambda_l1=2.53; lambda_l2=2.36; min_gain_to_split=0.903 : y = 0.929 : 30.8 secs : infill_ei\n",
      "\n",
      "Wed Jul 30 23:59:42 2025 AUC 0.928550990650131\n",
      "\n",
      "[mbo] 111: num_iterations=917; learning_rate=0.0275; feature_fraction=0.6; num_leaves=206; min_data_in_leaf=46; max_depth=5; bagging_fraction=0.754; lambda_l1=4.96; lambda_l2=4.14; min_gain_to_split=0.463 : y = 0.929 : 26.9 secs : infill_ei\n",
      "\n",
      "Saved the current state after iteration 112 in the file bayesiana.RDATA.\n",
      "\n",
      "Thu Jul 31 00:00:10 2025 AUC 0.928371028317267\n",
      "\n",
      "[mbo] 112: num_iterations=846; learning_rate=0.0503; feature_fraction=0.626; num_leaves=17; min_data_in_leaf=90; max_depth=5; bagging_fraction=0.717; lambda_l1=4.38; lambda_l2=3.76; min_gain_to_split=0.436 : y = 0.928 : 18.6 secs : infill_ei\n",
      "\n",
      "Thu Jul 31 00:00:32 2025 AUC 0.928314064275144\n",
      "\n",
      "[mbo] 113: num_iterations=762; learning_rate=0.0416; feature_fraction=0.876; num_leaves=125; min_data_in_leaf=62; max_depth=4; bagging_fraction=0.65; lambda_l1=3.33; lambda_l2=8.88; min_gain_to_split=0.0338 : y = 0.928 : 17.9 secs : infill_ei\n",
      "\n",
      "Thu Jul 31 00:00:56 2025 AUC 0.928418333657726\n",
      "\n",
      "[mbo] 114: num_iterations=697; learning_rate=0.0128; feature_fraction=0.646; num_leaves=48; min_data_in_leaf=62; max_depth=5; bagging_fraction=0.879; lambda_l1=2.61; lambda_l2=3.79; min_gain_to_split=0.891 : y = 0.928 : 20.6 secs : infill_ei\n",
      "\n",
      "Thu Jul 31 00:01:30 2025 AUC 0.929645520085936\n",
      "\n",
      "[mbo] 115: num_iterations=988; learning_rate=0.0167; feature_fraction=0.651; num_leaves=22; min_data_in_leaf=23; max_depth=11; bagging_fraction=0.766; lambda_l1=0.482; lambda_l2=6.5; min_gain_to_split=0.567 : y = 0.93 : 31.2 secs : infill_ei\n",
      "\n",
      "Thu Jul 31 00:01:58 2025 AUC 0.926659756733755\n",
      "\n",
      "[mbo] 116: num_iterations=906; learning_rate=0.0136; feature_fraction=0.607; num_leaves=50; min_data_in_leaf=10; max_depth=3; bagging_fraction=0.712; lambda_l1=1.55; lambda_l2=7.58; min_gain_to_split=0.385 : y = 0.927 : 24.5 secs : infill_ei\n",
      "\n",
      "Thu Jul 31 00:02:35 2025 AUC 0.929648185298536\n",
      "\n",
      "[mbo] 117: num_iterations=1153; learning_rate=0.0125; feature_fraction=0.724; num_leaves=24; min_data_in_leaf=69; max_depth=13; bagging_fraction=0.956; lambda_l1=2.09; lambda_l2=6.7; min_gain_to_split=0.538 : y = 0.93 : 33.4 secs : infill_ei\n",
      "\n",
      "Thu Jul 31 00:03:19 2025 AUC 0.927805237464372\n",
      "\n",
      "[mbo] 118: num_iterations=1736; learning_rate=0.0682; feature_fraction=0.613; num_leaves=199; min_data_in_leaf=37; max_depth=10; bagging_fraction=0.687; lambda_l1=4.2; lambda_l2=9.18; min_gain_to_split=0.236 : y = 0.928 : 40.1 secs : infill_ei\n",
      "\n",
      "Thu Jul 31 00:04:00 2025 AUC 0.928714673578025\n",
      "\n",
      "[mbo] 119: num_iterations=1153; learning_rate=0.0101; feature_fraction=0.731; num_leaves=133; min_data_in_leaf=17; max_depth=11; bagging_fraction=0.926; lambda_l1=4.04; lambda_l2=7.59; min_gain_to_split=0.627 : y = 0.929 : 38.3 secs : infill_ei\n",
      "\n",
      "Thu Jul 31 00:04:31 2025 AUC 0.928680033242775\n",
      "\n",
      "[mbo] 120: num_iterations=895; learning_rate=0.0457; feature_fraction=0.936; num_leaves=212; min_data_in_leaf=59; max_depth=6; bagging_fraction=0.603; lambda_l1=1.42; lambda_l2=9.34; min_gain_to_split=0.128 : y = 0.929 : 27.5 secs : infill_ei\n",
      "\n",
      "Thu Jul 31 00:04:51 2025 AUC 0.928630389564552\n",
      "\n",
      "[mbo] 121: num_iterations=891; learning_rate=0.0409; feature_fraction=0.699; num_leaves=74; min_data_in_leaf=80; max_depth=9; bagging_fraction=0.786; lambda_l1=0.724; lambda_l2=6.74; min_gain_to_split=0.968 : y = 0.929 : 17.2 secs : infill_ei\n",
      "\n",
      "Thu Jul 31 00:05:43 2025 AUC 0.929282813480939\n",
      "\n",
      "[mbo] 122: num_iterations=975; learning_rate=0.0176; feature_fraction=0.815; num_leaves=75; min_data_in_leaf=70; max_depth=10; bagging_fraction=0.661; lambda_l1=2.29; lambda_l2=8.94; min_gain_to_split=0.00718 : y = 0.929 : 48.9 secs : infill_ei\n",
      "\n",
      "Thu Jul 31 00:06:07 2025 AUC 0.928495415992841\n",
      "\n",
      "[mbo] 123: num_iterations=1289; learning_rate=0.0618; feature_fraction=0.912; num_leaves=54; min_data_in_leaf=12; max_depth=5; bagging_fraction=0.709; lambda_l1=4.48; lambda_l2=9.07; min_gain_to_split=0.17 : y = 0.928 : 21.5 secs : infill_ei\n",
      "\n",
      "Thu Jul 31 00:06:43 2025 AUC 0.9298642100908\n",
      "\n",
      "[mbo] 124: num_iterations=912; learning_rate=0.0176; feature_fraction=0.797; num_leaves=102; min_data_in_leaf=63; max_depth=13; bagging_fraction=0.848; lambda_l1=2.61; lambda_l2=8.63; min_gain_to_split=0.429 : y = 0.93 : 31.4 secs : infill_ei\n",
      "\n",
      "Thu Jul 31 00:07:44 2025 AUC 0.92746910130101\n",
      "\n",
      "[mbo] 125: num_iterations=903; learning_rate=0.014; feature_fraction=0.846; num_leaves=193; min_data_in_leaf=41; max_depth=13; bagging_fraction=0.626; lambda_l1=1.97; lambda_l2=8.26; min_gain_to_split=0.199 : y = 0.927 : 57.5 secs : infill_ei\n",
      "\n",
      "Thu Jul 31 00:08:11 2025 AUC 0.92856778657489\n",
      "\n",
      "[mbo] 126: num_iterations=960; learning_rate=0.0205; feature_fraction=0.645; num_leaves=16; min_data_in_leaf=35; max_depth=12; bagging_fraction=0.916; lambda_l1=3.52; lambda_l2=1.5; min_gain_to_split=0.644 : y = 0.929 : 22.5 secs : infill_ei\n",
      "\n",
      "Thu Jul 31 00:08:36 2025 AUC 0.929124584613691\n",
      "\n",
      "[mbo] 127: num_iterations=1107; learning_rate=0.0262; feature_fraction=0.647; num_leaves=17; min_data_in_leaf=27; max_depth=6; bagging_fraction=0.848; lambda_l1=0.985; lambda_l2=9.57; min_gain_to_split=0.916 : y = 0.929 : 22.2 secs : infill_ei\n",
      "\n",
      "Thu Jul 31 00:09:10 2025 AUC 0.928738893801806\n",
      "\n",
      "[mbo] 128: num_iterations=1844; learning_rate=0.0575; feature_fraction=0.799; num_leaves=124; min_data_in_leaf=39; max_depth=4; bagging_fraction=0.748; lambda_l1=1.04; lambda_l2=9.86; min_gain_to_split=0.36 : y = 0.929 : 29.9 secs : infill_ei\n",
      "\n",
      "Thu Jul 31 00:09:44 2025 AUC 0.929993499169858\n",
      "\n",
      "[mbo] 129: num_iterations=917; learning_rate=0.0159; feature_fraction=0.794; num_leaves=40; min_data_in_leaf=54; max_depth=13; bagging_fraction=0.761; lambda_l1=3.91; lambda_l2=8.35; min_gain_to_split=0.327 : y = 0.93 : 30.3 secs : infill_ei\n",
      "\n",
      "Thu Jul 31 00:10:26 2025 AUC 0.929245919692154\n",
      "\n",
      "[mbo] 130: num_iterations=1538; learning_rate=0.0349; feature_fraction=0.611; num_leaves=164; min_data_in_leaf=36; max_depth=5; bagging_fraction=0.755; lambda_l1=3.1; lambda_l2=7.06; min_gain_to_split=0.267 : y = 0.929 : 37.6 secs : infill_ei\n",
      "\n",
      "Saved the current state after iteration 131 in the file bayesiana.RDATA.\n",
      "\n",
      "Thu Jul 31 00:11:04 2025 AUC 0.929685530215443\n",
      "\n",
      "[mbo] 131: num_iterations=863; learning_rate=0.0184; feature_fraction=0.608; num_leaves=45; min_data_in_leaf=83; max_depth=6; bagging_fraction=0.714; lambda_l1=3.39; lambda_l2=9.78; min_gain_to_split=0.451 : y = 0.93 : 30.0 secs : infill_ei\n",
      "\n",
      "Thu Jul 31 00:11:58 2025 AUC 0.929585045266788\n",
      "\n",
      "[mbo] 132: num_iterations=1758; learning_rate=0.0188; feature_fraction=0.631; num_leaves=97; min_data_in_leaf=39; max_depth=5; bagging_fraction=0.835; lambda_l1=1.63; lambda_l2=8.7; min_gain_to_split=0.138 : y = 0.93 : 50.3 secs : infill_ei\n",
      "\n",
      "Thu Jul 31 00:12:24 2025 AUC 0.92823576900991\n",
      "\n",
      "[mbo] 133: num_iterations=711; learning_rate=0.0347; feature_fraction=0.867; num_leaves=73; min_data_in_leaf=51; max_depth=11; bagging_fraction=0.904; lambda_l1=2.11; lambda_l2=8.31; min_gain_to_split=0.363 : y = 0.928 : 21.3 secs : infill_ei\n",
      "\n",
      "Thu Jul 31 00:12:46 2025 AUC 0.928873972751929\n",
      "\n",
      "[mbo] 134: num_iterations=747; learning_rate=0.0617; feature_fraction=0.604; num_leaves=35; min_data_in_leaf=75; max_depth=5; bagging_fraction=0.659; lambda_l1=1.69; lambda_l2=3.46; min_gain_to_split=0.734 : y = 0.929 : 19.1 secs : infill_ei\n",
      "\n",
      "Thu Jul 31 00:14:09 2025 AUC 0.929913974821161\n",
      "\n",
      "[mbo] 135: num_iterations=1347; learning_rate=0.0116; feature_fraction=0.601; num_leaves=137; min_data_in_leaf=69; max_depth=11; bagging_fraction=0.863; lambda_l1=1.22; lambda_l2=9.81; min_gain_to_split=0.233 : y = 0.93 : 78.7 secs : infill_ei\n",
      "\n",
      "Thu Jul 31 00:14:40 2025 AUC 0.929052952162391\n",
      "\n",
      "[mbo] 136: num_iterations=928; learning_rate=0.0132; feature_fraction=0.653; num_leaves=16; min_data_in_leaf=71; max_depth=11; bagging_fraction=0.807; lambda_l1=1.89; lambda_l2=9.23; min_gain_to_split=0.19 : y = 0.929 : 26.6 secs : infill_ei\n",
      "\n",
      "Thu Jul 31 00:15:13 2025 AUC 0.930071569501181\n",
      "\n",
      "[mbo] 137: num_iterations=1257; learning_rate=0.0554; feature_fraction=0.841; num_leaves=63; min_data_in_leaf=53; max_depth=5; bagging_fraction=0.602; lambda_l1=5.58; lambda_l2=9.82; min_gain_to_split=0.00245 : y = 0.93 : 30.3 secs : infill_ei\n",
      "\n",
      "Thu Jul 31 00:15:40 2025 AUC 0.927563635193397\n",
      "\n",
      "[mbo] 138: num_iterations=882; learning_rate=0.0328; feature_fraction=0.605; num_leaves=67; min_data_in_leaf=25; max_depth=6; bagging_fraction=0.696; lambda_l1=6.85; lambda_l2=6.63; min_gain_to_split=0.907 : y = 0.928 : 22.4 secs : infill_ei\n",
      "\n",
      "Thu Jul 31 00:16:48 2025 AUC 0.928703579677663\n",
      "\n",
      "[mbo] 139: num_iterations=1249; learning_rate=0.0105; feature_fraction=0.819; num_leaves=79; min_data_in_leaf=62; max_depth=13; bagging_fraction=0.883; lambda_l1=3.02; lambda_l2=8.37; min_gain_to_split=0.18 : y = 0.929 : 63.5 secs : infill_ei\n",
      "\n",
      "Thu Jul 31 00:17:20 2025 AUC 0.929516630261834\n",
      "\n",
      "[mbo] 140: num_iterations=1500; learning_rate=0.0639; feature_fraction=0.631; num_leaves=67; min_data_in_leaf=56; max_depth=6; bagging_fraction=0.613; lambda_l1=5.3; lambda_l2=9.62; min_gain_to_split=0.284 : y = 0.93 : 27.7 secs : infill_ei\n",
      "\n",
      "Thu Jul 31 00:18:05 2025 AUC 0.930368672807268\n",
      "\n",
      "[mbo] 141: num_iterations=1209; learning_rate=0.0166; feature_fraction=0.623; num_leaves=37; min_data_in_leaf=71; max_depth=8; bagging_fraction=0.616; lambda_l1=0.44; lambda_l2=4.98; min_gain_to_split=0.456 : y = 0.93 : 40.6 secs : infill_ei\n",
      "\n",
      "Thu Jul 31 00:18:48 2025 AUC 0.929619222417264\n",
      "\n",
      "[mbo] 142: num_iterations=1560; learning_rate=0.0308; feature_fraction=0.614; num_leaves=188; min_data_in_leaf=10; max_depth=12; bagging_fraction=0.647; lambda_l1=1.91; lambda_l2=6.45; min_gain_to_split=0.671 : y = 0.93 : 38.6 secs : infill_ei\n",
      "\n",
      "Thu Jul 31 00:19:48 2025 AUC 0.929357636675512\n",
      "\n",
      "[mbo] 143: num_iterations=1534; learning_rate=0.0102; feature_fraction=0.624; num_leaves=102; min_data_in_leaf=76; max_depth=10; bagging_fraction=0.834; lambda_l1=0.744; lambda_l2=7.05; min_gain_to_split=0.683 : y = 0.929 : 55.3 secs : infill_ei\n",
      "\n",
      "Thu Jul 31 00:20:37 2025 AUC 0.930381879070654\n",
      "\n",
      "[mbo] 144: num_iterations=1211; learning_rate=0.0152; feature_fraction=0.601; num_leaves=174; min_data_in_leaf=72; max_depth=6; bagging_fraction=0.87; lambda_l1=1.05; lambda_l2=1.67; min_gain_to_split=0.467 : y = 0.93 : 45.8 secs : infill_ei\n",
      "\n",
      "Saved the current state after iteration 145 in the file bayesiana.RDATA.\n",
      "\n",
      "Thu Jul 31 00:21:03 2025 AUC 0.929576253380388\n",
      "\n",
      "[mbo] 145: num_iterations=763; learning_rate=0.0506; feature_fraction=0.96; num_leaves=75; min_data_in_leaf=40; max_depth=6; bagging_fraction=0.686; lambda_l1=3.97; lambda_l2=9.21; min_gain_to_split=0.154 : y = 0.93 : 18.1 secs : infill_ei\n",
      "\n",
      "Thu Jul 31 00:21:59 2025 AUC 0.930136763278368\n",
      "\n",
      "[mbo] 146: num_iterations=1269; learning_rate=0.0162; feature_fraction=0.603; num_leaves=141; min_data_in_leaf=75; max_depth=7; bagging_fraction=0.796; lambda_l1=0.541; lambda_l2=7.1; min_gain_to_split=0.125 : y = 0.93 : 51.8 secs : infill_ei\n",
      "\n",
      "Thu Jul 31 00:22:41 2025 AUC 0.929332302525102\n",
      "\n",
      "[mbo] 147: num_iterations=1246; learning_rate=0.0112; feature_fraction=0.755; num_leaves=178; min_data_in_leaf=72; max_depth=6; bagging_fraction=0.842; lambda_l1=2.45; lambda_l2=8.13; min_gain_to_split=0.0687 : y = 0.929 : 38.2 secs : infill_ei\n",
      "\n",
      "Thu Jul 31 00:23:28 2025 AUC 0.928637475331907\n",
      "\n",
      "[mbo] 148: num_iterations=1100; learning_rate=0.01; feature_fraction=0.666; num_leaves=151; min_data_in_leaf=68; max_depth=8; bagging_fraction=0.916; lambda_l1=0.204; lambda_l2=3.8; min_gain_to_split=0.702 : y = 0.929 : 41.9 secs : infill_ei\n",
      "\n",
      "Thu Jul 31 00:23:52 2025 AUC 0.929142756254096\n",
      "\n",
      "[mbo] 149: num_iterations=688; learning_rate=0.0461; feature_fraction=0.874; num_leaves=28; min_data_in_leaf=51; max_depth=12; bagging_fraction=0.727; lambda_l1=3.59; lambda_l2=9.5; min_gain_to_split=0.0929 : y = 0.929 : 20.6 secs : infill_ei\n",
      "\n",
      "Thu Jul 31 00:24:19 2025 AUC 0.93003032693522\n",
      "\n",
      "[mbo] 150: num_iterations=858; learning_rate=0.0185; feature_fraction=0.763; num_leaves=30; min_data_in_leaf=74; max_depth=12; bagging_fraction=0.687; lambda_l1=3.88; lambda_l2=5.07; min_gain_to_split=0.525 : y = 0.93 : 21.7 secs : infill_ei\n",
      "\n",
      "Thu Jul 31 00:24:52 2025 AUC 0.928055401995504\n",
      "\n",
      "[mbo] 151: num_iterations=1155; learning_rate=0.0449; feature_fraction=0.933; num_leaves=51; min_data_in_leaf=75; max_depth=12; bagging_fraction=0.603; lambda_l1=2.33; lambda_l2=7.66; min_gain_to_split=0.125 : y = 0.928 : 27.9 secs : infill_ei\n",
      "\n",
      "Thu Jul 31 00:25:27 2025 AUC 0.929918713001018\n",
      "\n",
      "[mbo] 152: num_iterations=1674; learning_rate=0.0362; feature_fraction=0.652; num_leaves=241; min_data_in_leaf=15; max_depth=6; bagging_fraction=0.644; lambda_l1=2.26; lambda_l2=4.49; min_gain_to_split=0.4 : y = 0.93 : 30.5 secs : infill_ei\n",
      "\n",
      "Thu Jul 31 00:26:13 2025 AUC 0.929269411803672\n",
      "\n",
      "[mbo] 153: num_iterations=1273; learning_rate=0.0177; feature_fraction=0.605; num_leaves=33; min_data_in_leaf=73; max_depth=5; bagging_fraction=0.862; lambda_l1=1.35; lambda_l2=3.01; min_gain_to_split=0.39 : y = 0.929 : 42.0 secs : infill_ei\n",
      "\n",
      "Thu Jul 31 00:26:50 2025 AUC 0.929654050641133\n",
      "\n",
      "[mbo] 154: num_iterations=1587; learning_rate=0.0432; feature_fraction=0.918; num_leaves=193; min_data_in_leaf=21; max_depth=5; bagging_fraction=0.603; lambda_l1=2.06; lambda_l2=9.56; min_gain_to_split=0.111 : y = 0.93 : 33.6 secs : infill_ei\n",
      "\n",
      "Thu Jul 31 00:27:15 2025 AUC 0.930004712243291\n",
      "\n",
      "[mbo] 155: num_iterations=1210; learning_rate=0.0709; feature_fraction=0.648; num_leaves=30; min_data_in_leaf=50; max_depth=3; bagging_fraction=0.659; lambda_l1=2.28; lambda_l2=6.28; min_gain_to_split=0.262 : y = 0.93 : 22.0 secs : infill_ei\n",
      "\n",
      "Thu Jul 31 00:27:40 2025 AUC 0.929752914745509\n",
      "\n",
      "[mbo] 156: num_iterations=925; learning_rate=0.0652; feature_fraction=0.924; num_leaves=50; min_data_in_leaf=45; max_depth=4; bagging_fraction=0.633; lambda_l1=1.66; lambda_l2=9.69; min_gain_to_split=0.126 : y = 0.93 : 20.3 secs : infill_ei\n",
      "\n",
      "Thu Jul 31 00:28:40 2025 AUC 0.930187166123455\n",
      "\n",
      "[mbo] 157: num_iterations=1574; learning_rate=0.0163; feature_fraction=0.602; num_leaves=108; min_data_in_leaf=11; max_depth=10; bagging_fraction=0.759; lambda_l1=0.545; lambda_l2=5.54; min_gain_to_split=0.529 : y = 0.93 : 55.8 secs : infill_ei\n",
      "\n",
      "Thu Jul 31 00:29:36 2025 AUC 0.929149878987552\n",
      "\n",
      "[mbo] 158: num_iterations=1232; learning_rate=0.0156; feature_fraction=0.608; num_leaves=48; min_data_in_leaf=48; max_depth=11; bagging_fraction=0.718; lambda_l1=0.569; lambda_l2=4.75; min_gain_to_split=0.348 : y = 0.929 : 50.7 secs : infill_ei\n",
      "\n",
      "Thu Jul 31 00:30:22 2025 AUC 0.92895755506334\n",
      "\n",
      "[mbo] 159: num_iterations=1602; learning_rate=0.0331; feature_fraction=0.621; num_leaves=175; min_data_in_leaf=25; max_depth=6; bagging_fraction=0.606; lambda_l1=0.383; lambda_l2=7.99; min_gain_to_split=0.313 : y = 0.929 : 41.4 secs : infill_ei\n",
      "\n",
      "Thu Jul 31 00:31:13 2025 AUC 0.929182403773431\n",
      "\n",
      "[mbo] 160: num_iterations=1657; learning_rate=0.0141; feature_fraction=0.667; num_leaves=181; min_data_in_leaf=12; max_depth=9; bagging_fraction=0.899; lambda_l1=1.61; lambda_l2=7.71; min_gain_to_split=0.529 : y = 0.929 : 45.3 secs : infill_ei\n",
      "\n",
      "Saved the current state after iteration 161 in the file bayesiana.RDATA.\n",
      "\n",
      "Thu Jul 31 00:32:09 2025 AUC 0.929255126991921\n",
      "\n",
      "[mbo] 161: num_iterations=1164; learning_rate=0.0113; feature_fraction=0.601; num_leaves=146; min_data_in_leaf=89; max_depth=7; bagging_fraction=0.63; lambda_l1=2.41; lambda_l2=1.62; min_gain_to_split=0.452 : y = 0.929 : 46.0 secs : infill_ei\n",
      "\n",
      "Thu Jul 31 00:33:04 2025 AUC 0.929644217734336\n",
      "\n",
      "[mbo] 162: num_iterations=1434; learning_rate=0.0149; feature_fraction=0.601; num_leaves=133; min_data_in_leaf=55; max_depth=7; bagging_fraction=0.887; lambda_l1=1.9; lambda_l2=7.89; min_gain_to_split=0.389 : y = 0.93 : 50.3 secs : infill_ei\n",
      "\n",
      "Thu Jul 31 00:33:49 2025 AUC 0.929087288413509\n",
      "\n",
      "[mbo] 163: num_iterations=1264; learning_rate=0.0344; feature_fraction=0.601; num_leaves=38; min_data_in_leaf=29; max_depth=6; bagging_fraction=0.611; lambda_l1=1.43; lambda_l2=9.98; min_gain_to_split=0.267 : y = 0.929 : 39.5 secs : infill_ei\n",
      "\n",
      "Thu Jul 31 00:34:29 2025 AUC 0.929788982557891\n",
      "\n",
      "[mbo] 164: num_iterations=1474; learning_rate=0.0182; feature_fraction=0.643; num_leaves=167; min_data_in_leaf=50; max_depth=5; bagging_fraction=0.654; lambda_l1=1.86; lambda_l2=0.521; min_gain_to_split=0.399 : y = 0.93 : 34.7 secs : infill_ei\n",
      "\n",
      "Thu Jul 31 00:35:06 2025 AUC 0.929454402611805\n",
      "\n",
      "[mbo] 165: num_iterations=800; learning_rate=0.0211; feature_fraction=0.662; num_leaves=42; min_data_in_leaf=56; max_depth=10; bagging_fraction=0.611; lambda_l1=4.86; lambda_l2=8.88; min_gain_to_split=0.0618 : y = 0.929 : 32.4 secs : infill_ei\n",
      "\n",
      "Thu Jul 31 00:35:46 2025 AUC 0.930333388769007\n",
      "\n",
      "[mbo] 166: num_iterations=1195; learning_rate=0.0177; feature_fraction=0.618; num_leaves=178; min_data_in_leaf=74; max_depth=8; bagging_fraction=0.746; lambda_l1=1.44; lambda_l2=6.79; min_gain_to_split=0.622 : y = 0.93 : 36.1 secs : infill_ei\n",
      "\n",
      "Thu Jul 31 00:36:19 2025 AUC 0.928976854663579\n",
      "\n",
      "[mbo] 167: num_iterations=1491; learning_rate=0.046; feature_fraction=0.661; num_leaves=169; min_data_in_leaf=44; max_depth=7; bagging_fraction=0.658; lambda_l1=5.15; lambda_l2=9.14; min_gain_to_split=0.115 : y = 0.929 : 28.3 secs : infill_ei\n",
      "\n",
      "Thu Jul 31 00:36:52 2025 AUC 0.929798051659114\n",
      "\n",
      "[mbo] 168: num_iterations=1351; learning_rate=0.0359; feature_fraction=0.856; num_leaves=96; min_data_in_leaf=17; max_depth=4; bagging_fraction=0.612; lambda_l1=3.01; lambda_l2=8.73; min_gain_to_split=0.161 : y = 0.93 : 27.6 secs : infill_ei\n",
      "\n",
      "Thu Jul 31 00:37:33 2025 AUC 0.929654146135939\n",
      "\n",
      "[mbo] 169: num_iterations=1289; learning_rate=0.0108; feature_fraction=0.627; num_leaves=166; min_data_in_leaf=70; max_depth=5; bagging_fraction=0.673; lambda_l1=1.56; lambda_l2=7.96; min_gain_to_split=0.607 : y = 0.93 : 35.7 secs : infill_ei\n",
      "\n",
      "Thu Jul 31 00:37:58 2025 AUC 0.92860897278034\n",
      "\n",
      "[mbo] 170: num_iterations=1197; learning_rate=0.0583; feature_fraction=0.808; num_leaves=51; min_data_in_leaf=64; max_depth=5; bagging_fraction=0.648; lambda_l1=6.91; lambda_l2=5.33; min_gain_to_split=0.242 : y = 0.929 : 18.2 secs : infill_ei\n",
      "\n",
      "Thu Jul 31 00:38:24 2025 AUC 0.928896208711862\n",
      "\n",
      "[mbo] 171: num_iterations=1052; learning_rate=0.0333; feature_fraction=0.68; num_leaves=172; min_data_in_leaf=37; max_depth=5; bagging_fraction=0.819; lambda_l1=1.7; lambda_l2=0.736; min_gain_to_split=0.595 : y = 0.929 : 21.1 secs : infill_ei\n",
      "\n",
      "Thu Jul 31 00:38:51 2025 AUC 0.929199162452015\n",
      "\n",
      "[mbo] 172: num_iterations=872; learning_rate=0.0189; feature_fraction=0.666; num_leaves=84; min_data_in_leaf=63; max_depth=7; bagging_fraction=0.629; lambda_l1=2.73; lambda_l2=6.85; min_gain_to_split=0.662 : y = 0.929 : 22.2 secs : infill_ei\n",
      "\n",
      "Thu Jul 31 00:39:41 2025 AUC 0.929619884123466\n",
      "\n",
      "[mbo] 173: num_iterations=1316; learning_rate=0.016; feature_fraction=0.609; num_leaves=190; min_data_in_leaf=85; max_depth=10; bagging_fraction=0.898; lambda_l1=0.582; lambda_l2=2.6; min_gain_to_split=0.729 : y = 0.93 : 43.4 secs : infill_ei\n",
      "\n",
      "Thu Jul 31 00:40:09 2025 AUC 0.929000739781997\n",
      "\n",
      "[mbo] 174: num_iterations=1342; learning_rate=0.0803; feature_fraction=0.632; num_leaves=65; min_data_in_leaf=10; max_depth=5; bagging_fraction=0.644; lambda_l1=3.28; lambda_l2=5.51; min_gain_to_split=0.696 : y = 0.929 : 22.9 secs : infill_ei\n",
      "\n",
      "Thu Jul 31 00:40:38 2025 AUC 0.929818014956536\n",
      "\n",
      "[mbo] 175: num_iterations=1303; learning_rate=0.0588; feature_fraction=0.652; num_leaves=81; min_data_in_leaf=42; max_depth=6; bagging_fraction=0.625; lambda_l1=1.66; lambda_l2=8.81; min_gain_to_split=0.405 : y = 0.93 : 23.0 secs : infill_ei\n",
      "\n",
      "Thu Jul 31 00:41:04 2025 AUC 0.929051901597882\n",
      "\n",
      "[mbo] 176: num_iterations=991; learning_rate=0.0338; feature_fraction=0.641; num_leaves=23; min_data_in_leaf=47; max_depth=6; bagging_fraction=0.683; lambda_l1=2.79; lambda_l2=0.184; min_gain_to_split=0.619 : y = 0.929 : 20.2 secs : infill_ei\n",
      "\n",
      "Thu Jul 31 00:41:45 2025 AUC 0.928383078594037\n",
      "\n",
      "[mbo] 177: num_iterations=1376; learning_rate=0.0107; feature_fraction=0.884; num_leaves=223; min_data_in_leaf=39; max_depth=5; bagging_fraction=0.639; lambda_l1=1.7; lambda_l2=3.36; min_gain_to_split=0.471 : y = 0.928 : 35.3 secs : infill_ei\n",
      "\n",
      "Saved the current state after iteration 178 in the file bayesiana.RDATA.\n",
      "\n",
      "Thu Jul 31 00:42:43 2025 AUC 0.929117292909523\n",
      "\n",
      "[mbo] 178: num_iterations=1214; learning_rate=0.0178; feature_fraction=0.6; num_leaves=134; min_data_in_leaf=88; max_depth=8; bagging_fraction=0.762; lambda_l1=0.589; lambda_l2=7.04; min_gain_to_split=0.502 : y = 0.929 : 47.5 secs : infill_ei\n",
      "\n",
      "Thu Jul 31 00:43:26 2025 AUC 0.930123161713669\n",
      "\n",
      "[mbo] 179: num_iterations=1579; learning_rate=0.0311; feature_fraction=0.631; num_leaves=105; min_data_in_leaf=12; max_depth=9; bagging_fraction=0.636; lambda_l1=4.71; lambda_l2=9.98; min_gain_to_split=0.229 : y = 0.93 : 37.2 secs : infill_ei\n",
      "\n",
      "Thu Jul 31 00:44:13 2025 AUC 0.92992681397496\n",
      "\n",
      "[mbo] 180: num_iterations=1379; learning_rate=0.0162; feature_fraction=0.618; num_leaves=192; min_data_in_leaf=16; max_depth=7; bagging_fraction=0.654; lambda_l1=1.46; lambda_l2=4.76; min_gain_to_split=0.51 : y = 0.93 : 42.9 secs : infill_ei\n",
      "\n",
      "Thu Jul 31 00:44:32 2025 AUC 0.929230820959346\n",
      "\n",
      "[mbo] 181: num_iterations=681; learning_rate=0.0713; feature_fraction=0.777; num_leaves=42; min_data_in_leaf=50; max_depth=5; bagging_fraction=0.827; lambda_l1=2.69; lambda_l2=7.38; min_gain_to_split=0.829 : y = 0.929 : 11.4 secs : infill_ei\n",
      "\n",
      "Thu Jul 31 00:45:16 2025 AUC 0.929888035746531\n",
      "\n",
      "[mbo] 182: num_iterations=1277; learning_rate=0.0167; feature_fraction=0.624; num_leaves=231; min_data_in_leaf=69; max_depth=7; bagging_fraction=0.69; lambda_l1=1.81; lambda_l2=2.69; min_gain_to_split=0.473 : y = 0.93 : 37.8 secs : infill_ei\n",
      "\n",
      "Thu Jul 31 00:46:38 2025 AUC 0.929304868368612\n",
      "\n",
      "[mbo] 183: num_iterations=1282; learning_rate=0.0137; feature_fraction=0.6; num_leaves=178; min_data_in_leaf=56; max_depth=9; bagging_fraction=0.923; lambda_l1=1.34; lambda_l2=3.13; min_gain_to_split=0.0681 : y = 0.929 : 75.9 secs : infill_ei\n",
      "\n",
      "Thu Jul 31 00:47:27 2025 AUC 0.928844046527908\n",
      "\n",
      "[mbo] 184: num_iterations=1636; learning_rate=0.0172; feature_fraction=0.613; num_leaves=30; min_data_in_leaf=30; max_depth=9; bagging_fraction=0.604; lambda_l1=3.98; lambda_l2=8.26; min_gain_to_split=0.492 : y = 0.929 : 45.2 secs : infill_ei\n",
      "\n",
      "Thu Jul 31 00:48:02 2025 AUC 0.929183729689068\n",
      "\n",
      "[mbo] 185: num_iterations=793; learning_rate=0.0157; feature_fraction=0.702; num_leaves=33; min_data_in_leaf=98; max_depth=14; bagging_fraction=0.643; lambda_l1=2.75; lambda_l2=9.09; min_gain_to_split=0.347 : y = 0.929 : 29.5 secs : infill_ei\n",
      "\n",
      "Thu Jul 31 00:48:38 2025 AUC 0.928795410854111\n",
      "\n",
      "[mbo] 186: num_iterations=934; learning_rate=0.0158; feature_fraction=0.769; num_leaves=47; min_data_in_leaf=80; max_depth=6; bagging_fraction=0.631; lambda_l1=1.58; lambda_l2=2.23; min_gain_to_split=0.174 : y = 0.929 : 29.5 secs : infill_ei\n",
      "\n",
      "Thu Jul 31 00:49:07 2025 AUC 0.928169118744401\n",
      "\n",
      "[mbo] 187: num_iterations=793; learning_rate=0.0172; feature_fraction=0.743; num_leaves=84; min_data_in_leaf=70; max_depth=14; bagging_fraction=0.849; lambda_l1=5.11; lambda_l2=5.14; min_gain_to_split=0.701 : y = 0.928 : 21.9 secs : infill_ei\n",
      "\n",
      "Thu Jul 31 00:49:39 2025 AUC 0.929563816671526\n",
      "\n",
      "[mbo] 188: num_iterations=1267; learning_rate=0.0694; feature_fraction=0.662; num_leaves=132; min_data_in_leaf=64; max_depth=5; bagging_fraction=0.611; lambda_l1=4.16; lambda_l2=7.03; min_gain_to_split=0.0156 : y = 0.93 : 27.9 secs : infill_ei\n",
      "\n",
      "Thu Jul 31 00:50:54 2025 AUC 0.929214118798348\n",
      "\n",
      "[mbo] 189: num_iterations=1634; learning_rate=0.0126; feature_fraction=0.775; num_leaves=90; min_data_in_leaf=11; max_depth=11; bagging_fraction=0.802; lambda_l1=1.63; lambda_l2=7.2; min_gain_to_split=0.167 : y = 0.929 : 69.2 secs : infill_ei\n",
      "\n",
      "Thu Jul 31 00:51:27 2025 AUC 0.927474047038923\n",
      "\n",
      "[mbo] 190: num_iterations=1125; learning_rate=0.0688; feature_fraction=0.807; num_leaves=24; min_data_in_leaf=18; max_depth=5; bagging_fraction=0.71; lambda_l1=0.899; lambda_l2=7.74; min_gain_to_split=0.0976 : y = 0.927 : 27.1 secs : infill_ei\n",
      "\n",
      "Thu Jul 31 00:52:11 2025 AUC 0.929287467465998\n",
      "\n",
      "[mbo] 191: num_iterations=1200; learning_rate=0.0165; feature_fraction=0.613; num_leaves=52; min_data_in_leaf=67; max_depth=6; bagging_fraction=0.652; lambda_l1=0.976; lambda_l2=2.11; min_gain_to_split=0.781 : y = 0.929 : 37.3 secs : infill_ei\n",
      "\n",
      "Saved the current state after iteration 192 in the file bayesiana.RDATA.\n",
      "\n",
      "Thu Jul 31 00:52:37 2025 AUC 0.929036726659859\n",
      "\n",
      "[mbo] 192: num_iterations=750; learning_rate=0.0442; feature_fraction=0.662; num_leaves=33; min_data_in_leaf=53; max_depth=8; bagging_fraction=0.75; lambda_l1=2.28; lambda_l2=9.86; min_gain_to_split=0.576 : y = 0.929 : 15.4 secs : infill_ei\n",
      "\n",
      "Thu Jul 31 00:53:17 2025 AUC 0.92894142241427\n",
      "\n",
      "[mbo] 193: num_iterations=1371; learning_rate=0.0392; feature_fraction=0.607; num_leaves=214; min_data_in_leaf=10; max_depth=5; bagging_fraction=0.712; lambda_l1=3.67; lambda_l2=5.58; min_gain_to_split=0.814 : y = 0.929 : 32.9 secs : infill_ei\n",
      "\n",
      "Thu Jul 31 00:53:48 2025 AUC 0.929616203276428\n",
      "\n",
      "[mbo] 194: num_iterations=1571; learning_rate=0.0717; feature_fraction=0.778; num_leaves=53; min_data_in_leaf=90; max_depth=4; bagging_fraction=0.744; lambda_l1=2.16; lambda_l2=9.88; min_gain_to_split=0.221 : y = 0.93 : 25.1 secs : infill_ei\n",
      "\n",
      "Thu Jul 31 00:55:04 2025 AUC 0.928682206226258\n",
      "\n",
      "[mbo] 195: num_iterations=1294; learning_rate=0.011; feature_fraction=0.601; num_leaves=198; min_data_in_leaf=33; max_depth=12; bagging_fraction=0.866; lambda_l1=0.211; lambda_l2=4.05; min_gain_to_split=0.437 : y = 0.929 : 70.2 secs : infill_ei\n",
      "\n",
      "Thu Jul 31 00:55:36 2025 AUC 0.92966510119055\n",
      "\n",
      "[mbo] 196: num_iterations=1207; learning_rate=0.0219; feature_fraction=0.652; num_leaves=215; min_data_in_leaf=52; max_depth=6; bagging_fraction=0.832; lambda_l1=2.24; lambda_l2=0.88; min_gain_to_split=0.695 : y = 0.93 : 25.8 secs : infill_ei\n",
      "\n",
      "Thu Jul 31 00:56:12 2025 AUC 0.929241797863839\n",
      "\n",
      "[mbo] 197: num_iterations=1663; learning_rate=0.0377; feature_fraction=0.639; num_leaves=221; min_data_in_leaf=11; max_depth=5; bagging_fraction=0.6; lambda_l1=5.13; lambda_l2=7.28; min_gain_to_split=0.258 : y = 0.929 : 30.2 secs : infill_ei\n",
      "\n",
      "Thu Jul 31 00:56:56 2025 AUC 0.930048634127722\n",
      "\n",
      "[mbo] 198: num_iterations=1622; learning_rate=0.0372; feature_fraction=0.654; num_leaves=125; min_data_in_leaf=11; max_depth=4; bagging_fraction=0.783; lambda_l1=1.83; lambda_l2=3.24; min_gain_to_split=0.111 : y = 0.93 : 36.8 secs : infill_ei\n",
      "\n",
      "Thu Jul 31 00:57:43 2025 AUC 0.930156207801918\n",
      "\n",
      "[mbo] 199: num_iterations=1551; learning_rate=0.016; feature_fraction=0.646; num_leaves=78; min_data_in_leaf=62; max_depth=5; bagging_fraction=0.683; lambda_l1=1.01; lambda_l2=9.76; min_gain_to_split=0.0424 : y = 0.93 : 40.3 secs : infill_ei\n",
      "\n",
      "Thu Jul 31 00:58:15 2025 AUC 0.92744445596185\n",
      "\n",
      "[mbo] 200: num_iterations=1246; learning_rate=0.0917; feature_fraction=0.738; num_leaves=150; min_data_in_leaf=90; max_depth=3; bagging_fraction=0.729; lambda_l1=3.29; lambda_l2=6.34; min_gain_to_split=0.00169 : y = 0.927 : 24.8 secs : infill_ei\n",
      "\n",
      "Saved the final state in the file bayesiana.RDATA\n",
      "\n"
     ]
    }
   ],
   "source": [
    "# inicio la optimizacion bayesiana, retomando si ya existe\n",
    "# es la celda mas lenta de todo el notebook\n",
    "\n",
    "if (!file.exists(kbayesiana)) {\n",
    "  bayesiana_salida <- mbo(obj.fun, learner= surr.km, control= ctrl)\n",
    "} else {\n",
    "  bayesiana_salida <- mboContinue(kbayesiana) # retomo en caso que ya exista\n",
    "}"
   ]
  },
  {
   "cell_type": "code",
   "execution_count": 21,
   "metadata": {
    "id": "ssk5nnMk6INK"
   },
   "outputs": [
    {
     "data": {
      "text/html": [
       "<style>\n",
       ".list-inline {list-style: none; margin:0; padding: 0}\n",
       ".list-inline>li {display: inline-block}\n",
       ".list-inline>li:not(:last-child)::after {content: \"\\00b7\"; padding: 0 .5ex}\n",
       "</style>\n",
       "<ol class=list-inline><li>'num_iterations'</li><li>'learning_rate'</li><li>'feature_fraction'</li><li>'num_leaves'</li><li>'min_data_in_leaf'</li><li>'max_depth'</li><li>'bagging_fraction'</li><li>'lambda_l1'</li><li>'lambda_l2'</li><li>'min_gain_to_split'</li><li>'y'</li><li>'dob'</li><li>'eol'</li><li>'error.message'</li><li>'exec.time'</li><li>'ei'</li><li>'error.model'</li><li>'train.time'</li><li>'prop.type'</li><li>'propose.time'</li><li>'se'</li><li>'mean'</li></ol>\n"
      ],
      "text/latex": [
       "\\begin{enumerate*}\n",
       "\\item 'num\\_iterations'\n",
       "\\item 'learning\\_rate'\n",
       "\\item 'feature\\_fraction'\n",
       "\\item 'num\\_leaves'\n",
       "\\item 'min\\_data\\_in\\_leaf'\n",
       "\\item 'max\\_depth'\n",
       "\\item 'bagging\\_fraction'\n",
       "\\item 'lambda\\_l1'\n",
       "\\item 'lambda\\_l2'\n",
       "\\item 'min\\_gain\\_to\\_split'\n",
       "\\item 'y'\n",
       "\\item 'dob'\n",
       "\\item 'eol'\n",
       "\\item 'error.message'\n",
       "\\item 'exec.time'\n",
       "\\item 'ei'\n",
       "\\item 'error.model'\n",
       "\\item 'train.time'\n",
       "\\item 'prop.type'\n",
       "\\item 'propose.time'\n",
       "\\item 'se'\n",
       "\\item 'mean'\n",
       "\\end{enumerate*}\n"
      ],
      "text/markdown": [
       "1. 'num_iterations'\n",
       "2. 'learning_rate'\n",
       "3. 'feature_fraction'\n",
       "4. 'num_leaves'\n",
       "5. 'min_data_in_leaf'\n",
       "6. 'max_depth'\n",
       "7. 'bagging_fraction'\n",
       "8. 'lambda_l1'\n",
       "9. 'lambda_l2'\n",
       "10. 'min_gain_to_split'\n",
       "11. 'y'\n",
       "12. 'dob'\n",
       "13. 'eol'\n",
       "14. 'error.message'\n",
       "15. 'exec.time'\n",
       "16. 'ei'\n",
       "17. 'error.model'\n",
       "18. 'train.time'\n",
       "19. 'prop.type'\n",
       "20. 'propose.time'\n",
       "21. 'se'\n",
       "22. 'mean'\n",
       "\n",
       "\n"
      ],
      "text/plain": [
       " [1] \"num_iterations\"    \"learning_rate\"     \"feature_fraction\" \n",
       " [4] \"num_leaves\"        \"min_data_in_leaf\"  \"max_depth\"        \n",
       " [7] \"bagging_fraction\"  \"lambda_l1\"         \"lambda_l2\"        \n",
       "[10] \"min_gain_to_split\" \"y\"                 \"dob\"              \n",
       "[13] \"eol\"               \"error.message\"     \"exec.time\"        \n",
       "[16] \"ei\"                \"error.model\"       \"train.time\"       \n",
       "[19] \"prop.type\"         \"propose.time\"      \"se\"               \n",
       "[22] \"mean\"             "
      ]
     },
     "metadata": {},
     "output_type": "display_data"
    }
   ],
   "source": [
    "\n",
    "tb_bayesiana <- as.data.table(bayesiana_salida$opt.path)\n",
    "colnames( tb_bayesiana)"
   ]
  },
  {
   "cell_type": "code",
   "execution_count": 22,
   "metadata": {
    "id": "u4zq-vknhjGc"
   },
   "outputs": [],
   "source": [
    "# almaceno los resultados de la Bayesian Optimization\n",
    "# y capturo los mejores hiperparametros encontrados\n",
    "\n",
    "tb_bayesiana <- as.data.table(bayesiana_salida$opt.path)\n",
    "\n",
    "tb_bayesiana[, iter := .I]\n",
    "\n",
    "# ordeno en forma descendente por AUC = y\n",
    "setorder(tb_bayesiana, -y)\n",
    "\n",
    "# grabo para eventualmente poder utilizarlos en OTRA corrida\n",
    "fwrite( tb_bayesiana,\n",
    "  file= \"BO_log.txt\",\n",
    "  sep= \"\\t\"\n",
    ")\n",
    "\n",
    "# los mejores hiperparámetros son los que quedaron en el registro 1 de la tabla\n",
    "PARAM$out$lgbm$mejores_hiperparametros <- tb_bayesiana[\n",
    "  1, # el primero es el de mejor AUC\n",
    "  setdiff(colnames(tb_bayesiana),\n",
    "    c(\"y\",\"dob\",\"eol\",\"error.message\",\"exec.time\",\"ei\",\"error.model\",\n",
    "      \"train.time\",\"prop.type\",\"propose.time\",\"se\",\"mean\",\"iter\")),\n",
    "  with= FALSE\n",
    "]\n",
    "\n",
    "\n",
    "PARAM$out$lgbm$y <- tb_bayesiana[1, y]\n"
   ]
  },
  {
   "cell_type": "code",
   "execution_count": 23,
   "metadata": {
    "id": "E8v2eA427N8e"
   },
   "outputs": [],
   "source": [
    "write_yaml( PARAM, file=\"PARAM.yml\")"
   ]
  },
  {
   "cell_type": "code",
   "execution_count": 24,
   "metadata": {
    "id": "iBTWexVU7PGC"
   },
   "outputs": [
    {
     "name": "stdout",
     "output_type": "stream",
     "text": [
      "   num_iterations learning_rate feature_fraction num_leaves min_data_in_leaf\n",
      "            <int>         <num>            <num>      <int>            <int>\n",
      "1:            892     0.0458686        0.8745536        112               44\n",
      "   max_depth bagging_fraction lambda_l1 lambda_l2 min_gain_to_split\n",
      "       <int>            <num>     <num>     <num>             <num>\n",
      "1:         5        0.6290446  1.635605  9.351821         0.1661536\n",
      "[1] 0.9307216\n"
     ]
    }
   ],
   "source": [
    "print(PARAM$out$lgbm$mejores_hiperparametros)\n",
    "print(PARAM$out$lgbm$y)"
   ]
  },
  {
   "cell_type": "markdown",
   "metadata": {
    "id": "TKsVZmAnhwX-"
   },
   "source": [
    "## 2.3  Produccion"
   ]
  },
  {
   "cell_type": "markdown",
   "metadata": {
    "id": "RQ_C33Tr5B_9"
   },
   "source": [
    "### Final Training\n",
    "Construyo el modelo final, que es uno solo, no hace ningun tipo de particion < training, validation, testing>]"
   ]
  },
  {
   "cell_type": "code",
   "execution_count": 25,
   "metadata": {
    "id": "eDqfyA14hzwv"
   },
   "outputs": [],
   "source": [
    "setwd(\"/content/buckets/b1/exp\")\n",
    "experimento <- paste0(\"exp\", PARAM$experimento)\n",
    "dir.create(experimento, showWarnings= FALSE)\n",
    "setwd( paste0(\"/content/buckets/b1/exp/\", experimento ))"
   ]
  },
  {
   "cell_type": "markdown",
   "metadata": {
    "id": "8qFmFivf5Iet"
   },
   "source": [
    "#### Final Training Dataset\n",
    "\n",
    "Aqui esta la gran decision de en qué meses hago el Final Training\n",
    "<br> debo utilizar los mejores hiperparámetros que encontré en la optimización bayesiana"
   ]
  },
  {
   "cell_type": "code",
   "execution_count": 26,
   "metadata": {
    "id": "lg5WVZncvc7H"
   },
   "outputs": [],
   "source": [
    "# clase01\n",
    "dataset[, clase01 := ifelse(clase_ternaria %in% c(\"BAJA+1\", \"BAJA+2\"), 1L, 0L)]"
   ]
  },
  {
   "cell_type": "code",
   "execution_count": 27,
   "metadata": {
    "id": "yc9QzXREv0xf"
   },
   "outputs": [],
   "source": [
    "dataset_train <- dataset[foto_mes %in% c(202107)]"
   ]
  },
  {
   "cell_type": "code",
   "execution_count": 28,
   "metadata": {
    "id": "thjdqEBLuvNt"
   },
   "outputs": [],
   "source": [
    "# dejo los datos en el formato que necesita LightGBM\n",
    "\n",
    "dtrain <- lgb.Dataset(\n",
    "  data= data.matrix(dataset_train[, campos_buenos, with= FALSE]),\n",
    "  label= dataset_train[, clase01]\n",
    ")"
   ]
  },
  {
   "cell_type": "markdown",
   "metadata": {
    "id": "VNUa-WSz5Oqu"
   },
   "source": [
    "#### Final Training Hyperparameters"
   ]
  },
  {
   "cell_type": "code",
   "execution_count": 29,
   "metadata": {
    "id": "FgCcvBfEwImu"
   },
   "outputs": [
    {
     "data": {
      "text/html": [
       "<dl>\n",
       "\t<dt>$boosting</dt>\n",
       "\t\t<dd>'gbdt'</dd>\n",
       "\t<dt>$objective</dt>\n",
       "\t\t<dd>'binary'</dd>\n",
       "\t<dt>$metric</dt>\n",
       "\t\t<dd>'auc'</dd>\n",
       "\t<dt>$first_metric_only</dt>\n",
       "\t\t<dd>FALSE</dd>\n",
       "\t<dt>$boost_from_average</dt>\n",
       "\t\t<dd>TRUE</dd>\n",
       "\t<dt>$feature_pre_filter</dt>\n",
       "\t\t<dd>FALSE</dd>\n",
       "\t<dt>$force_row_wise</dt>\n",
       "\t\t<dd>TRUE</dd>\n",
       "\t<dt>$verbosity</dt>\n",
       "\t\t<dd>-100</dd>\n",
       "\t<dt>$seed</dt>\n",
       "\t\t<dd>123457</dd>\n",
       "\t<dt>$max_depth</dt>\n",
       "\t\t<dd>5</dd>\n",
       "\t<dt>$min_gain_to_split</dt>\n",
       "\t\t<dd>0.166153608143852</dd>\n",
       "\t<dt>$min_sum_hessian_in_leaf</dt>\n",
       "\t\t<dd>0.001</dd>\n",
       "\t<dt>$lambda_l1</dt>\n",
       "\t\t<dd>1.63560542625771</dd>\n",
       "\t<dt>$lambda_l2</dt>\n",
       "\t\t<dd>9.35182140196183</dd>\n",
       "\t<dt>$max_bin</dt>\n",
       "\t\t<dd>31</dd>\n",
       "\t<dt>$bagging_fraction</dt>\n",
       "\t\t<dd>0.629044555905926</dd>\n",
       "\t<dt>$pos_bagging_fraction</dt>\n",
       "\t\t<dd>1</dd>\n",
       "\t<dt>$neg_bagging_fraction</dt>\n",
       "\t\t<dd>1</dd>\n",
       "\t<dt>$is_unbalance</dt>\n",
       "\t\t<dd>FALSE</dd>\n",
       "\t<dt>$scale_pos_weight</dt>\n",
       "\t\t<dd>1</dd>\n",
       "\t<dt>$drop_rate</dt>\n",
       "\t\t<dd>0.1</dd>\n",
       "\t<dt>$max_drop</dt>\n",
       "\t\t<dd>50</dd>\n",
       "\t<dt>$skip_drop</dt>\n",
       "\t\t<dd>0.5</dd>\n",
       "\t<dt>$extra_trees</dt>\n",
       "\t\t<dd>FALSE</dd>\n",
       "\t<dt>$num_iterations</dt>\n",
       "\t\t<dd>892</dd>\n",
       "\t<dt>$learning_rate</dt>\n",
       "\t\t<dd>0.0458686046822318</dd>\n",
       "\t<dt>$feature_fraction</dt>\n",
       "\t\t<dd>0.874553613316302</dd>\n",
       "\t<dt>$num_leaves</dt>\n",
       "\t\t<dd>112</dd>\n",
       "\t<dt>$min_data_in_leaf</dt>\n",
       "\t\t<dd>44</dd>\n",
       "</dl>\n"
      ],
      "text/latex": [
       "\\begin{description}\n",
       "\\item[\\$boosting] 'gbdt'\n",
       "\\item[\\$objective] 'binary'\n",
       "\\item[\\$metric] 'auc'\n",
       "\\item[\\$first\\_metric\\_only] FALSE\n",
       "\\item[\\$boost\\_from\\_average] TRUE\n",
       "\\item[\\$feature\\_pre\\_filter] FALSE\n",
       "\\item[\\$force\\_row\\_wise] TRUE\n",
       "\\item[\\$verbosity] -100\n",
       "\\item[\\$seed] 123457\n",
       "\\item[\\$max\\_depth] 5\n",
       "\\item[\\$min\\_gain\\_to\\_split] 0.166153608143852\n",
       "\\item[\\$min\\_sum\\_hessian\\_in\\_leaf] 0.001\n",
       "\\item[\\$lambda\\_l1] 1.63560542625771\n",
       "\\item[\\$lambda\\_l2] 9.35182140196183\n",
       "\\item[\\$max\\_bin] 31\n",
       "\\item[\\$bagging\\_fraction] 0.629044555905926\n",
       "\\item[\\$pos\\_bagging\\_fraction] 1\n",
       "\\item[\\$neg\\_bagging\\_fraction] 1\n",
       "\\item[\\$is\\_unbalance] FALSE\n",
       "\\item[\\$scale\\_pos\\_weight] 1\n",
       "\\item[\\$drop\\_rate] 0.1\n",
       "\\item[\\$max\\_drop] 50\n",
       "\\item[\\$skip\\_drop] 0.5\n",
       "\\item[\\$extra\\_trees] FALSE\n",
       "\\item[\\$num\\_iterations] 892\n",
       "\\item[\\$learning\\_rate] 0.0458686046822318\n",
       "\\item[\\$feature\\_fraction] 0.874553613316302\n",
       "\\item[\\$num\\_leaves] 112\n",
       "\\item[\\$min\\_data\\_in\\_leaf] 44\n",
       "\\end{description}\n"
      ],
      "text/markdown": [
       "$boosting\n",
       ":   'gbdt'\n",
       "$objective\n",
       ":   'binary'\n",
       "$metric\n",
       ":   'auc'\n",
       "$first_metric_only\n",
       ":   FALSE\n",
       "$boost_from_average\n",
       ":   TRUE\n",
       "$feature_pre_filter\n",
       ":   FALSE\n",
       "$force_row_wise\n",
       ":   TRUE\n",
       "$verbosity\n",
       ":   -100\n",
       "$seed\n",
       ":   123457\n",
       "$max_depth\n",
       ":   5\n",
       "$min_gain_to_split\n",
       ":   0.166153608143852\n",
       "$min_sum_hessian_in_leaf\n",
       ":   0.001\n",
       "$lambda_l1\n",
       ":   1.63560542625771\n",
       "$lambda_l2\n",
       ":   9.35182140196183\n",
       "$max_bin\n",
       ":   31\n",
       "$bagging_fraction\n",
       ":   0.629044555905926\n",
       "$pos_bagging_fraction\n",
       ":   1\n",
       "$neg_bagging_fraction\n",
       ":   1\n",
       "$is_unbalance\n",
       ":   FALSE\n",
       "$scale_pos_weight\n",
       ":   1\n",
       "$drop_rate\n",
       ":   0.1\n",
       "$max_drop\n",
       ":   50\n",
       "$skip_drop\n",
       ":   0.5\n",
       "$extra_trees\n",
       ":   FALSE\n",
       "$num_iterations\n",
       ":   892\n",
       "$learning_rate\n",
       ":   0.0458686046822318\n",
       "$feature_fraction\n",
       ":   0.874553613316302\n",
       "$num_leaves\n",
       ":   112\n",
       "$min_data_in_leaf\n",
       ":   44\n",
       "\n",
       "\n"
      ],
      "text/plain": [
       "$boosting\n",
       "[1] \"gbdt\"\n",
       "\n",
       "$objective\n",
       "[1] \"binary\"\n",
       "\n",
       "$metric\n",
       "[1] \"auc\"\n",
       "\n",
       "$first_metric_only\n",
       "[1] FALSE\n",
       "\n",
       "$boost_from_average\n",
       "[1] TRUE\n",
       "\n",
       "$feature_pre_filter\n",
       "[1] FALSE\n",
       "\n",
       "$force_row_wise\n",
       "[1] TRUE\n",
       "\n",
       "$verbosity\n",
       "[1] -100\n",
       "\n",
       "$seed\n",
       "[1] 123457\n",
       "\n",
       "$max_depth\n",
       "[1] 5\n",
       "\n",
       "$min_gain_to_split\n",
       "[1] 0.1661536\n",
       "\n",
       "$min_sum_hessian_in_leaf\n",
       "[1] 0.001\n",
       "\n",
       "$lambda_l1\n",
       "[1] 1.635605\n",
       "\n",
       "$lambda_l2\n",
       "[1] 9.351821\n",
       "\n",
       "$max_bin\n",
       "[1] 31\n",
       "\n",
       "$bagging_fraction\n",
       "[1] 0.6290446\n",
       "\n",
       "$pos_bagging_fraction\n",
       "[1] 1\n",
       "\n",
       "$neg_bagging_fraction\n",
       "[1] 1\n",
       "\n",
       "$is_unbalance\n",
       "[1] FALSE\n",
       "\n",
       "$scale_pos_weight\n",
       "[1] 1\n",
       "\n",
       "$drop_rate\n",
       "[1] 0.1\n",
       "\n",
       "$max_drop\n",
       "[1] 50\n",
       "\n",
       "$skip_drop\n",
       "[1] 0.5\n",
       "\n",
       "$extra_trees\n",
       "[1] FALSE\n",
       "\n",
       "$num_iterations\n",
       "[1] 892\n",
       "\n",
       "$learning_rate\n",
       "[1] 0.0458686\n",
       "\n",
       "$feature_fraction\n",
       "[1] 0.8745536\n",
       "\n",
       "$num_leaves\n",
       "[1] 112\n",
       "\n",
       "$min_data_in_leaf\n",
       "[1] 44\n"
      ]
     },
     "metadata": {},
     "output_type": "display_data"
    }
   ],
   "source": [
    "param_final <- modifyList(PARAM$lgbm$param_fijos,\n",
    "  PARAM$out$lgbm$mejores_hiperparametros)\n",
    "\n",
    "param_final"
   ]
  },
  {
   "cell_type": "markdown",
   "metadata": {
    "id": "TZIYn4l95TBH"
   },
   "source": [
    "#### Training\n",
    "Genero el modelo final, siempre sobre TODOS los datos de  final_train, sin hacer ningun tipo de undersampling de la clase mayoritaria"
   ]
  },
  {
   "cell_type": "code",
   "execution_count": 30,
   "metadata": {
    "id": "vPLsd4mMRe4u"
   },
   "outputs": [],
   "source": [
    "# este punto es muy SUTIL  y será revisado en la Clase 05\n",
    "\n",
    "param_normalizado <- copy(param_final)\n",
    "param_normalizado$min_data_in_leaf <-  param_final$min_data_in_leaf / PARAM$trainingstrategy$undersampling"
   ]
  },
  {
   "cell_type": "code",
   "execution_count": 31,
   "metadata": {
    "id": "WRI_-taRwOXO"
   },
   "outputs": [],
   "source": [
    "  # entreno LightGBM\n",
    "\n",
    "  modelo_final <- lgb.train(\n",
    "    data= dtrain,\n",
    "    param= param_normalizado\n",
    "  )"
   ]
  },
  {
   "cell_type": "code",
   "execution_count": 32,
   "metadata": {
    "id": "_bkhnCvj0g3Q"
   },
   "outputs": [],
   "source": [
    "# ahora imprimo la importancia de variables\n",
    "\n",
    "tb_importancia <- as.data.table(lgb.importance(modelo_final))\n",
    "archivo_importancia <- \"impo.txt\"\n",
    "\n",
    "fwrite(tb_importancia,\n",
    "  file= archivo_importancia,\n",
    "  sep= \"\\t\"\n",
    ")"
   ]
  },
  {
   "cell_type": "code",
   "execution_count": 33,
   "metadata": {
    "id": "lZ3sLmbh0kFj"
   },
   "outputs": [],
   "source": [
    "# grabo a disco el modelo en un formato para seres humanos ... ponele ...\n",
    "\n",
    "lgb.save(modelo_final, \"modelo.txt\" )"
   ]
  },
  {
   "cell_type": "markdown",
   "metadata": {
    "id": "VEtp2--t5Ymg"
   },
   "source": [
    "### Scoring"
   ]
  },
  {
   "cell_type": "markdown",
   "metadata": {
    "id": "hI5008Mj5ZdI"
   },
   "source": [
    "Aplico el modelo final a los datos del futuro"
   ]
  },
  {
   "cell_type": "code",
   "execution_count": 34,
   "metadata": {
    "id": "PimBY3N_0ryP"
   },
   "outputs": [],
   "source": [
    "# aplico el modelo a los datos sin clase\n",
    "dfuture <- dataset[foto_mes == 202109]\n",
    "\n",
    "# aplico el modelo a los datos nuevos\n",
    "prediccion <- predict(\n",
    "  modelo_final,\n",
    "  data.matrix(dfuture[, campos_buenos, with= FALSE])\n",
    ")"
   ]
  },
  {
   "cell_type": "markdown",
   "metadata": {
    "id": "D26rNRh55gpw"
   },
   "source": [
    "#### Tabla Prediccion"
   ]
  },
  {
   "cell_type": "code",
   "execution_count": 35,
   "metadata": {
    "id": "RJwg7LHd11yu"
   },
   "outputs": [],
   "source": [
    "# tabla de prediccion\n",
    "\n",
    "tb_prediccion <- dfuture[, list(numero_de_cliente)]\n",
    "tb_prediccion[, prob := prediccion ]\n",
    "\n",
    "# grabo las probabilidad del modelo\n",
    "fwrite(tb_prediccion,\n",
    "  file= \"prediccion.txt\",\n",
    "  sep= \"\\t\"\n",
    ")"
   ]
  },
  {
   "cell_type": "markdown",
   "metadata": {
    "id": "jOt4eG_55ltv"
   },
   "source": [
    "Kaggle Competition Submit"
   ]
  },
  {
   "cell_type": "code",
   "execution_count": 36,
   "metadata": {
    "id": "gWW3tatE12je"
   },
   "outputs": [
    {
     "name": "stdout",
     "output_type": "stream",
     "text": [
      "Successfully submitted to Data Mining, Analista Sr 2025A \n",
      "Successfully submitted to Data Mining, Analista Sr 2025A \n",
      "Successfully submitted to Data Mining, Analista Sr 2025A \n",
      "Successfully submitted to Data Mining, Analista Sr 2025A \n",
      "Successfully submitted to Data Mining, Analista Sr 2025A \n"
     ]
    }
   ],
   "source": [
    "# genero archivos con los  \"envios\" mejores\n",
    "# suba TODOS los archivos a Kaggle\n",
    "\n",
    "# ordeno por probabilidad descendente\n",
    "setorder(tb_prediccion, -prob)\n",
    "\n",
    "dir.create(\"kaggle\")\n",
    "\n",
    "for (envios in PARAM$kaggle$cortes) {\n",
    "\n",
    "  tb_prediccion[, Predicted := 0L] # seteo inicial a 0\n",
    "  tb_prediccion[1:envios, Predicted := 1L] # marclo los primeros\n",
    "\n",
    "  archivo_kaggle <- paste0(\"./kaggle/KA\", PARAM$experimento, \"_\", envios, \".csv\")\n",
    "\n",
    "  # grabo el archivo\n",
    "  fwrite(tb_prediccion[, list(numero_de_cliente, Predicted)],\n",
    "    file= archivo_kaggle,\n",
    "    sep= \",\"\n",
    "  )\n",
    "\n",
    "  # subida a Kaggle, armo la linea de comando\n",
    "  comando <- \"kaggle competitions submit\"\n",
    "  competencia <- paste(\"-c\", PARAM$kaggle$competencia)\n",
    "  arch <- paste( \"-f\", archivo_kaggle)\n",
    "\n",
    "  mensaje <- paste0(\"-m 'envios=\", envios,\n",
    "  \"  semilla=\", PARAM$semilla_primigenia,\n",
    "    \"'\" )\n",
    "\n",
    "  linea <- paste( comando, competencia, arch, mensaje)\n",
    "\n",
    "  salida <- system(linea, intern=TRUE) # el submit a Kaggle\n",
    "  cat(salida, \"\\n\")\n",
    "}"
   ]
  },
  {
   "cell_type": "code",
   "execution_count": 37,
   "metadata": {
    "id": "B9tB2X4439Hg"
   },
   "outputs": [],
   "source": [
    "write_yaml( PARAM, file=\"PARAM.yml\")"
   ]
  },
  {
   "cell_type": "code",
   "execution_count": 38,
   "metadata": {
    "id": "9zA_W25c15DP"
   },
   "outputs": [
    {
     "data": {
      "text/html": [
       "'Thu Jul 31 01:21:28 2025'"
      ],
      "text/latex": [
       "'Thu Jul 31 01:21:28 2025'"
      ],
      "text/markdown": [
       "'Thu Jul 31 01:21:28 2025'"
      ],
      "text/plain": [
       "[1] \"Thu Jul 31 01:21:28 2025\""
      ]
     },
     "metadata": {},
     "output_type": "display_data"
    }
   ],
   "source": [
    "format(Sys.time(), \"%a %b %d %X %Y\")"
   ]
  },
  {
   "cell_type": "markdown",
   "metadata": {
    "id": "UdVZucdLHzZ0"
   },
   "source": [
    "Finalmente usted deberá cargar el resultado de su corrida en la Google Sheet Colaborativa,  hoja **TareaHogar04**\n",
    "<br> Siéntase libre de agregar las columnas que hagan falta a la planilla"
   ]
  },
  {
   "cell_type": "code",
   "execution_count": null,
   "metadata": {
    "id": "WMHh7uNVIJkT"
   },
   "outputs": [],
   "source": []
  }
 ],
 "metadata": {
  "colab": {
   "provenance": []
  },
  "kernelspec": {
   "display_name": "R",
   "language": "R",
   "name": "ir"
  },
  "language_info": {
   "codemirror_mode": "r",
   "file_extension": ".r",
   "mimetype": "text/x-r-source",
   "name": "R",
   "pygments_lexer": "r",
   "version": "4.4.3"
  }
 },
 "nbformat": 4,
 "nbformat_minor": 4
}
