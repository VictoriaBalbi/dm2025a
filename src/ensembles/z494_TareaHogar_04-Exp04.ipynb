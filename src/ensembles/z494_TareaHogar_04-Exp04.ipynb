{
 "cells": [
  {
   "cell_type": "markdown",
   "metadata": {
    "id": "0cEmzeUKFkPh"
   },
   "source": [
    "# Tarea para el Hogar 04"
   ]
  },
  {
   "cell_type": "markdown",
   "metadata": {
    "id": "nSICPpyTGQmC"
   },
   "source": [
    "Esta Tarea para el Hogar 02 se entrega el final de la cuarta clase\n",
    "<br> se espera de usted que intente avanzar con los desafios propuestos y que los traiga terminados para la Clase 05 que será el viernes 01-agosto"
   ]
  },
  {
   "cell_type": "markdown",
   "metadata": {
    "id": "DenyKXkiJ5JN"
   },
   "source": [
    "##  1. Cazatalentos"
   ]
  },
  {
   "cell_type": "markdown",
   "metadata": {
    "id": "l-K2_ZsZGrVD"
   },
   "source": [
    "En la Clase 03 nos hemos enfrentado a  \"La Maldicion del Ganandor\",  elegir el modelo con el mejor puntaje simple no suele ser la mejor estrategia.\n",
    "<br> Lea y ejecute el notebook  **src/CazaTalentos/CazaTalentos.ipynb**\n",
    "<br> en caso de interesarle, participe del Desafío Ordenamiento  que vence el sábado 02 de agosto a las 19:00"
   ]
  },
  {
   "cell_type": "markdown",
   "metadata": {
    "id": "K9GkTOk5J9t3"
   },
   "source": [
    "## 2. Hiperparámetros del LightGBM"
   ]
  },
  {
   "cell_type": "markdown",
   "metadata": {
    "id": "VmEFy0ukKL5T"
   },
   "source": [
    "Los objetivos de esta tarea son:\n",
    "\n",
    "\n",
    "*   Aumentar la rentabilidad de la campaña de marketing de retención proactiva de clientes.\n",
    "*   Generar un mejor modelo optimizando sus hiperparámetros\n",
    "*   Conceptual : investigar los mas relevantes hiperparámetros de LightGBM\n",
    "*   Familiarizarse con la Bayesian Optimization, sus largos tiempos de corrida y opciones para reducirlos\n",
    "*   Familiarizarse con el uso de máquinas virtuales de Google Colab\n",
    "*   Ver un pipeline completo de optimización de hiperparámetros y puesta en producción"
   ]
  },
  {
   "cell_type": "markdown",
   "metadata": {
    "id": "5yvlS6JQLRMd"
   },
   "source": [
    "LightGBM cuenta con mas de 60 hiperparámetros, siendo posible utilizar 40 al mismo tiempo, aunque no razonable.\n",
    "<br> La documentación oficial de los hiperparámetros de LightGBM es  https://lightgbm.readthedocs.io/en/latest/Parameters.html#core-parameters\n"
   ]
  },
  {
   "cell_type": "markdown",
   "metadata": {
    "id": "eydI4YNAsFaf"
   },
   "source": [
    "Se lo alerta sobre que una Optimizacion Bayesiana lleva varias horas de corrida, y usted deberá correr VARIAS optimizaciones para descubrir cuales parámetros conviene optimizar.\n",
    "<br> A pesar que la próxima clase es recien en viernes 01 de agosto, inicie la tarea con tiempo, aprenda a planificar estratégicamente sus corridas como un@ científ@  de datos."
   ]
  },
  {
   "cell_type": "markdown",
   "metadata": {
    "id": "RzU4S0SeMcpp"
   },
   "source": [
    "Es necesario investigar cuales son los hiperparámetros de LightGBM que vale la pena optimizar en una Bayesian Optimization, ya que los realmente utiles son apenas un reducido subconjunto.\n",
    "<br>Usted deberá investigar cuales son los hiperparámetros mas relevantes de LightGBM, su primer alternativa es preguntándole a su amigo con capacidades especiales ChatGPT o sus endogámicos familiares Claude, DeepSeek, Gemini, Grok, etc\n",
    "<br> La segunda alternativa es la propia documentación de LightGBM  https://lightgbm.readthedocs.io/en/latest/Parameters-Tuning.html\n"
   ]
  },
  {
   "cell_type": "markdown",
   "metadata": {
    "id": "LNptUgI_NWWG"
   },
   "source": [
    "Adicionalmente podra buscar información como la que proveen esta diminuta muestra aleatoria de artículos ligeros:\n",
    "*  https://medium.com/@sarahzouinina/a-deep-dive-into-lightgbm-how-to-choose-and-tune-parameters-7c584945842e\n",
    "*  https://www.kaggle.com/code/somang1418/tuning-hyperparameters-under-10-minutes-lgbm\n",
    "*  https://towardsdatascience.com/beginners-guide-to-the-must-know-lightgbm-hyperparameters-a0005a812702/\n",
    "\n",
    "\n",
    "<br>  La muestra anterior se brinda a modo de ejemplo, usted deberá buscar muuuuchas  fuentes adicionales de información\n",
    "<br> Tenga presente que LightGBM es el estado del arte en modelado predictivo para datasets estructurado, que son el 90% del trabajo del 95% de los Data Scientists en Argentina."
   ]
  },
  {
   "cell_type": "markdown",
   "metadata": {
    "id": "WpUThBojODyK"
   },
   "source": [
    "El desafío de esta tarea es:\n",
    "* Qué hiperparparámetros conviene optimizar?  Las recomendaciones de los artículos ligeros es siempre sensata?  Sus autores realmente hicieron experimentos o son siemplemente escritores de entretenimiento carente de base científica?\n",
    "* Elegidos los hiperparámetros, cual es el  <desde, hasta> que se debe utilizar en la Bayesian Optimization ?\n",
    "* Realmente vale la pena optimizar 10 o 16 hiperparámetros al mismo tiempo ?  No resulta contraproducente una búsqueda en un espacio de tal alta dimensionalidad ?"
   ]
  },
  {
   "cell_type": "markdown",
   "metadata": {
    "id": "PX0qg_c0yqob"
   },
   "source": [
    "#### 2.1  Seteo del ambiente en Google Colab"
   ]
  },
  {
   "cell_type": "markdown",
   "metadata": {
    "id": "NGY7H9xza7Zr"
   },
   "source": [
    "Esta parte se debe correr con el runtime en Python3\n",
    "<br>Ir al menu, Runtime -> Change Runtime Type -> Runtime type ->  **Python 3**"
   ]
  },
  {
   "cell_type": "markdown",
   "metadata": {
    "id": "7PupIBNba7Zr"
   },
   "source": [
    "Conectar la virtual machine donde esta corriendo Google Colab con el  Google Drive, para poder tener persistencia de archivos"
   ]
  },
  {
   "cell_type": "code",
   "execution_count": null,
   "metadata": {
    "id": "9LpZCst5a7Zs"
   },
   "outputs": [],
   "source": [
    "# primero establecer el Runtime de Python 3\n",
    "from google.colab import drive\n",
    "drive.mount('/content/.drive')"
   ]
  },
  {
   "cell_type": "markdown",
   "metadata": {
    "id": "JYC_F-wla7Zs"
   },
   "source": [
    "Para correr la siguiente celda es fundamental en Arranque en Frio haber copiado el archivo kaggle.json al Google Drive, en la carpeta indicada en el instructivo\n",
    "\n",
    "<br>los siguientes comando estan en shell script de Linux\n",
    "*   Crear las carpetas en el Google Drive\n",
    "*   \"instalar\" el archivo kaggle.json desde el Google Drive a la virtual machine para que pueda ser utilizado por la libreria  kaggle de Python\n",
    "*   Bajar el  **dataset_pequeno**  al  Google Drive  y tambien al disco local de la virtual machine que esta corriendo Google Colab\n",
    "\n"
   ]
  },
  {
   "cell_type": "code",
   "execution_count": null,
   "metadata": {
    "id": "XWLelftXa7Zt"
   },
   "outputs": [],
   "source": [
    "%%shell\n",
    "\n",
    "mkdir -p \"/content/.drive/My Drive/dm\"\n",
    "mkdir -p \"/content/buckets\"\n",
    "ln -s \"/content/.drive/My Drive/dm\" /content/buckets/b1\n",
    "\n",
    "mkdir -p ~/.kaggle\n",
    "cp /content/buckets/b1/kaggle/kaggle.json  ~/.kaggle\n",
    "chmod 600 ~/.kaggle/kaggle.json\n",
    "\n",
    "\n",
    "mkdir -p /content/buckets/b1/exp\n",
    "mkdir -p /content/buckets/b1/datasets\n",
    "mkdir -p /content/datasets\n",
    "\n",
    "\n",
    "\n",
    "archivo_origen=\"https://storage.googleapis.com/open-courses/itba2025-8d0a/dataset_pequeno.csv\"\n",
    "archivo_destino=\"/content/datasets/dataset_pequeno.csv\"\n",
    "archivo_destino_bucket=\"/content/buckets/b1/datasets/dataset_pequeno.csv\"\n",
    "\n",
    "if ! test -f $archivo_destino_bucket; then\n",
    "  wget  $archivo_origen  -O $archivo_destino_bucket\n",
    "fi\n",
    "\n",
    "\n",
    "if ! test -f $archivo_destino; then\n",
    "  cp  $archivo_destino_bucket  $archivo_destino\n",
    "fi\n"
   ]
  },
  {
   "cell_type": "markdown",
   "metadata": {
    "id": "oSKhZRToy2F7"
   },
   "source": [
    "### 2.2 Optimizacion Hiperparámetros"
   ]
  },
  {
   "cell_type": "markdown",
   "metadata": {
    "id": "2kwPpHAtSmix"
   },
   "source": [
    "Esta parte se debe correr con el runtime en lenguaje R Ir al menu, Runtime -> Change Runtime Type -> Runtime type -> R"
   ]
  },
  {
   "cell_type": "markdown",
   "metadata": {
    "id": "xp4-Bj3aYI8d"
   },
   "source": [
    "### 2.2.1 Inicio"
   ]
  },
  {
   "cell_type": "markdown",
   "metadata": {
    "id": "zy8YTZfESxeJ"
   },
   "source": [
    "limpio el ambiente de R"
   ]
  },
  {
   "cell_type": "code",
   "execution_count": 1,
   "metadata": {
    "id": "gBq__iAdQliq"
   },
   "outputs": [
    {
     "data": {
      "text/html": [
       "'Tue Jul 29 13:18:31 2025'"
      ],
      "text/latex": [
       "'Tue Jul 29 13:18:31 2025'"
      ],
      "text/markdown": [
       "'Tue Jul 29 13:18:31 2025'"
      ],
      "text/plain": [
       "[1] \"Tue Jul 29 13:18:31 2025\""
      ]
     },
     "metadata": {},
     "output_type": "display_data"
    }
   ],
   "source": [
    "format(Sys.time(), \"%a %b %d %X %Y\")"
   ]
  },
  {
   "cell_type": "code",
   "execution_count": 2,
   "metadata": {
    "id": "7rdVrBojS1IV"
   },
   "outputs": [
    {
     "data": {
      "text/html": [
       "<table class=\"dataframe\">\n",
       "<caption>A matrix: 2 × 6 of type dbl</caption>\n",
       "<thead>\n",
       "\t<tr><th></th><th scope=col>used</th><th scope=col>(Mb)</th><th scope=col>gc trigger</th><th scope=col>(Mb)</th><th scope=col>max used</th><th scope=col>(Mb)</th></tr>\n",
       "</thead>\n",
       "<tbody>\n",
       "\t<tr><th scope=row>Ncells</th><td> 656846</td><td>35.1</td><td>1439374</td><td>76.9</td><td>1439374</td><td>76.9</td></tr>\n",
       "\t<tr><th scope=row>Vcells</th><td>1224915</td><td> 9.4</td><td>8388608</td><td>64.0</td><td>1924963</td><td>14.7</td></tr>\n",
       "</tbody>\n",
       "</table>\n"
      ],
      "text/latex": [
       "A matrix: 2 × 6 of type dbl\n",
       "\\begin{tabular}{r|llllll}\n",
       "  & used & (Mb) & gc trigger & (Mb) & max used & (Mb)\\\\\n",
       "\\hline\n",
       "\tNcells &  656846 & 35.1 & 1439374 & 76.9 & 1439374 & 76.9\\\\\n",
       "\tVcells & 1224915 &  9.4 & 8388608 & 64.0 & 1924963 & 14.7\\\\\n",
       "\\end{tabular}\n"
      ],
      "text/markdown": [
       "\n",
       "A matrix: 2 × 6 of type dbl\n",
       "\n",
       "| <!--/--> | used | (Mb) | gc trigger | (Mb) | max used | (Mb) |\n",
       "|---|---|---|---|---|---|---|\n",
       "| Ncells |  656846 | 35.1 | 1439374 | 76.9 | 1439374 | 76.9 |\n",
       "| Vcells | 1224915 |  9.4 | 8388608 | 64.0 | 1924963 | 14.7 |\n",
       "\n"
      ],
      "text/plain": [
       "       used    (Mb) gc trigger (Mb) max used (Mb)\n",
       "Ncells  656846 35.1 1439374    76.9 1439374  76.9\n",
       "Vcells 1224915  9.4 8388608    64.0 1924963  14.7"
      ]
     },
     "metadata": {},
     "output_type": "display_data"
    }
   ],
   "source": [
    "# limpio la memoria\n",
    "rm(list=ls(all.names=TRUE)) # remove all objects\n",
    "gc(full=TRUE, verbose=FALSE) # garbage collection"
   ]
  },
  {
   "cell_type": "markdown",
   "metadata": {
    "id": "kuPfQ7ksjwW3"
   },
   "source": [
    "### 2.2.2 Carga de Librerias"
   ]
  },
  {
   "cell_type": "code",
   "execution_count": 3,
   "metadata": {
    "id": "lVyxLaJ1j1J_"
   },
   "outputs": [
    {
     "name": "stderr",
     "output_type": "stream",
     "text": [
      "Loading required package: data.table\n",
      "\n",
      "Loading required package: parallel\n",
      "\n",
      "Loading required package: primes\n",
      "\n",
      "Loading required package: rlist\n",
      "\n",
      "Loading required package: yaml\n",
      "\n",
      "Loading required package: lightgbm\n",
      "\n",
      "Loading required package: DiceKriging\n",
      "\n",
      "Loading required package: mlrMBO\n",
      "\n",
      "Loading required package: mlr\n",
      "\n",
      "Loading required package: ParamHelpers\n",
      "\n",
      "Loading required package: smoof\n",
      "\n",
      "Loading required package: checkmate\n",
      "\n",
      "\n",
      "Attaching package: ‘checkmate’\n",
      "\n",
      "\n",
      "The following object is masked from ‘package:DiceKriging’:\n",
      "\n",
      "    checkNames\n",
      "\n",
      "\n"
     ]
    }
   ],
   "source": [
    "# cargo las librerias que necesito\n",
    "require(\"data.table\")\n",
    "require(\"parallel\")\n",
    "\n",
    "if( !require(\"primes\") ) install.packages(\"primes\")\n",
    "require(\"primes\")\n",
    "\n",
    "if( !require(\"utils\") ) install.packages(\"utils\")\n",
    "require(\"utils\")\n",
    "\n",
    "if( !require(\"rlist\") ) install.packages(\"rlist\")\n",
    "require(\"rlist\")\n",
    "\n",
    "if( !require(\"yaml\")) install.packages(\"yaml\")\n",
    "require(\"yaml\")\n",
    "\n",
    "if( !require(\"lightgbm\") ) install.packages(\"lightgbm\")\n",
    "require(\"lightgbm\")\n",
    "\n",
    "if( !require(\"DiceKriging\") ) install.packages(\"DiceKriging\")\n",
    "require(\"DiceKriging\")\n",
    "\n",
    "if( !require(\"mlrMBO\") ) install.packages(\"mlrMBO\")\n",
    "require(\"mlrMBO\")"
   ]
  },
  {
   "cell_type": "markdown",
   "metadata": {
    "id": "Iz-6Qt6BUaA3"
   },
   "source": [
    "### 2.2.3 Definicion de Parametros"
   ]
  },
  {
   "cell_type": "markdown",
   "metadata": {
    "id": "cOdlKd7lUm2I"
   },
   "source": [
    "aqui debe cargar SU semilla primigenia\n",
    "<br>recuerde cambiar el numero de experimento en cada corrida nueva"
   ]
  },
  {
   "cell_type": "code",
   "execution_count": 4,
   "metadata": {
    "id": "ASYkebOu2mF6"
   },
   "outputs": [],
   "source": [
    "PARAM <- list()\n",
    "PARAM$experimento <- 4944\n",
    "PARAM$semilla_primigenia <- 123457\n",
    "\n"
   ]
  },
  {
   "cell_type": "code",
   "execution_count": 5,
   "metadata": {
    "id": "ezOhQdbA293o"
   },
   "outputs": [],
   "source": [
    "PARAM$kaggle$competencia <- \"data-mining-analista-sr-2025-a\"\n",
    "PARAM$kaggle$cortes <- seq(10000, 12000, by= 500)"
   ]
  },
  {
   "cell_type": "code",
   "execution_count": 6,
   "metadata": {
    "id": "jtB0Lub42rHO"
   },
   "outputs": [],
   "source": [
    "# un undersampling de 0.1  toma solo el 10% de los CONTINUA\n",
    "# undersampling de 1.0  implica tomar TODOS los datos\n",
    "\n",
    "PARAM$trainingstrategy$undersampling <- 0.5"
   ]
  },
  {
   "cell_type": "code",
   "execution_count": 7,
   "metadata": {
    "id": "OFxm-xiNUOJX"
   },
   "outputs": [],
   "source": [
    "# Parametros LightGBM\n",
    "\n",
    "PARAM$hyperparametertuning$xval_folds <- 5\n",
    "\n",
    "# parametros fijos del LightGBM que se pisaran con la parte variable de la BO\n",
    "PARAM$lgbm$param_fijos <-  list(\n",
    "  boosting= \"dart\", # puede ir  dart  , ni pruebe random_forest\n",
    "  objective= \"binary\",\n",
    "  metric= \"auc\",\n",
    "  first_metric_only= FALSE,\n",
    "  boost_from_average= TRUE,\n",
    "  feature_pre_filter= FALSE,\n",
    "  force_row_wise= TRUE, # para reducir warnings\n",
    "  verbosity= -100,\n",
    "\n",
    "  seed= PARAM$semilla_primigenia,\n",
    "\n",
    "  max_depth= -1L, # -1 significa no limitar,  por ahora lo dejo fijo\n",
    "  min_gain_to_split= 0, # min_gain_to_split >= 0\n",
    "  min_sum_hessian_in_leaf= 0.001, #  min_sum_hessian_in_leaf >= 0.0\n",
    "  lambda_l1= 0.0, # lambda_l1 >= 0.0\n",
    "  lambda_l2= 0.0, # lambda_l2 >= 0.0\n",
    "  max_bin= 31L, # lo debo dejar fijo, no participa de la BO\n",
    "\n",
    "  bagging_fraction= 1.0, # 0.0 < bagging_fraction <= 1.0\n",
    "  pos_bagging_fraction= 1.0, # 0.0 < pos_bagging_fraction <= 1.0\n",
    "  neg_bagging_fraction= 1.0, # 0.0 < neg_bagging_fraction <= 1.0\n",
    "  is_unbalance= FALSE, #\n",
    "  scale_pos_weight= 1.0, # scale_pos_weight > 0.0\n",
    "\n",
    "  drop_rate= 0.1, # 0.0 < neg_bagging_fraction <= 1.0\n",
    "  max_drop= 50, # <=0 means no limit\n",
    "  skip_drop= 0.5, # 0.0 <= skip_drop <= 1.0\n",
    "\n",
    "  extra_trees= FALSE,\n",
    "\n",
    "  num_iterations= 1200,\n",
    "  learning_rate= 0.02,\n",
    "  feature_fraction= 0.5,\n",
    "  num_leaves= 750,\n",
    "  min_data_in_leaf= 5000,\n",
    "\n",
    "  # le agrego la bagging frec\n",
    "  #bagging_fraction define cuánto muestreo por fila se hace.\n",
    "  #bagging_freq controla cada cuántas iteraciones se hace ese muestreo.\n",
    "  bagging_freq = 1\n",
    ")\n"
   ]
  },
  {
   "cell_type": "markdown",
   "metadata": {
    "id": "D5Yj-JV4yvOt"
   },
   "source": [
    "Aqui se definen los hiperparámetros de LightGBM que participan de la Bayesian Optimization\n",
    "<br> si es un numero entero debe ir  makeIntegerParam\n",
    "<br> si es un numero real (con decimales) debe ir  makeNumericParam\n",
    "<br> es muy importante leer cuales son un lower y upper  permitidos y ademas razonables"
   ]
  },
  {
   "cell_type": "code",
   "execution_count": 8,
   "metadata": {
    "id": "jENpR26ZyuS8"
   },
   "outputs": [],
   "source": [
    "# Aqui se cargan los bordes de los hiperparametros de la BO\n",
    "PARAM$hypeparametertuning$hs <- makeParamSet(\n",
    "  makeIntegerParam(\"num_leaves\", lower= 50L, upper= 200L),\n",
    "  makeIntegerParam(\"bagging_freq\", lower= 1L, upper= 10L),\n",
    "  makeNumericParam(\"bagging_fraction\", lower= 0, upper= 1),\n",
    "  makeNumericParam(\"feature_fraction \", lower= 0.0001, upper= 1),\n",
    "  makeNumericParam(\"lambda_l1\", lower= log(1e-6), upper= log(1)),\n",
    "  makeNumericParam(\"lambda_l2\", lower= log(1e-6), upper= log(1))\n",
    ")"
   ]
  },
  {
   "cell_type": "markdown",
   "metadata": {
    "id": "-_RPFUb3zMoW"
   },
   "source": [
    "A mayor cantidad de hiperparámetros, se debe aumentar las iteraciones de la Bayesian Optimization\n",
    "<br> 30 es un valor muy tacaño, pero corre rápido\n",
    "<br> deberia partir de 50, alcanzando los 100 si se dispone de tiempo"
   ]
  },
  {
   "cell_type": "code",
   "execution_count": 10,
   "metadata": {
    "id": "q5Rd3pnbzSiG"
   },
   "outputs": [],
   "source": [
    "PARAM$hyperparametertuning$iteraciones <- 120 # iteraciones bayesianas"
   ]
  },
  {
   "cell_type": "markdown",
   "metadata": {
    "id": "4RWZXL1VZjMI"
   },
   "source": [
    "### 2.2.4  Preprocesamiento"
   ]
  },
  {
   "cell_type": "code",
   "execution_count": 11,
   "metadata": {
    "id": "j3toG9-lZm4K"
   },
   "outputs": [],
   "source": [
    "# carpeta de trabajo\n",
    "\n",
    "setwd(\"/content/buckets/b1/exp\")\n",
    "experimento_folder <- paste0(\"HT\", PARAM$experimento)\n",
    "dir.create(experimento_folder, showWarnings=FALSE)\n",
    "setwd( paste0(\"/content/buckets/b1/exp/\", experimento_folder ))"
   ]
  },
  {
   "cell_type": "code",
   "execution_count": 12,
   "metadata": {
    "id": "FM3lxKoLZ643"
   },
   "outputs": [],
   "source": [
    "# lectura del dataset\n",
    "\n",
    "dataset <- fread(\"/content/datasets/dataset_pequeno.csv\")"
   ]
  },
  {
   "cell_type": "code",
   "execution_count": 13,
   "metadata": {
    "id": "OsJ-91UeZ-I_"
   },
   "outputs": [],
   "source": [
    "dataset_train <- dataset[foto_mes %in% c(202107)]"
   ]
  },
  {
   "cell_type": "code",
   "execution_count": 14,
   "metadata": {
    "id": "vrWE7BE0aB2J"
   },
   "outputs": [],
   "source": [
    "# paso la clase a binaria que tome valores {0,1}  enteros\n",
    "#  BAJA+1 y BAJA+2  son  1,   CONTINUA es 0\n",
    "\n",
    "dataset_train[,\n",
    "  clase01 := ifelse(clase_ternaria %in% c(\"BAJA+2\",\"BAJA+1\"), 1L, 0L)\n",
    "]"
   ]
  },
  {
   "cell_type": "code",
   "execution_count": 15,
   "metadata": {
    "id": "jP7YlQBnaW6W"
   },
   "outputs": [],
   "source": [
    "# defino los datos que forma parte del training\n",
    "# aqui se hace el undersampling de los CONTINUA\n",
    "# notar que para esto utilizo la SEGUNDA semilla\n",
    "\n",
    "set.seed(PARAM$semilla_primigenia, kind = \"L'Ecuyer-CMRG\")\n",
    "dataset_train[, azar := runif(nrow(dataset_train))]\n",
    "dataset_train[, training := 0L]\n",
    "\n",
    "dataset_train[\n",
    "  foto_mes %in% c(202107) &\n",
    "    (azar <= PARAM$trainingstrategy$undersampling | clase_ternaria %in% c(\"BAJA+1\", \"BAJA+2\")),\n",
    "  training := 1L\n",
    "]"
   ]
  },
  {
   "cell_type": "code",
   "execution_count": 16,
   "metadata": {
    "id": "xElu4s5W4rX7"
   },
   "outputs": [],
   "source": [
    "# los campos que se van a utilizar\n",
    "\n",
    "campos_buenos <- setdiff(\n",
    "  colnames(dataset_train),\n",
    "  c(\"clase_ternaria\", \"clase01\", \"azar\", \"training\")\n",
    ")"
   ]
  },
  {
   "cell_type": "code",
   "execution_count": 17,
   "metadata": {
    "id": "PppMHcGYaaol"
   },
   "outputs": [
    {
     "data": {
      "text/html": [
       "83384"
      ],
      "text/latex": [
       "83384"
      ],
      "text/markdown": [
       "83384"
      ],
      "text/plain": [
       "[1] 83384"
      ]
     },
     "metadata": {},
     "output_type": "display_data"
    },
    {
     "data": {
      "text/html": [
       "154"
      ],
      "text/latex": [
       "154"
      ],
      "text/markdown": [
       "154"
      ],
      "text/plain": [
       "[1] 154"
      ]
     },
     "metadata": {},
     "output_type": "display_data"
    }
   ],
   "source": [
    "# dejo los datos en el formato que necesita LightGBM\n",
    "\n",
    "dtrain <- lgb.Dataset(\n",
    "  data= data.matrix(dataset_train[training == 1L, campos_buenos, with= FALSE]),\n",
    "  label= dataset_train[training == 1L, clase01],\n",
    "  free_raw_data= FALSE\n",
    ")\n",
    "\n",
    "nrow(dtrain)\n",
    "ncol(dtrain)"
   ]
  },
  {
   "cell_type": "markdown",
   "metadata": {
    "id": "Ta-EkOu3cphF"
   },
   "source": [
    "2.2.5 Configuracion Bayesian Optimization"
   ]
  },
  {
   "cell_type": "code",
   "execution_count": 18,
   "metadata": {
    "id": "cjgfurjdfiXb"
   },
   "outputs": [],
   "source": [
    "# En el argumento x llegan los parmaetros de la bayesiana\n",
    "#  devuelve la AUC en cross validation del modelo entrenado\n",
    "\n",
    "EstimarGanancia_AUC_lightgbm <- function(x) {\n",
    "  # CORREGIR: transformaciones necesarias\n",
    "  x$lambda_l1 <- exp(x$lambda_l1)\n",
    "  x$lambda_l2 <- exp(x$lambda_l2)\n",
    "  \n",
    "  # x pisa (o agrega) a param_fijos\n",
    "  param_completo <- modifyList(PARAM$lgbm$param_fijos, x)\n",
    "\n",
    "  # entreno LightGBM\n",
    "  modelocv <- lgb.cv(\n",
    "    data= dtrain,\n",
    "    nfold= PARAM$hyperparametertuning$xval_folds,\n",
    "    stratified= TRUE,\n",
    "    param= param_completo\n",
    "  )\n",
    "\n",
    "  # obtengo la ganancia\n",
    "  AUC <- modelocv$best_score\n",
    "\n",
    "  # hago espacio en la memoria\n",
    "  rm(modelocv)\n",
    "  gc(full= TRUE, verbose= FALSE)\n",
    "\n",
    "  message(format(Sys.time(), \"%a %b %d %X %Y\"), \" AUC \", AUC)\n",
    "\n",
    "  return(AUC)\n",
    "}"
   ]
  },
  {
   "cell_type": "code",
   "execution_count": 19,
   "metadata": {
    "id": "WLi_o1hocvN-"
   },
   "outputs": [],
   "source": [
    "# Aqui comienza la configuracion de la Bayesian Optimization\n",
    "\n",
    "# en este archivo quedan la evolucion binaria de la BO\n",
    "kbayesiana <- \"bayesiana.RDATA\"\n",
    "\n",
    "funcion_optimizar <- EstimarGanancia_AUC_lightgbm # la funcion que voy a maximizar\n",
    "\n",
    "configureMlr(show.learner.output= FALSE)\n",
    "\n",
    "# configuro la busqueda bayesiana,  los hiperparametros que se van a optimizar\n",
    "# por favor, no desesperarse por lo complejo\n",
    "\n",
    "obj.fun <- makeSingleObjectiveFunction(\n",
    "  fn= funcion_optimizar, # la funcion que voy a maximizar\n",
    "  minimize= FALSE, # estoy Maximizando la ganancia\n",
    "  noisy= TRUE,\n",
    "  par.set= PARAM$hypeparametertuning$hs, # definido al comienzo del programa\n",
    "  has.simple.signature= FALSE # paso los parametros en una lista\n",
    ")\n",
    "\n",
    "# cada 600 segundos guardo el resultado intermedio\n",
    "ctrl <- makeMBOControl(\n",
    "  save.on.disk.at.time= 600, # se graba cada 600 segundos\n",
    "  save.file.path= kbayesiana\n",
    ") # se graba cada 600 segundos\n",
    "\n",
    "# indico la cantidad de iteraciones que va a tener la Bayesian Optimization\n",
    "ctrl <- setMBOControlTermination(\n",
    "  ctrl,\n",
    "  iters= PARAM$hyperparametertuning$iteraciones\n",
    ") # cantidad de iteraciones\n",
    "\n",
    "# defino el método estandar para la creacion de los puntos iniciales,\n",
    "# los \"No Inteligentes\"\n",
    "ctrl <- setMBOControlInfill(ctrl, crit= makeMBOInfillCritEI())\n",
    "\n",
    "# establezco la funcion que busca el maximo\n",
    "surr.km <- makeLearner(\n",
    "  \"regr.km\",\n",
    "  predict.type= \"se\",\n",
    "  covtype= \"matern3_2\",\n",
    "  control= list(trace= TRUE)\n",
    ")\n"
   ]
  },
  {
   "cell_type": "markdown",
   "metadata": {
    "id": "_uUeVo5pc4zc"
   },
   "source": [
    "2.2.6 Corrida Bayesian Optimization"
   ]
  },
  {
   "cell_type": "code",
   "execution_count": 20,
   "metadata": {
    "id": "RcABNaKGciaz"
   },
   "outputs": [
    {
     "name": "stderr",
     "output_type": "stream",
     "text": [
      "Computing y column(s) for design. Not provided.\n",
      "\n",
      "Tue Jul 29 13:24:14 2025 AUC 0.918104021708215\n",
      "\n",
      "Tue Jul 29 13:27:32 2025 AUC 0.914051195999693\n",
      "\n",
      "Tue Jul 29 13:32:15 2025 AUC 0.917614801233771\n",
      "\n",
      "Tue Jul 29 13:34:58 2025 AUC 0.91041434958952\n",
      "\n",
      "Tue Jul 29 13:37:27 2025 AUC 0.906888990885123\n",
      "\n",
      "Tue Jul 29 13:40:46 2025 AUC 0.915452333280332\n",
      "\n",
      "Tue Jul 29 13:44:27 2025 AUC 0.915683324342388\n",
      "\n",
      "Tue Jul 29 13:49:04 2025 AUC 0.917808572320469\n",
      "\n",
      "Tue Jul 29 13:52:35 2025 AUC 0.916371899792502\n",
      "\n",
      "Tue Jul 29 13:54:38 2025 AUC 0.903189791322666\n",
      "\n",
      "Tue Jul 29 13:58:33 2025 AUC 0.915787526033765\n",
      "\n",
      "Tue Jul 29 13:59:46 2025 AUC 0.895042015622014\n",
      "\n",
      "Tue Jul 29 14:03:51 2025 AUC 0.916388286163138\n",
      "\n",
      "Tue Jul 29 14:07:12 2025 AUC 0.915010463342812\n",
      "\n",
      "Tue Jul 29 14:09:45 2025 AUC 0.909581218348608\n",
      "\n",
      "Tue Jul 29 14:10:01 2025 AUC 0.5\n",
      "\n",
      "Tue Jul 29 14:12:44 2025 AUC 0.912987091444822\n",
      "\n",
      "Tue Jul 29 14:14:54 2025 AUC 0.901413950564239\n",
      "\n",
      "Tue Jul 29 14:15:16 2025 AUC 0.5\n",
      "\n",
      "Tue Jul 29 14:18:39 2025 AUC 0.915886891535501\n",
      "\n",
      "Tue Jul 29 14:22:51 2025 AUC 0.916976883431009\n",
      "\n",
      "Tue Jul 29 14:23:11 2025 AUC 0.5\n",
      "\n",
      "Tue Jul 29 14:23:25 2025 AUC 0.5\n",
      "\n",
      "Tue Jul 29 14:28:02 2025 AUC 0.917161012277754\n",
      "\n",
      "[mbo] 0: num_leaves=121; bagging_freq=5; bagging_fraction=0.963; feature_fraction =0.887; lambda_l1=-5.4; lambda_l2=-4.04 : y = 0.918 : 285.0 secs : initdesign\n",
      "\n",
      "[mbo] 0: num_leaves=180; bagging_freq=3; bagging_fraction=0.472; feature_fraction =0.269; lambda_l1=-6.1; lambda_l2=-7.2 : y = 0.914 : 198.2 secs : initdesign\n",
      "\n",
      "[mbo] 0: num_leaves=77; bagging_freq=5; bagging_fraction=0.927; feature_fraction =0.577; lambda_l1=-8.27; lambda_l2=-8.28 : y = 0.918 : 282.3 secs : initdesign\n",
      "\n",
      "[mbo] 0: num_leaves=145; bagging_freq=4; bagging_fraction=0.387; feature_fraction =0.0793; lambda_l1=-3.51; lambda_l2=-5.69 : y = 0.91 : 163.5 secs : initdesign\n",
      "\n",
      "[mbo] 0: num_leaves=103; bagging_freq=6; bagging_fraction=0.326; feature_fraction =0.221; lambda_l1=-8.04; lambda_l2=-8.99 : y = 0.907 : 149.3 secs : initdesign\n",
      "\n",
      "[mbo] 0: num_leaves=131; bagging_freq=9; bagging_fraction=0.582; feature_fraction =0.397; lambda_l1=-2.16; lambda_l2=-2.64 : y = 0.915 : 198.4 secs : initdesign\n",
      "\n",
      "[mbo] 0: num_leaves=98; bagging_freq=7; bagging_fraction=0.595; feature_fraction =0.852; lambda_l1=-12.8; lambda_l2=-9.57 : y = 0.916 : 221.3 secs : initdesign\n",
      "\n",
      "[mbo] 0: num_leaves=173; bagging_freq=5; bagging_fraction=0.898; feature_fraction =0.591; lambda_l1=-12.4; lambda_l2=-3.67 : y = 0.918 : 276.4 secs : initdesign\n",
      "\n",
      "[mbo] 0: num_leaves=65; bagging_freq=7; bagging_fraction=0.779; feature_fraction =0.474; lambda_l1=-5.01; lambda_l2=-0.351 : y = 0.916 : 211.4 secs : initdesign\n",
      "\n",
      "[mbo] 0: num_leaves=163; bagging_freq=6; bagging_fraction=0.263; feature_fraction =0.689; lambda_l1=-8.85; lambda_l2=-3.08 : y = 0.903 : 123.0 secs : initdesign\n",
      "\n",
      "[mbo] 0: num_leaves=50; bagging_freq=7; bagging_fraction=0.671; feature_fraction =0.319; lambda_l1=-13.3; lambda_l2=-5.98 : y = 0.916 : 234.5 secs : initdesign\n",
      "\n",
      "[mbo] 0: num_leaves=114; bagging_freq=9; bagging_fraction=0.184; feature_fraction =0.0139; lambda_l1=-0.259; lambda_l2=-10.9 : y = 0.895 : 73.8 secs : initdesign\n",
      "\n",
      "[mbo] 0: num_leaves=190; bagging_freq=1; bagging_fraction=0.714; feature_fraction =0.751; lambda_l1=-6.52; lambda_l2=-10.8 : y = 0.916 : 245.1 secs : initdesign\n",
      "\n",
      "[mbo] 0: num_leaves=183; bagging_freq=10; bagging_fraction=0.521; feature_fraction =0.338; lambda_l1=-10.1; lambda_l2=-7.73 : y = 0.915 : 200.8 secs : initdesign\n",
      "\n",
      "[mbo] 0: num_leaves=71; bagging_freq=3; bagging_fraction=0.372; feature_fraction =0.442; lambda_l1=-2.32; lambda_l2=-12.1 : y = 0.91 : 152.9 secs : initdesign\n",
      "\n",
      "[mbo] 0: num_leaves=197; bagging_freq=4; bagging_fraction=0.0555; feature_fraction =0.814; lambda_l1=-3.29; lambda_l2=-9.87 : y = 0.5 : 16.0 secs : initdesign\n",
      "\n",
      "[mbo] 0: num_leaves=155; bagging_freq=2; bagging_fraction=0.436; feature_fraction =0.745; lambda_l1=-0.98; lambda_l2=-1.78 : y = 0.913 : 163.2 secs : initdesign\n",
      "\n",
      "[mbo] 0: num_leaves=61; bagging_freq=1; bagging_fraction=0.234; feature_fraction =0.637; lambda_l1=-11; lambda_l2=-1.01 : y = 0.901 : 129.8 secs : initdesign\n",
      "\n",
      "[mbo] 0: num_leaves=84; bagging_freq=2; bagging_fraction=0.137; feature_fraction =0.0998; lambda_l1=-11.8; lambda_l2=-13.5 : y = 0.5 : 22.1 secs : initdesign\n",
      "\n",
      "[mbo] 0: num_leaves=163; bagging_freq=8; bagging_fraction=0.661; feature_fraction =0.527; lambda_l1=-1.49; lambda_l2=-12.8 : y = 0.916 : 202.2 secs : initdesign\n",
      "\n",
      "[mbo] 0: num_leaves=106; bagging_freq=8; bagging_fraction=0.806; feature_fraction =0.995; lambda_l1=-4.57; lambda_l2=-4.85 : y = 0.917 : 252.3 secs : initdesign\n",
      "\n",
      "[mbo] 0: num_leaves=93; bagging_freq=10; bagging_fraction=0.103; feature_fraction =0.955; lambda_l1=-10.6; lambda_l2=-11.8 : y = 0.5 : 20.4 secs : initdesign\n",
      "\n",
      "[mbo] 0: num_leaves=135; bagging_freq=10; bagging_fraction=0.0119; feature_fraction =0.134; lambda_l1=-9.37; lambda_l2=-1.26 : y = 0.5 : 13.3 secs : initdesign\n",
      "\n",
      "[mbo] 0: num_leaves=141; bagging_freq=2; bagging_fraction=0.842; feature_fraction =0.171; lambda_l1=-7.45; lambda_l2=-6.48 : y = 0.917 : 277.1 secs : initdesign\n",
      "\n",
      "Saved the current state after iteration 1 in the file bayesiana.RDATA.\n",
      "\n",
      "Tue Jul 29 14:30:02 2025 AUC 0.90274657103104\n",
      "\n",
      "[mbo] 1: num_leaves=69; bagging_freq=9; bagging_fraction=0.257; feature_fraction =0.287; lambda_l1=-0.0231; lambda_l2=-1.35 : y = 0.903 : 114.0 secs : infill_ei\n",
      "\n",
      "Tue Jul 29 14:32:33 2025 AUC 0.908113791205604\n",
      "\n",
      "[mbo] 2: num_leaves=77; bagging_freq=1; bagging_fraction=0.338; feature_fraction =0.971; lambda_l1=-11; lambda_l2=-0.0082 : y = 0.908 : 150.3 secs : infill_ei\n",
      "\n",
      "Tue Jul 29 14:35:56 2025 AUC 0.91524829416707\n",
      "\n",
      "[mbo] 3: num_leaves=191; bagging_freq=6; bagging_fraction=0.654; feature_fraction =0.741; lambda_l1=-8.95; lambda_l2=-0.388 : y = 0.915 : 202.0 secs : infill_ei\n",
      "\n",
      "Tue Jul 29 14:40:04 2025 AUC 0.916707488580278\n",
      "\n",
      "[mbo] 4: num_leaves=161; bagging_freq=10; bagging_fraction=0.749; feature_fraction =0.373; lambda_l1=-10.5; lambda_l2=-9.2 : y = 0.917 : 248.0 secs : infill_ei\n",
      "\n",
      "Saved the current state after iteration 5 in the file bayesiana.RDATA.\n",
      "\n",
      "Tue Jul 29 14:42:01 2025 AUC 0.901747706361993\n",
      "\n",
      "[mbo] 5: num_leaves=159; bagging_freq=9; bagging_fraction=0.242; feature_fraction =0.00273; lambda_l1=-0.00099; lambda_l2=-12.2 : y = 0.902 : 111.2 secs : infill_ei\n",
      "\n",
      "Tue Jul 29 14:45:05 2025 AUC 0.913666556397401\n",
      "\n",
      "[mbo] 6: num_leaves=55; bagging_freq=8; bagging_fraction=0.45; feature_fraction =0.676; lambda_l1=-7.46; lambda_l2=-4.9 : y = 0.914 : 183.3 secs : infill_ei\n",
      "\n",
      "Tue Jul 29 14:48:55 2025 AUC 0.915957959399039\n",
      "\n",
      "[mbo] 7: num_leaves=108; bagging_freq=3; bagging_fraction=0.627; feature_fraction =0.25; lambda_l1=-7.04; lambda_l2=-8.85 : y = 0.916 : 228.7 secs : infill_ei\n",
      "\n",
      "Tue Jul 29 14:52:50 2025 AUC 0.917147950278979\n",
      "\n",
      "[mbo] 8: num_leaves=181; bagging_freq=7; bagging_fraction=0.895; feature_fraction =0.499; lambda_l1=-1.33; lambda_l2=-4.84 : y = 0.917 : 234.7 secs : infill_ei\n",
      "\n",
      "Saved the current state after iteration 9 in the file bayesiana.RDATA.\n",
      "\n",
      "Tue Jul 29 14:56:49 2025 AUC 0.916806236683992\n",
      "\n",
      "[mbo] 9: num_leaves=104; bagging_freq=7; bagging_fraction=0.702; feature_fraction =0.782; lambda_l1=-6.03; lambda_l2=-6.15 : y = 0.917 : 235.0 secs : infill_ei\n",
      "\n",
      "Tue Jul 29 14:59:05 2025 AUC 0.904281513664814\n",
      "\n",
      "[mbo] 10: num_leaves=90; bagging_freq=1; bagging_fraction=0.281; feature_fraction =0.648; lambda_l1=-4.83; lambda_l2=-0.154 : y = 0.904 : 135.1 secs : infill_ei\n",
      "\n",
      "Tue Jul 29 15:02:41 2025 AUC 0.917385736719373\n",
      "\n",
      "[mbo] 11: num_leaves=90; bagging_freq=1; bagging_fraction=0.887; feature_fraction =0.998; lambda_l1=-4.46; lambda_l2=-0.223 : y = 0.917 : 215.4 secs : infill_ei\n",
      "\n",
      "Tue Jul 29 15:05:47 2025 AUC 0.91510857536646\n",
      "\n",
      "[mbo] 12: num_leaves=131; bagging_freq=5; bagging_fraction=0.526; feature_fraction =0.853; lambda_l1=-1.67; lambda_l2=-11.2 : y = 0.915 : 184.7 secs : infill_ei\n",
      "\n",
      "Saved the current state after iteration 13 in the file bayesiana.RDATA.\n",
      "\n",
      "Tue Jul 29 15:08:48 2025 AUC 0.914628015114978\n",
      "\n",
      "[mbo] 13: num_leaves=110; bagging_freq=3; bagging_fraction=0.53; feature_fraction =0.539; lambda_l1=-12.3; lambda_l2=-0.0354 : y = 0.915 : 177.2 secs : infill_ei\n",
      "\n",
      "Tue Jul 29 15:12:29 2025 AUC 0.917406616065051\n",
      "\n",
      "[mbo] 14: num_leaves=103; bagging_freq=10; bagging_fraction=0.874; feature_fraction =0.586; lambda_l1=-7.44; lambda_l2=-0.369 : y = 0.917 : 220.7 secs : infill_ei\n",
      "\n",
      "Tue Jul 29 15:17:05 2025 AUC 0.917247113454813\n",
      "\n",
      "[mbo] 15: num_leaves=169; bagging_freq=5; bagging_fraction=0.874; feature_fraction =0.991; lambda_l1=-6.6; lambda_l2=-12.5 : y = 0.917 : 274.4 secs : infill_ei\n",
      "\n",
      "Saved the current state after iteration 16 in the file bayesiana.RDATA.\n",
      "\n",
      "Tue Jul 29 15:20:01 2025 AUC 0.91222324932829\n",
      "\n",
      "[mbo] 16: num_leaves=145; bagging_freq=5; bagging_fraction=0.415; feature_fraction =0.688; lambda_l1=-11.7; lambda_l2=-6.29 : y = 0.912 : 172.2 secs : infill_ei\n",
      "\n",
      "Tue Jul 29 15:24:18 2025 AUC 0.916148557482631\n",
      "\n",
      "[mbo] 17: num_leaves=120; bagging_freq=3; bagging_fraction=0.773; feature_fraction =0.688; lambda_l1=-13.5; lambda_l2=-3.85 : y = 0.916 : 255.7 secs : infill_ei\n",
      "\n",
      "Tue Jul 29 15:28:12 2025 AUC 0.917443389186447\n",
      "\n",
      "[mbo] 18: num_leaves=200; bagging_freq=5; bagging_fraction=0.815; feature_fraction =0.644; lambda_l1=-6.37; lambda_l2=-1.07 : y = 0.917 : 233.1 secs : infill_ei\n",
      "\n",
      "Saved the current state after iteration 19 in the file bayesiana.RDATA.\n",
      "\n",
      "Tue Jul 29 15:32:44 2025 AUC 0.917588775511938\n",
      "\n",
      "[mbo] 19: num_leaves=119; bagging_freq=5; bagging_fraction=0.869; feature_fraction =0.673; lambda_l1=-5.39; lambda_l2=-4.79 : y = 0.918 : 268.5 secs : infill_ei\n",
      "\n",
      "Tue Jul 29 15:36:22 2025 AUC 0.917578058440829\n",
      "\n",
      "[mbo] 20: num_leaves=167; bagging_freq=1; bagging_fraction=0.941; feature_fraction =0.122; lambda_l1=-6.43; lambda_l2=-0.0126 : y = 0.918 : 216.9 secs : infill_ei\n",
      "\n",
      "Tue Jul 29 15:41:01 2025 AUC 0.917696757189507\n",
      "\n",
      "[mbo] 21: num_leaves=200; bagging_freq=1; bagging_fraction=0.939; feature_fraction =0.733; lambda_l1=-5.29; lambda_l2=-11.8 : y = 0.918 : 278.4 secs : infill_ei\n",
      "\n",
      "Saved the current state after iteration 22 in the file bayesiana.RDATA.\n",
      "\n",
      "Tue Jul 29 15:44:17 2025 AUC 0.91638443055292\n",
      "\n",
      "[mbo] 22: num_leaves=161; bagging_freq=1; bagging_fraction=0.741; feature_fraction =0.238; lambda_l1=-0.0297; lambda_l2=-1.91 : y = 0.916 : 190.6 secs : infill_ei\n",
      "\n",
      "Tue Jul 29 15:45:49 2025 AUC 0.89829715979371\n",
      "\n",
      "[mbo] 23: num_leaves=124; bagging_freq=10; bagging_fraction=0.211; feature_fraction =0.00506; lambda_l1=-0.0213; lambda_l2=-1.9 : y = 0.898 : 91.2 secs : infill_ei\n",
      "\n",
      "Tue Jul 29 15:48:16 2025 AUC 0.912791726876715\n",
      "\n",
      "[mbo] 24: num_leaves=115; bagging_freq=9; bagging_fraction=0.437; feature_fraction =0.285; lambda_l1=-0.0194; lambda_l2=-11.2 : y = 0.913 : 146.0 secs : infill_ei\n",
      "\n",
      "Tue Jul 29 15:52:51 2025 AUC 0.917595339316872\n",
      "\n",
      "[mbo] 25: num_leaves=189; bagging_freq=9; bagging_fraction=0.929; feature_fraction =0.996; lambda_l1=-7.56; lambda_l2=-2.61 : y = 0.918 : 273.7 secs : infill_ei\n",
      "\n",
      "Saved the current state after iteration 26 in the file bayesiana.RDATA.\n",
      "\n",
      "Tue Jul 29 15:56:22 2025 AUC 0.916889138541072\n",
      "\n",
      "[mbo] 26: num_leaves=148; bagging_freq=1; bagging_fraction=0.789; feature_fraction =0.594; lambda_l1=-0.289; lambda_l2=-13.8 : y = 0.917 : 205.1 secs : infill_ei\n",
      "\n",
      "Tue Jul 29 16:01:10 2025 AUC 0.918036648223765\n",
      "\n",
      "[mbo] 27: num_leaves=176; bagging_freq=10; bagging_fraction=0.966; feature_fraction =0.102; lambda_l1=-9.2; lambda_l2=-13.2 : y = 0.918 : 287.2 secs : infill_ei\n",
      "\n",
      "Tue Jul 29 16:04:21 2025 AUC 0.915474367773839\n",
      "\n",
      "[mbo] 28: num_leaves=53; bagging_freq=1; bagging_fraction=0.649; feature_fraction =0.973; lambda_l1=-0.34; lambda_l2=-1.34 : y = 0.915 : 190.0 secs : infill_ei\n",
      "\n",
      "Saved the current state after iteration 29 in the file bayesiana.RDATA.\n",
      "\n",
      "Tue Jul 29 16:07:30 2025 AUC 0.915203728195614\n",
      "\n",
      "[mbo] 29: num_leaves=194; bagging_freq=1; bagging_fraction=0.594; feature_fraction =0.782; lambda_l1=-0.103; lambda_l2=-5.65 : y = 0.915 : 184.7 secs : infill_ei\n",
      "\n",
      "Tue Jul 29 16:11:21 2025 AUC 0.917683286724705\n",
      "\n",
      "[mbo] 30: num_leaves=86; bagging_freq=10; bagging_fraction=0.957; feature_fraction =0.0582; lambda_l1=-13.8; lambda_l2=-0.0311 : y = 0.918 : 229.9 secs : infill_ei\n",
      "\n",
      "Tue Jul 29 16:13:12 2025 AUC 0.900479619084018\n",
      "\n",
      "[mbo] 31: num_leaves=50; bagging_freq=9; bagging_fraction=0.227; feature_fraction =0.297; lambda_l1=-0.0651; lambda_l2=-8.5 : y = 0.9 : 109.8 secs : infill_ei\n",
      "\n",
      "Tue Jul 29 16:15:22 2025 AUC 0.905098949468487\n",
      "\n",
      "[mbo] 32: num_leaves=57; bagging_freq=5; bagging_fraction=0.296; feature_fraction =0.594; lambda_l1=-11.6; lambda_l2=-0.00429 : y = 0.905 : 128.8 secs : infill_ei\n",
      "\n",
      "Saved the current state after iteration 33 in the file bayesiana.RDATA.\n",
      "\n",
      "Tue Jul 29 16:19:44 2025 AUC 0.917029636385815\n",
      "\n",
      "[mbo] 33: num_leaves=52; bagging_freq=10; bagging_fraction=0.822; feature_fraction =0.224; lambda_l1=-13.8; lambda_l2=-13.7 : y = 0.917 : 258.2 secs : infill_ei\n",
      "\n",
      "Tue Jul 29 16:23:24 2025 AUC 0.916646372840652\n",
      "\n",
      "[mbo] 34: num_leaves=163; bagging_freq=1; bagging_fraction=0.77; feature_fraction =0.999; lambda_l1=-1.78; lambda_l2=-1.46 : y = 0.917 : 218.6 secs : infill_ei\n",
      "\n",
      "Tue Jul 29 16:27:32 2025 AUC 0.916738348585225\n",
      "\n",
      "[mbo] 35: num_leaves=196; bagging_freq=10; bagging_fraction=0.815; feature_fraction =0.00128; lambda_l1=-2.93; lambda_l2=-13.8 : y = 0.917 : 247.6 secs : infill_ei\n",
      "\n",
      "Saved the current state after iteration 36 in the file bayesiana.RDATA.\n",
      "\n",
      "Tue Jul 29 16:31:55 2025 AUC 0.916900740006392\n",
      "\n",
      "[mbo] 36: num_leaves=190; bagging_freq=6; bagging_fraction=0.795; feature_fraction =0.00511; lambda_l1=-13.4; lambda_l2=-13.8 : y = 0.917 : 257.9 secs : infill_ei\n",
      "\n",
      "Tue Jul 29 16:35:52 2025 AUC 0.916629469046845\n",
      "\n",
      "[mbo] 37: num_leaves=138; bagging_freq=10; bagging_fraction=0.814; feature_fraction =0.00109; lambda_l1=-11.5; lambda_l2=-1.78 : y = 0.917 : 236.1 secs : infill_ei\n",
      "\n",
      "Tue Jul 29 16:40:30 2025 AUC 0.917947507243288\n",
      "\n",
      "[mbo] 38: num_leaves=118; bagging_freq=9; bagging_fraction=0.911; feature_fraction =0.000343; lambda_l1=-5.75; lambda_l2=-13.7 : y = 0.918 : 276.4 secs : infill_ei\n",
      "\n",
      "Saved the current state after iteration 39 in the file bayesiana.RDATA.\n",
      "\n",
      "Tue Jul 29 16:46:01 2025 AUC 0.917246210370291\n",
      "\n",
      "[mbo] 39: num_leaves=121; bagging_freq=10; bagging_fraction=0.941; feature_fraction =0.871; lambda_l1=-13.8; lambda_l2=-13.7 : y = 0.917 : 279.2 secs : infill_ei\n",
      "\n",
      "Tue Jul 29 16:48:56 2025 AUC 0.913937516915489\n",
      "\n",
      "[mbo] 40: num_leaves=55; bagging_freq=1; bagging_fraction=0.508; feature_fraction =0.398; lambda_l1=-0.0541; lambda_l2=-4.89 : y = 0.914 : 174.4 secs : infill_ei\n",
      "\n",
      "Tue Jul 29 16:53:20 2025 AUC 0.917455619972402\n",
      "\n",
      "[mbo] 41: num_leaves=162; bagging_freq=9; bagging_fraction=0.824; feature_fraction =0.545; lambda_l1=-10.8; lambda_l2=-13.1 : y = 0.917 : 262.9 secs : infill_ei\n",
      "\n",
      "Saved the current state after iteration 42 in the file bayesiana.RDATA.\n",
      "\n",
      "Tue Jul 29 16:57:54 2025 AUC 0.917900543147109\n",
      "\n",
      "[mbo] 42: num_leaves=90; bagging_freq=1; bagging_fraction=0.967; feature_fraction =0.0194; lambda_l1=-13.8; lambda_l2=-12.9 : y = 0.918 : 269.3 secs : infill_ei\n",
      "\n",
      "Tue Jul 29 17:02:08 2025 AUC 0.916764768266092\n",
      "\n",
      "[mbo] 43: num_leaves=53; bagging_freq=2; bagging_fraction=0.74; feature_fraction =0.256; lambda_l1=-4.36; lambda_l2=-13.8 : y = 0.917 : 252.8 secs : infill_ei\n",
      "\n",
      "Tue Jul 29 17:04:21 2025 AUC 0.908873422231301\n",
      "\n",
      "[mbo] 44: num_leaves=120; bagging_freq=8; bagging_fraction=0.357; feature_fraction =0.62; lambda_l1=-0.239; lambda_l2=-7.73 : y = 0.909 : 131.4 secs : infill_ei\n",
      "\n",
      "Saved the current state after iteration 45 in the file bayesiana.RDATA.\n",
      "\n",
      "Tue Jul 29 17:08:41 2025 AUC 0.917429100126212\n",
      "\n",
      "[mbo] 45: num_leaves=158; bagging_freq=1; bagging_fraction=1; feature_fraction =0.687; lambda_l1=-13.7; lambda_l2=-1.42 : y = 0.917 : 254.8 secs : infill_ei\n",
      "\n",
      "Tue Jul 29 17:13:28 2025 AUC 0.917770510882103\n",
      "\n",
      "[mbo] 46: num_leaves=148; bagging_freq=7; bagging_fraction=0.95; feature_fraction =0.199; lambda_l1=-13.8; lambda_l2=-9.22 : y = 0.918 : 286.0 secs : infill_ei\n",
      "\n",
      "Tue Jul 29 17:17:21 2025 AUC 0.917669842120735\n",
      "\n",
      "[mbo] 47: num_leaves=110; bagging_freq=1; bagging_fraction=1; feature_fraction =0.0932; lambda_l1=-0.966; lambda_l2=-12.2 : y = 0.918 : 232.1 secs : infill_ei\n",
      "\n",
      "Saved the current state after iteration 48 in the file bayesiana.RDATA.\n",
      "\n",
      "Tue Jul 29 17:22:10 2025 AUC 0.91783487872012\n",
      "\n",
      "[mbo] 48: num_leaves=53; bagging_freq=10; bagging_fraction=1; feature_fraction =0.166; lambda_l1=-7.21; lambda_l2=-8.07 : y = 0.918 : 283.9 secs : infill_ei\n",
      "\n",
      "Tue Jul 29 17:27:01 2025 AUC 0.917462258838968\n",
      "\n",
      "[mbo] 49: num_leaves=104; bagging_freq=6; bagging_fraction=1; feature_fraction =0.596; lambda_l1=-10.3; lambda_l2=-13.8 : y = 0.917 : 289.6 secs : infill_ei\n",
      "\n",
      "Tue Jul 29 17:30:47 2025 AUC 0.918616114828456\n",
      "\n",
      "[mbo] 50: num_leaves=50; bagging_freq=1; bagging_fraction=0.999; feature_fraction =0.196; lambda_l1=-8.93; lambda_l2=-0.256 : y = 0.919 : 225.0 secs : infill_ei\n",
      "\n",
      "Saved the current state after iteration 51 in the file bayesiana.RDATA.\n",
      "\n",
      "Tue Jul 29 17:34:17 2025 AUC 0.914949743250074\n",
      "\n",
      "[mbo] 51: num_leaves=51; bagging_freq=8; bagging_fraction=0.55; feature_fraction =0.00258; lambda_l1=-8.46; lambda_l2=-13.7 : y = 0.915 : 205.2 secs : infill_ei\n",
      "\n",
      "Tue Jul 29 17:38:13 2025 AUC 0.918039907614954\n",
      "\n",
      "[mbo] 52: num_leaves=163; bagging_freq=10; bagging_fraction=1; feature_fraction =0.146; lambda_l1=-1.96; lambda_l2=-0.0124 : y = 0.918 : 234.2 secs : infill_ei\n",
      "\n",
      "Tue Jul 29 17:41:55 2025 AUC 0.915275419724647\n",
      "\n",
      "[mbo] 53: num_leaves=50; bagging_freq=1; bagging_fraction=0.566; feature_fraction =0.692; lambda_l1=-8.04; lambda_l2=-5.62 : y = 0.915 : 221.4 secs : infill_ei\n",
      "\n",
      "Saved the current state after iteration 54 in the file bayesiana.RDATA.\n",
      "\n",
      "Tue Jul 29 17:47:09 2025 AUC 0.917984215339862\n",
      "\n",
      "[mbo] 54: num_leaves=174; bagging_freq=3; bagging_fraction=0.999; feature_fraction =0.00127; lambda_l1=-8.92; lambda_l2=-5.36 : y = 0.918 : 307.4 secs : infill_ei\n",
      "\n",
      "Tue Jul 29 17:50:39 2025 AUC 0.916939589006189\n",
      "\n",
      "[mbo] 55: num_leaves=85; bagging_freq=8; bagging_fraction=0.779; feature_fraction =0.00176; lambda_l1=-0.969; lambda_l2=-10.5 : y = 0.917 : 208.8 secs : infill_ei\n",
      "\n",
      "Tue Jul 29 17:55:02 2025 AUC 0.916936580609437\n",
      "\n",
      "[mbo] 56: num_leaves=53; bagging_freq=1; bagging_fraction=0.81; feature_fraction =1; lambda_l1=-10.8; lambda_l2=-12.1 : y = 0.917 : 261.9 secs : infill_ei\n",
      "\n",
      "Saved the current state after iteration 57 in the file bayesiana.RDATA.\n",
      "\n",
      "Tue Jul 29 17:58:47 2025 AUC 0.915372587039836\n",
      "\n",
      "[mbo] 57: num_leaves=200; bagging_freq=6; bagging_fraction=0.577; feature_fraction =0.216; lambda_l1=-11.4; lambda_l2=-13.3 : y = 0.915 : 219.0 secs : infill_ei\n",
      "\n",
      "Tue Jul 29 18:02:42 2025 AUC 0.917736281620852\n",
      "\n",
      "[mbo] 58: num_leaves=73; bagging_freq=10; bagging_fraction=1; feature_fraction =0.966; lambda_l1=-13; lambda_l2=-0.159 : y = 0.918 : 233.8 secs : infill_ei\n",
      "\n",
      "Tue Jul 29 18:06:33 2025 AUC 0.916207816866802\n",
      "\n",
      "[mbo] 59: num_leaves=200; bagging_freq=6; bagging_fraction=0.69; feature_fraction =0.000181; lambda_l1=-3.27; lambda_l2=-6.87 : y = 0.916 : 229.8 secs : infill_ei\n",
      "\n",
      "Saved the current state after iteration 60 in the file bayesiana.RDATA.\n",
      "\n",
      "Tue Jul 29 18:11:10 2025 AUC 0.917482597678073\n",
      "\n",
      "[mbo] 60: num_leaves=50; bagging_freq=1; bagging_fraction=0.985; feature_fraction =0.995; lambda_l1=-12.4; lambda_l2=-10.5 : y = 0.917 : 271.2 secs : infill_ei\n",
      "\n",
      "Tue Jul 29 18:14:40 2025 AUC 0.915077808792634\n",
      "\n",
      "[mbo] 61: num_leaves=146; bagging_freq=6; bagging_fraction=0.551; feature_fraction =0.45; lambda_l1=-7.17; lambda_l2=-6.48 : y = 0.915 : 208.8 secs : infill_ei\n",
      "\n",
      "Tue Jul 29 18:18:10 2025 AUC 0.914434890837715\n",
      "\n",
      "[mbo] 62: num_leaves=102; bagging_freq=1; bagging_fraction=0.48; feature_fraction =0.996; lambda_l1=-10.4; lambda_l2=-4.39 : y = 0.914 : 209.4 secs : infill_ei\n",
      "\n",
      "Saved the current state after iteration 63 in the file bayesiana.RDATA.\n",
      "\n",
      "Tue Jul 29 18:21:52 2025 AUC 0.917449082392777\n",
      "\n",
      "[mbo] 63: num_leaves=50; bagging_freq=1; bagging_fraction=0.883; feature_fraction =0.173; lambda_l1=-0.903; lambda_l2=-13.8 : y = 0.917 : 216.3 secs : infill_ei\n",
      "\n",
      "Tue Jul 29 18:25:33 2025 AUC 0.917610261581999\n",
      "\n",
      "[mbo] 64: num_leaves=50; bagging_freq=10; bagging_fraction=0.974; feature_fraction =0.964; lambda_l1=-0.024; lambda_l2=-12.7 : y = 0.918 : 219.7 secs : infill_ei\n",
      "\n",
      "Tue Jul 29 18:28:45 2025 AUC 0.912563520723132\n",
      "\n",
      "[mbo] 65: num_leaves=51; bagging_freq=1; bagging_fraction=0.434; feature_fraction =0.243; lambda_l1=-11.1; lambda_l2=-1.43 : y = 0.913 : 191.0 secs : infill_ei\n",
      "\n",
      "Saved the current state after iteration 66 in the file bayesiana.RDATA.\n",
      "\n",
      "Tue Jul 29 18:32:49 2025 AUC 0.916065002892169\n",
      "\n",
      "[mbo] 66: num_leaves=112; bagging_freq=10; bagging_fraction=0.683; feature_fraction =0.00053; lambda_l1=-10.6; lambda_l2=-13.8 : y = 0.916 : 237.6 secs : infill_ei\n",
      "\n",
      "Tue Jul 29 18:36:35 2025 AUC 0.917363142091106\n",
      "\n",
      "[mbo] 67: num_leaves=50; bagging_freq=1; bagging_fraction=0.877; feature_fraction =0.00378; lambda_l1=-13.8; lambda_l2=-0.564 : y = 0.917 : 225.0 secs : infill_ei\n",
      "\n",
      "Tue Jul 29 18:40:58 2025 AUC 0.917875927323533\n",
      "\n",
      "[mbo] 68: num_leaves=177; bagging_freq=10; bagging_fraction=1; feature_fraction =0.947; lambda_l1=-2.34; lambda_l2=-10.1 : y = 0.918 : 262.1 secs : infill_ei\n",
      "\n",
      "Saved the current state after iteration 69 in the file bayesiana.RDATA.\n",
      "\n",
      "Tue Jul 29 18:44:36 2025 AUC 0.917332816344237\n",
      "\n",
      "[mbo] 69: num_leaves=50; bagging_freq=9; bagging_fraction=0.939; feature_fraction =0.0126; lambda_l1=-0.11; lambda_l2=-0.471 : y = 0.917 : 210.4 secs : infill_ei\n",
      "\n",
      "Tue Jul 29 18:47:35 2025 AUC 0.915395738396234\n",
      "\n",
      "[mbo] 70: num_leaves=50; bagging_freq=10; bagging_fraction=0.61; feature_fraction =0.723; lambda_l1=-0.533; lambda_l2=-12.6 : y = 0.915 : 178.2 secs : infill_ei\n",
      "\n",
      "Tue Jul 29 18:51:23 2025 AUC 0.916130769126217\n",
      "\n",
      "[mbo] 71: num_leaves=196; bagging_freq=10; bagging_fraction=0.62; feature_fraction =0.0154; lambda_l1=-13.8; lambda_l2=-7.14 : y = 0.916 : 226.0 secs : infill_ei\n",
      "\n",
      "Saved the current state after iteration 72 in the file bayesiana.RDATA.\n",
      "\n",
      "Tue Jul 29 18:54:59 2025 AUC 0.917082069176204\n",
      "\n",
      "[mbo] 72: num_leaves=50; bagging_freq=10; bagging_fraction=0.848; feature_fraction =0.866; lambda_l1=-0.586; lambda_l2=-12 : y = 0.917 : 210.9 secs : infill_ei\n",
      "\n",
      "Tue Jul 29 18:58:27 2025 AUC 0.916975143422481\n",
      "\n",
      "[mbo] 73: num_leaves=50; bagging_freq=1; bagging_fraction=0.812; feature_fraction =0.227; lambda_l1=-0.801; lambda_l2=-2.41 : y = 0.917 : 207.2 secs : infill_ei\n",
      "\n",
      "Tue Jul 29 19:01:52 2025 AUC 0.916391247925923\n",
      "\n",
      "[mbo] 74: num_leaves=189; bagging_freq=1; bagging_fraction=0.699; feature_fraction =0.0457; lambda_l1=-13.8; lambda_l2=-0.00324 : y = 0.916 : 203.9 secs : infill_ei\n",
      "\n",
      "Saved the current state after iteration 75 in the file bayesiana.RDATA.\n",
      "\n",
      "Tue Jul 29 19:05:07 2025 AUC 0.915553420640377\n",
      "\n",
      "[mbo] 75: num_leaves=53; bagging_freq=10; bagging_fraction=0.606; feature_fraction =0.0053; lambda_l1=-10.8; lambda_l2=-0.348 : y = 0.916 : 188.7 secs : infill_ei\n",
      "\n",
      "Tue Jul 29 19:08:44 2025 AUC 0.916897251141099\n",
      "\n",
      "[mbo] 76: num_leaves=50; bagging_freq=7; bagging_fraction=0.849; feature_fraction =0.992; lambda_l1=-13.8; lambda_l2=-0.163 : y = 0.917 : 216.3 secs : infill_ei\n",
      "\n",
      "Tue Jul 29 19:11:58 2025 AUC 0.916136754431879\n",
      "\n",
      "[mbo] 77: num_leaves=60; bagging_freq=2; bagging_fraction=0.689; feature_fraction =0.993; lambda_l1=-0.00154; lambda_l2=-13.7 : y = 0.916 : 192.5 secs : infill_ei\n",
      "\n",
      "Saved the current state after iteration 78 in the file bayesiana.RDATA.\n",
      "\n",
      "Tue Jul 29 19:15:37 2025 AUC 0.917449098612077\n",
      "\n",
      "[mbo] 78: num_leaves=125; bagging_freq=10; bagging_fraction=0.96; feature_fraction =0.313; lambda_l1=-0.00761; lambda_l2=-11.7 : y = 0.917 : 213.7 secs : infill_ei\n",
      "\n",
      "Tue Jul 29 19:18:59 2025 AUC 0.91599857573291\n",
      "\n",
      "[mbo] 79: num_leaves=54; bagging_freq=1; bagging_fraction=0.713; feature_fraction =0.993; lambda_l1=-12.2; lambda_l2=-0.00147 : y = 0.916 : 200.9 secs : infill_ei\n",
      "\n",
      "Tue Jul 29 19:23:05 2025 AUC 0.917565079615883\n",
      "\n",
      "[mbo] 80: num_leaves=50; bagging_freq=9; bagging_fraction=0.985; feature_fraction =0.662; lambda_l1=-2.9; lambda_l2=-1.37 : y = 0.918 : 244.6 secs : infill_ei\n",
      "\n",
      "Saved the current state after iteration 81 in the file bayesiana.RDATA.\n",
      "\n",
      "Tue Jul 29 19:26:30 2025 AUC 0.916071502202769\n",
      "\n",
      "[mbo] 81: num_leaves=200; bagging_freq=9; bagging_fraction=0.742; feature_fraction =0.995; lambda_l1=-0.668; lambda_l2=-13.7 : y = 0.916 : 199.6 secs : infill_ei\n",
      "\n",
      "Tue Jul 29 19:29:56 2025 AUC 0.9175869107231\n",
      "\n",
      "[mbo] 82: num_leaves=199; bagging_freq=1; bagging_fraction=0.999; feature_fraction =0.991; lambda_l1=-0.00854; lambda_l2=-0.0359 : y = 0.918 : 205.0 secs : infill_ei\n",
      "\n",
      "Tue Jul 29 19:33:24 2025 AUC 0.917245064177585\n",
      "\n",
      "[mbo] 83: num_leaves=72; bagging_freq=1; bagging_fraction=0.941; feature_fraction =0.971; lambda_l1=-0.031; lambda_l2=-13.4 : y = 0.917 : 206.6 secs : infill_ei\n",
      "\n",
      "Saved the current state after iteration 84 in the file bayesiana.RDATA.\n",
      "\n",
      "Tue Jul 29 19:37:30 2025 AUC 0.916881293124654\n",
      "\n",
      "[mbo] 84: num_leaves=50; bagging_freq=10; bagging_fraction=0.736; feature_fraction =1; lambda_l1=-12.9; lambda_l2=-13.8 : y = 0.917 : 240.0 secs : infill_ei\n",
      "\n",
      "Tue Jul 29 19:40:44 2025 AUC 0.916175827031836\n",
      "\n",
      "[mbo] 85: num_leaves=50; bagging_freq=3; bagging_fraction=0.689; feature_fraction =0.00196; lambda_l1=-0.819; lambda_l2=-0.103 : y = 0.916 : 193.2 secs : infill_ei\n",
      "\n",
      "Tue Jul 29 19:45:31 2025 AUC 0.917051431192054\n",
      "\n",
      "[mbo] 86: num_leaves=50; bagging_freq=4; bagging_fraction=0.967; feature_fraction =0.00774; lambda_l1=-3.31; lambda_l2=-12.8 : y = 0.917 : 285.2 secs : infill_ei\n",
      "\n",
      "Saved the current state after iteration 87 in the file bayesiana.RDATA.\n",
      "\n",
      "Tue Jul 29 19:48:42 2025 AUC 0.915370476306969\n",
      "\n",
      "[mbo] 87: num_leaves=188; bagging_freq=10; bagging_fraction=0.716; feature_fraction =0.768; lambda_l1=-0.0221; lambda_l2=-0.108 : y = 0.915 : 185.3 secs : infill_ei\n",
      "\n",
      "Tue Jul 29 19:52:22 2025 AUC 0.916565686428983\n",
      "\n",
      "[mbo] 88: num_leaves=73; bagging_freq=5; bagging_fraction=0.731; feature_fraction =0.000245; lambda_l1=-12.2; lambda_l2=-1.3 : y = 0.917 : 219.0 secs : infill_ei\n",
      "\n",
      "Tue Jul 29 19:55:53 2025 AUC 0.917839406050762\n",
      "\n",
      "[mbo] 89: num_leaves=78; bagging_freq=1; bagging_fraction=0.978; feature_fraction =0.294; lambda_l1=-0.00702; lambda_l2=-3.73 : y = 0.918 : 209.4 secs : infill_ei\n",
      "\n",
      "Saved the current state after iteration 90 in the file bayesiana.RDATA.\n",
      "\n",
      "Tue Jul 29 19:59:19 2025 AUC 0.91693003753774\n",
      "\n",
      "[mbo] 90: num_leaves=200; bagging_freq=6; bagging_fraction=0.86; feature_fraction =0.00395; lambda_l1=-0.075; lambda_l2=-0.0246 : y = 0.917 : 200.2 secs : infill_ei\n",
      "\n",
      "Tue Jul 29 20:03:18 2025 AUC 0.916430136292511\n",
      "\n",
      "[mbo] 91: num_leaves=200; bagging_freq=10; bagging_fraction=0.689; feature_fraction =0.984; lambda_l1=-13.8; lambda_l2=-12.5 : y = 0.916 : 238.2 secs : infill_ei\n",
      "\n",
      "Tue Jul 29 20:05:49 2025 AUC 0.909356162173964\n",
      "\n",
      "[mbo] 92: num_leaves=63; bagging_freq=8; bagging_fraction=0.373; feature_fraction =0.00314; lambda_l1=-1.89; lambda_l2=-10.4 : y = 0.909 : 149.0 secs : infill_ei\n",
      "\n",
      "Tue Jul 29 20:09:41 2025 AUC 0.91702492184832\n",
      "\n",
      "[mbo] 93: num_leaves=200; bagging_freq=8; bagging_fraction=0.988; feature_fraction =0.453; lambda_l1=-11.1; lambda_l2=-0.147 : y = 0.917 : 231.0 secs : infill_ei\n",
      "\n",
      "Saved the current state after iteration 94 in the file bayesiana.RDATA.\n",
      "\n",
      "Tue Jul 29 20:12:38 2025 AUC 0.915201155969063\n",
      "\n",
      "[mbo] 94: num_leaves=73; bagging_freq=4; bagging_fraction=0.594; feature_fraction =0.0906; lambda_l1=-0.00138; lambda_l2=-13.2 : y = 0.915 : 171.5 secs : infill_ei\n",
      "\n",
      "Tue Jul 29 20:15:43 2025 AUC 0.913152805425173\n",
      "\n",
      "[mbo] 95: num_leaves=86; bagging_freq=3; bagging_fraction=0.45; feature_fraction =0.554; lambda_l1=-3.22; lambda_l2=-8.69 : y = 0.913 : 183.2 secs : infill_ei\n",
      "\n",
      "Tue Jul 29 20:19:21 2025 AUC 0.915667569701137\n",
      "\n",
      "[mbo] 96: num_leaves=200; bagging_freq=10; bagging_fraction=0.599; feature_fraction =0.972; lambda_l1=-6.36; lambda_l2=-13.8 : y = 0.916 : 217.1 secs : infill_ei\n",
      "\n",
      "Tue Jul 29 20:22:16 2025 AUC 0.913856111814119\n",
      "\n",
      "[mbo] 97: num_leaves=200; bagging_freq=7; bagging_fraction=0.502; feature_fraction =0.946; lambda_l1=-1.6; lambda_l2=-1.52 : y = 0.914 : 173.1 secs : infill_ei\n",
      "\n",
      "Saved the current state after iteration 98 in the file bayesiana.RDATA.\n",
      "\n",
      "Tue Jul 29 20:25:52 2025 AUC 0.915110043290536\n",
      "\n",
      "[mbo] 98: num_leaves=55; bagging_freq=1; bagging_fraction=0.607; feature_fraction =0.00242; lambda_l1=-13.7; lambda_l2=-1.55 : y = 0.915 : 209.9 secs : infill_ei\n",
      "\n",
      "Tue Jul 29 20:30:21 2025 AUC 0.917616377706067\n",
      "\n",
      "[mbo] 99: num_leaves=200; bagging_freq=10; bagging_fraction=0.874; feature_fraction =0.0177; lambda_l1=-12.2; lambda_l2=-7.78 : y = 0.918 : 268.1 secs : infill_ei\n",
      "\n",
      "Tue Jul 29 20:34:50 2025 AUC 0.918129030249967\n",
      "\n",
      "[mbo] 100: num_leaves=51; bagging_freq=9; bagging_fraction=0.891; feature_fraction =0.996; lambda_l1=-11.9; lambda_l2=-11.1 : y = 0.918 : 267.4 secs : infill_ei\n",
      "\n",
      "Saved the current state after iteration 101 in the file bayesiana.RDATA.\n",
      "\n",
      "Tue Jul 29 20:38:02 2025 AUC 0.914387494161211\n",
      "\n",
      "[mbo] 101: num_leaves=107; bagging_freq=7; bagging_fraction=0.489; feature_fraction =0.23; lambda_l1=-8.74; lambda_l2=-2.54 : y = 0.914 : 186.3 secs : infill_ei\n",
      "\n",
      "Tue Jul 29 20:41:15 2025 AUC 0.915082478958989\n",
      "\n",
      "[mbo] 102: num_leaves=53; bagging_freq=10; bagging_fraction=0.561; feature_fraction =0.999; lambda_l1=-10.4; lambda_l2=-1.39 : y = 0.915 : 190.8 secs : infill_ei\n",
      "\n",
      "Tue Jul 29 20:44:08 2025 AUC 0.909413156025084\n",
      "\n",
      "[mbo] 103: num_leaves=177; bagging_freq=1; bagging_fraction=0.371; feature_fraction =0.53; lambda_l1=-10.2; lambda_l2=-2.54 : y = 0.909 : 172.3 secs : infill_ei\n",
      "\n",
      "Tue Jul 29 20:47:28 2025 AUC 0.916541503944351\n",
      "\n",
      "[mbo] 104: num_leaves=52; bagging_freq=4; bagging_fraction=0.742; feature_fraction =0.835; lambda_l1=-0.0085; lambda_l2=-3.69 : y = 0.917 : 198.1 secs : infill_ei\n",
      "\n",
      "Saved the current state after iteration 105 in the file bayesiana.RDATA.\n",
      "\n",
      "Tue Jul 29 20:51:57 2025 AUC 0.917640347643735\n",
      "\n",
      "[mbo] 105: num_leaves=77; bagging_freq=1; bagging_fraction=0.868; feature_fraction =0.583; lambda_l1=-13.8; lambda_l2=-13.8 : y = 0.918 : 263.5 secs : infill_ei\n",
      "\n",
      "Tue Jul 29 20:56:04 2025 AUC 0.917551145571347\n",
      "\n",
      "[mbo] 106: num_leaves=200; bagging_freq=1; bagging_fraction=0.854; feature_fraction =0.997; lambda_l1=-13.8; lambda_l2=-2.02 : y = 0.918 : 245.1 secs : infill_ei\n",
      "\n",
      "Tue Jul 29 20:59:33 2025 AUC 0.915313070863323\n",
      "\n",
      "[mbo] 107: num_leaves=200; bagging_freq=1; bagging_fraction=0.591; feature_fraction =0.958; lambda_l1=-13.7; lambda_l2=-1.34 : y = 0.915 : 207.3 secs : infill_ei\n",
      "\n",
      "Saved the current state after iteration 108 in the file bayesiana.RDATA.\n",
      "\n",
      "Tue Jul 29 21:02:46 2025 AUC 0.915337578491354\n",
      "\n",
      "[mbo] 108: num_leaves=200; bagging_freq=1; bagging_fraction=0.586; feature_fraction =0.0177; lambda_l1=-6.42; lambda_l2=-0.0448 : y = 0.915 : 186.7 secs : infill_ei\n",
      "\n",
      "Tue Jul 29 21:06:12 2025 AUC 0.916758045591621\n",
      "\n",
      "[mbo] 109: num_leaves=200; bagging_freq=10; bagging_fraction=0.761; feature_fraction =0.988; lambda_l1=-13.7; lambda_l2=-0.235 : y = 0.917 : 205.1 secs : infill_ei\n",
      "\n",
      "Tue Jul 29 21:09:34 2025 AUC 0.916716091977022\n",
      "\n",
      "[mbo] 110: num_leaves=200; bagging_freq=1; bagging_fraction=0.855; feature_fraction =0.906; lambda_l1=-0.0179; lambda_l2=-8.98 : y = 0.917 : 200.1 secs : infill_ei\n",
      "\n",
      "Tue Jul 29 21:14:01 2025 AUC 0.917474574945768\n",
      "\n",
      "[mbo] 111: num_leaves=50; bagging_freq=8; bagging_fraction=0.869; feature_fraction =0.0488; lambda_l1=-9.51; lambda_l2=-3.47 : y = 0.917 : 265.7 secs : infill_ei\n",
      "\n",
      "Saved the current state after iteration 112 in the file bayesiana.RDATA.\n",
      "\n",
      "Tue Jul 29 21:17:46 2025 AUC 0.917452253103959\n",
      "\n",
      "[mbo] 112: num_leaves=200; bagging_freq=3; bagging_fraction=0.923; feature_fraction =0.0323; lambda_l1=-0.0173; lambda_l2=-13.8 : y = 0.917 : 219.0 secs : infill_ei\n",
      "\n",
      "Tue Jul 29 21:21:20 2025 AUC 0.916380214770611\n",
      "\n",
      "[mbo] 113: num_leaves=57; bagging_freq=10; bagging_fraction=0.679; feature_fraction =0.999; lambda_l1=-3.62; lambda_l2=-1.74 : y = 0.916 : 212.3 secs : infill_ei\n",
      "\n",
      "Tue Jul 29 21:24:10 2025 AUC 0.914809352502844\n",
      "\n",
      "[mbo] 114: num_leaves=200; bagging_freq=10; bagging_fraction=0.564; feature_fraction =0.000729; lambda_l1=-0.122; lambda_l2=-12.3 : y = 0.915 : 168.2 secs : infill_ei\n",
      "\n",
      "Saved the current state after iteration 115 in the file bayesiana.RDATA.\n",
      "\n",
      "Tue Jul 29 21:28:23 2025 AUC 0.917304640237332\n",
      "\n",
      "[mbo] 115: num_leaves=51; bagging_freq=2; bagging_fraction=0.945; feature_fraction =0.817; lambda_l1=-13.8; lambda_l2=-0.511 : y = 0.917 : 246.8 secs : infill_ei\n",
      "\n",
      "Tue Jul 29 21:32:21 2025 AUC 0.918170847957341\n",
      "\n",
      "[mbo] 116: num_leaves=94; bagging_freq=4; bagging_fraction=0.989; feature_fraction =0.0724; lambda_l1=-12.1; lambda_l2=-0.169 : y = 0.918 : 235.9 secs : infill_ei\n",
      "\n",
      "Tue Jul 29 21:37:19 2025 AUC 0.917667165012862\n",
      "\n",
      "[mbo] 117: num_leaves=200; bagging_freq=3; bagging_fraction=1; feature_fraction =1; lambda_l1=-13.5; lambda_l2=-13.3 : y = 0.918 : 296.3 secs : infill_ei\n",
      "\n",
      "Saved the current state after iteration 118 in the file bayesiana.RDATA.\n",
      "\n",
      "Tue Jul 29 21:41:49 2025 AUC 0.917099767958263\n",
      "\n",
      "[mbo] 118: num_leaves=200; bagging_freq=1; bagging_fraction=0.889; feature_fraction =0.0729; lambda_l1=-12.6; lambda_l2=-13.1 : y = 0.917 : 264.3 secs : infill_ei\n",
      "\n",
      "Tue Jul 29 21:45:36 2025 AUC 0.917649175396811\n",
      "\n",
      "[mbo] 119: num_leaves=184; bagging_freq=3; bagging_fraction=0.993; feature_fraction =0.695; lambda_l1=-0.025; lambda_l2=-13.2 : y = 0.918 : 225.1 secs : infill_ei\n",
      "\n",
      "Tue Jul 29 21:49:03 2025 AUC 0.916628434659777\n",
      "\n",
      "[mbo] 120: num_leaves=200; bagging_freq=9; bagging_fraction=0.715; feature_fraction =0.15; lambda_l1=-11.2; lambda_l2=-0.771 : y = 0.917 : 205.0 secs : infill_ei\n",
      "\n",
      "Saved the final state in the file bayesiana.RDATA\n",
      "\n",
      "Saved the final state in the file bayesiana.RDATA\n",
      "\n"
     ]
    }
   ],
   "source": [
    "# inicio la optimizacion bayesiana, retomando si ya existe\n",
    "# es la celda mas lenta de todo el notebook\n",
    "\n",
    "if (!file.exists(kbayesiana)) {\n",
    "  bayesiana_salida <- mbo(obj.fun, learner= surr.km, control= ctrl)\n",
    "} else {\n",
    "  bayesiana_salida <- mboContinue(kbayesiana) # retomo en caso que ya exista\n",
    "}"
   ]
  },
  {
   "cell_type": "code",
   "execution_count": 21,
   "metadata": {
    "id": "ssk5nnMk6INK"
   },
   "outputs": [
    {
     "data": {
      "text/html": [
       "<style>\n",
       ".list-inline {list-style: none; margin:0; padding: 0}\n",
       ".list-inline>li {display: inline-block}\n",
       ".list-inline>li:not(:last-child)::after {content: \"\\00b7\"; padding: 0 .5ex}\n",
       "</style>\n",
       "<ol class=list-inline><li>'num_leaves'</li><li>'bagging_freq'</li><li>'bagging_fraction'</li><li>'feature_fraction.'</li><li>'lambda_l1'</li><li>'lambda_l2'</li><li>'y'</li><li>'dob'</li><li>'eol'</li><li>'error.message'</li><li>'exec.time'</li><li>'ei'</li><li>'error.model'</li><li>'train.time'</li><li>'prop.type'</li><li>'propose.time'</li><li>'se'</li><li>'mean'</li></ol>\n"
      ],
      "text/latex": [
       "\\begin{enumerate*}\n",
       "\\item 'num\\_leaves'\n",
       "\\item 'bagging\\_freq'\n",
       "\\item 'bagging\\_fraction'\n",
       "\\item 'feature\\_fraction.'\n",
       "\\item 'lambda\\_l1'\n",
       "\\item 'lambda\\_l2'\n",
       "\\item 'y'\n",
       "\\item 'dob'\n",
       "\\item 'eol'\n",
       "\\item 'error.message'\n",
       "\\item 'exec.time'\n",
       "\\item 'ei'\n",
       "\\item 'error.model'\n",
       "\\item 'train.time'\n",
       "\\item 'prop.type'\n",
       "\\item 'propose.time'\n",
       "\\item 'se'\n",
       "\\item 'mean'\n",
       "\\end{enumerate*}\n"
      ],
      "text/markdown": [
       "1. 'num_leaves'\n",
       "2. 'bagging_freq'\n",
       "3. 'bagging_fraction'\n",
       "4. 'feature_fraction.'\n",
       "5. 'lambda_l1'\n",
       "6. 'lambda_l2'\n",
       "7. 'y'\n",
       "8. 'dob'\n",
       "9. 'eol'\n",
       "10. 'error.message'\n",
       "11. 'exec.time'\n",
       "12. 'ei'\n",
       "13. 'error.model'\n",
       "14. 'train.time'\n",
       "15. 'prop.type'\n",
       "16. 'propose.time'\n",
       "17. 'se'\n",
       "18. 'mean'\n",
       "\n",
       "\n"
      ],
      "text/plain": [
       " [1] \"num_leaves\"        \"bagging_freq\"      \"bagging_fraction\" \n",
       " [4] \"feature_fraction.\" \"lambda_l1\"         \"lambda_l2\"        \n",
       " [7] \"y\"                 \"dob\"               \"eol\"              \n",
       "[10] \"error.message\"     \"exec.time\"         \"ei\"               \n",
       "[13] \"error.model\"       \"train.time\"        \"prop.type\"        \n",
       "[16] \"propose.time\"      \"se\"                \"mean\"             "
      ]
     },
     "metadata": {},
     "output_type": "display_data"
    }
   ],
   "source": [
    "\n",
    "tb_bayesiana <- as.data.table(bayesiana_salida$opt.path)\n",
    "colnames( tb_bayesiana)"
   ]
  },
  {
   "cell_type": "code",
   "execution_count": 22,
   "metadata": {
    "id": "u4zq-vknhjGc"
   },
   "outputs": [],
   "source": [
    "# almaceno los resultados de la Bayesian Optimization\n",
    "# y capturo los mejores hiperparametros encontrados\n",
    "\n",
    "tb_bayesiana <- as.data.table(bayesiana_salida$opt.path)\n",
    "\n",
    "tb_bayesiana[, iter := .I]\n",
    "\n",
    "# ordeno en forma descendente por AUC = y\n",
    "setorder(tb_bayesiana, -y)\n",
    "\n",
    "# grabo para eventualmente poder utilizarlos en OTRA corrida\n",
    "fwrite( tb_bayesiana,\n",
    "  file= \"BO_log.txt\",\n",
    "  sep= \"\\t\"\n",
    ")\n",
    "\n",
    "# los mejores hiperparámetros son los que quedaron en el registro 1 de la tabla\n",
    "PARAM$out$lgbm$mejores_hiperparametros <- tb_bayesiana[\n",
    "  1, # el primero es el de mejor AUC\n",
    "  setdiff(colnames(tb_bayesiana),\n",
    "    c(\"y\",\"dob\",\"eol\",\"error.message\",\"exec.time\",\"ei\",\"error.model\",\n",
    "      \"train.time\",\"prop.type\",\"propose.time\",\"se\",\"mean\",\"iter\")),\n",
    "  with= FALSE\n",
    "]\n",
    "\n",
    "\n",
    "PARAM$out$lgbm$y <- tb_bayesiana[1, y]\n"
   ]
  },
  {
   "cell_type": "code",
   "execution_count": 23,
   "metadata": {
    "id": "E8v2eA427N8e"
   },
   "outputs": [],
   "source": [
    "write_yaml( PARAM, file=\"PARAM.yml\")"
   ]
  },
  {
   "cell_type": "code",
   "execution_count": 24,
   "metadata": {
    "id": "iBTWexVU7PGC"
   },
   "outputs": [
    {
     "name": "stdout",
     "output_type": "stream",
     "text": [
      "   num_leaves bagging_freq bagging_fraction feature_fraction. lambda_l1\n",
      "        <int>        <int>            <num>             <num>     <num>\n",
      "1:         50            1        0.9993882         0.1964988 -8.925292\n",
      "    lambda_l2\n",
      "        <num>\n",
      "1: -0.2558205\n",
      "[1] 0.9186161\n"
     ]
    }
   ],
   "source": [
    "print(PARAM$out$lgbm$mejores_hiperparametros)\n",
    "print(PARAM$out$lgbm$y)"
   ]
  },
  {
   "cell_type": "markdown",
   "metadata": {
    "id": "TKsVZmAnhwX-"
   },
   "source": [
    "## 2.3  Produccion"
   ]
  },
  {
   "cell_type": "markdown",
   "metadata": {
    "id": "RQ_C33Tr5B_9"
   },
   "source": [
    "### Final Training\n",
    "Construyo el modelo final, que es uno solo, no hace ningun tipo de particion < training, validation, testing>]"
   ]
  },
  {
   "cell_type": "code",
   "execution_count": 25,
   "metadata": {
    "id": "eDqfyA14hzwv"
   },
   "outputs": [],
   "source": [
    "setwd(\"/content/buckets/b1/exp\")\n",
    "experimento <- paste0(\"exp\", PARAM$experimento)\n",
    "dir.create(experimento, showWarnings= FALSE)\n",
    "setwd( paste0(\"/content/buckets/b1/exp/\", experimento ))"
   ]
  },
  {
   "cell_type": "markdown",
   "metadata": {
    "id": "8qFmFivf5Iet"
   },
   "source": [
    "#### Final Training Dataset\n",
    "\n",
    "Aqui esta la gran decision de en qué meses hago el Final Training\n",
    "<br> debo utilizar los mejores hiperparámetros que encontré en la optimización bayesiana"
   ]
  },
  {
   "cell_type": "code",
   "execution_count": 26,
   "metadata": {
    "id": "lg5WVZncvc7H"
   },
   "outputs": [],
   "source": [
    "# clase01\n",
    "dataset[, clase01 := ifelse(clase_ternaria %in% c(\"BAJA+1\", \"BAJA+2\"), 1L, 0L)]"
   ]
  },
  {
   "cell_type": "code",
   "execution_count": 27,
   "metadata": {
    "id": "yc9QzXREv0xf"
   },
   "outputs": [],
   "source": [
    "dataset_train <- dataset[foto_mes %in% c(202107)]"
   ]
  },
  {
   "cell_type": "code",
   "execution_count": 28,
   "metadata": {
    "id": "thjdqEBLuvNt"
   },
   "outputs": [],
   "source": [
    "# dejo los datos en el formato que necesita LightGBM\n",
    "\n",
    "dtrain <- lgb.Dataset(\n",
    "  data= data.matrix(dataset_train[, campos_buenos, with= FALSE]),\n",
    "  label= dataset_train[, clase01]\n",
    ")"
   ]
  },
  {
   "cell_type": "markdown",
   "metadata": {
    "id": "VNUa-WSz5Oqu"
   },
   "source": [
    "#### Final Training Hyperparameters"
   ]
  },
  {
   "cell_type": "code",
   "execution_count": 29,
   "metadata": {
    "id": "FgCcvBfEwImu"
   },
   "outputs": [
    {
     "data": {
      "text/html": [
       "<dl>\n",
       "\t<dt>$boosting</dt>\n",
       "\t\t<dd>'dart'</dd>\n",
       "\t<dt>$objective</dt>\n",
       "\t\t<dd>'binary'</dd>\n",
       "\t<dt>$metric</dt>\n",
       "\t\t<dd>'auc'</dd>\n",
       "\t<dt>$first_metric_only</dt>\n",
       "\t\t<dd>FALSE</dd>\n",
       "\t<dt>$boost_from_average</dt>\n",
       "\t\t<dd>TRUE</dd>\n",
       "\t<dt>$feature_pre_filter</dt>\n",
       "\t\t<dd>FALSE</dd>\n",
       "\t<dt>$force_row_wise</dt>\n",
       "\t\t<dd>TRUE</dd>\n",
       "\t<dt>$verbosity</dt>\n",
       "\t\t<dd>-100</dd>\n",
       "\t<dt>$seed</dt>\n",
       "\t\t<dd>123457</dd>\n",
       "\t<dt>$max_depth</dt>\n",
       "\t\t<dd>-1</dd>\n",
       "\t<dt>$min_gain_to_split</dt>\n",
       "\t\t<dd>0</dd>\n",
       "\t<dt>$min_sum_hessian_in_leaf</dt>\n",
       "\t\t<dd>0.001</dd>\n",
       "\t<dt>$lambda_l1</dt>\n",
       "\t\t<dd>-8.92529154305025</dd>\n",
       "\t<dt>$lambda_l2</dt>\n",
       "\t\t<dd>-0.255820521271508</dd>\n",
       "\t<dt>$max_bin</dt>\n",
       "\t\t<dd>31</dd>\n",
       "\t<dt>$bagging_fraction</dt>\n",
       "\t\t<dd>0.999388165826774</dd>\n",
       "\t<dt>$pos_bagging_fraction</dt>\n",
       "\t\t<dd>1</dd>\n",
       "\t<dt>$neg_bagging_fraction</dt>\n",
       "\t\t<dd>1</dd>\n",
       "\t<dt>$is_unbalance</dt>\n",
       "\t\t<dd>FALSE</dd>\n",
       "\t<dt>$scale_pos_weight</dt>\n",
       "\t\t<dd>1</dd>\n",
       "\t<dt>$drop_rate</dt>\n",
       "\t\t<dd>0.1</dd>\n",
       "\t<dt>$max_drop</dt>\n",
       "\t\t<dd>50</dd>\n",
       "\t<dt>$skip_drop</dt>\n",
       "\t\t<dd>0.5</dd>\n",
       "\t<dt>$extra_trees</dt>\n",
       "\t\t<dd>FALSE</dd>\n",
       "\t<dt>$num_iterations</dt>\n",
       "\t\t<dd>1200</dd>\n",
       "\t<dt>$learning_rate</dt>\n",
       "\t\t<dd>0.02</dd>\n",
       "\t<dt>$feature_fraction</dt>\n",
       "\t\t<dd>0.5</dd>\n",
       "\t<dt>$num_leaves</dt>\n",
       "\t\t<dd>50</dd>\n",
       "\t<dt>$min_data_in_leaf</dt>\n",
       "\t\t<dd>5000</dd>\n",
       "\t<dt>$bagging_freq</dt>\n",
       "\t\t<dd>1</dd>\n",
       "\t<dt>$feature_fraction.</dt>\n",
       "\t\t<dd>0.196498787457551</dd>\n",
       "</dl>\n"
      ],
      "text/latex": [
       "\\begin{description}\n",
       "\\item[\\$boosting] 'dart'\n",
       "\\item[\\$objective] 'binary'\n",
       "\\item[\\$metric] 'auc'\n",
       "\\item[\\$first\\_metric\\_only] FALSE\n",
       "\\item[\\$boost\\_from\\_average] TRUE\n",
       "\\item[\\$feature\\_pre\\_filter] FALSE\n",
       "\\item[\\$force\\_row\\_wise] TRUE\n",
       "\\item[\\$verbosity] -100\n",
       "\\item[\\$seed] 123457\n",
       "\\item[\\$max\\_depth] -1\n",
       "\\item[\\$min\\_gain\\_to\\_split] 0\n",
       "\\item[\\$min\\_sum\\_hessian\\_in\\_leaf] 0.001\n",
       "\\item[\\$lambda\\_l1] -8.92529154305025\n",
       "\\item[\\$lambda\\_l2] -0.255820521271508\n",
       "\\item[\\$max\\_bin] 31\n",
       "\\item[\\$bagging\\_fraction] 0.999388165826774\n",
       "\\item[\\$pos\\_bagging\\_fraction] 1\n",
       "\\item[\\$neg\\_bagging\\_fraction] 1\n",
       "\\item[\\$is\\_unbalance] FALSE\n",
       "\\item[\\$scale\\_pos\\_weight] 1\n",
       "\\item[\\$drop\\_rate] 0.1\n",
       "\\item[\\$max\\_drop] 50\n",
       "\\item[\\$skip\\_drop] 0.5\n",
       "\\item[\\$extra\\_trees] FALSE\n",
       "\\item[\\$num\\_iterations] 1200\n",
       "\\item[\\$learning\\_rate] 0.02\n",
       "\\item[\\$feature\\_fraction] 0.5\n",
       "\\item[\\$num\\_leaves] 50\n",
       "\\item[\\$min\\_data\\_in\\_leaf] 5000\n",
       "\\item[\\$bagging\\_freq] 1\n",
       "\\item[\\$feature\\_fraction.] 0.196498787457551\n",
       "\\end{description}\n"
      ],
      "text/markdown": [
       "$boosting\n",
       ":   'dart'\n",
       "$objective\n",
       ":   'binary'\n",
       "$metric\n",
       ":   'auc'\n",
       "$first_metric_only\n",
       ":   FALSE\n",
       "$boost_from_average\n",
       ":   TRUE\n",
       "$feature_pre_filter\n",
       ":   FALSE\n",
       "$force_row_wise\n",
       ":   TRUE\n",
       "$verbosity\n",
       ":   -100\n",
       "$seed\n",
       ":   123457\n",
       "$max_depth\n",
       ":   -1\n",
       "$min_gain_to_split\n",
       ":   0\n",
       "$min_sum_hessian_in_leaf\n",
       ":   0.001\n",
       "$lambda_l1\n",
       ":   -8.92529154305025\n",
       "$lambda_l2\n",
       ":   -0.255820521271508\n",
       "$max_bin\n",
       ":   31\n",
       "$bagging_fraction\n",
       ":   0.999388165826774\n",
       "$pos_bagging_fraction\n",
       ":   1\n",
       "$neg_bagging_fraction\n",
       ":   1\n",
       "$is_unbalance\n",
       ":   FALSE\n",
       "$scale_pos_weight\n",
       ":   1\n",
       "$drop_rate\n",
       ":   0.1\n",
       "$max_drop\n",
       ":   50\n",
       "$skip_drop\n",
       ":   0.5\n",
       "$extra_trees\n",
       ":   FALSE\n",
       "$num_iterations\n",
       ":   1200\n",
       "$learning_rate\n",
       ":   0.02\n",
       "$feature_fraction\n",
       ":   0.5\n",
       "$num_leaves\n",
       ":   50\n",
       "$min_data_in_leaf\n",
       ":   5000\n",
       "$bagging_freq\n",
       ":   1\n",
       "$feature_fraction.\n",
       ":   0.196498787457551\n",
       "\n",
       "\n"
      ],
      "text/plain": [
       "$boosting\n",
       "[1] \"dart\"\n",
       "\n",
       "$objective\n",
       "[1] \"binary\"\n",
       "\n",
       "$metric\n",
       "[1] \"auc\"\n",
       "\n",
       "$first_metric_only\n",
       "[1] FALSE\n",
       "\n",
       "$boost_from_average\n",
       "[1] TRUE\n",
       "\n",
       "$feature_pre_filter\n",
       "[1] FALSE\n",
       "\n",
       "$force_row_wise\n",
       "[1] TRUE\n",
       "\n",
       "$verbosity\n",
       "[1] -100\n",
       "\n",
       "$seed\n",
       "[1] 123457\n",
       "\n",
       "$max_depth\n",
       "[1] -1\n",
       "\n",
       "$min_gain_to_split\n",
       "[1] 0\n",
       "\n",
       "$min_sum_hessian_in_leaf\n",
       "[1] 0.001\n",
       "\n",
       "$lambda_l1\n",
       "[1] -8.925292\n",
       "\n",
       "$lambda_l2\n",
       "[1] -0.2558205\n",
       "\n",
       "$max_bin\n",
       "[1] 31\n",
       "\n",
       "$bagging_fraction\n",
       "[1] 0.9993882\n",
       "\n",
       "$pos_bagging_fraction\n",
       "[1] 1\n",
       "\n",
       "$neg_bagging_fraction\n",
       "[1] 1\n",
       "\n",
       "$is_unbalance\n",
       "[1] FALSE\n",
       "\n",
       "$scale_pos_weight\n",
       "[1] 1\n",
       "\n",
       "$drop_rate\n",
       "[1] 0.1\n",
       "\n",
       "$max_drop\n",
       "[1] 50\n",
       "\n",
       "$skip_drop\n",
       "[1] 0.5\n",
       "\n",
       "$extra_trees\n",
       "[1] FALSE\n",
       "\n",
       "$num_iterations\n",
       "[1] 1200\n",
       "\n",
       "$learning_rate\n",
       "[1] 0.02\n",
       "\n",
       "$feature_fraction\n",
       "[1] 0.5\n",
       "\n",
       "$num_leaves\n",
       "[1] 50\n",
       "\n",
       "$min_data_in_leaf\n",
       "[1] 5000\n",
       "\n",
       "$bagging_freq\n",
       "[1] 1\n",
       "\n",
       "$feature_fraction.\n",
       "[1] 0.1964988\n"
      ]
     },
     "metadata": {},
     "output_type": "display_data"
    }
   ],
   "source": [
    "param_final <- modifyList(PARAM$lgbm$param_fijos,\n",
    "  PARAM$out$lgbm$mejores_hiperparametros)\n",
    "\n",
    "param_final"
   ]
  },
  {
   "cell_type": "markdown",
   "metadata": {
    "id": "TZIYn4l95TBH"
   },
   "source": [
    "#### Training\n",
    "Genero el modelo final, siempre sobre TODOS los datos de  final_train, sin hacer ningun tipo de undersampling de la clase mayoritaria"
   ]
  },
  {
   "cell_type": "code",
   "execution_count": 32,
   "metadata": {
    "id": "vPLsd4mMRe4u"
   },
   "outputs": [],
   "source": [
    "# este punto es muy SUTIL  y será revisado en la Clase 05\n",
    "# CORREGIR: transformaciones necesarias\n",
    "param_final$lambda_l1 <- exp(param_final$lambda_l1)\n",
    "param_final$lambda_l2 <- exp(param_final$lambda_l2)\n",
    "param_normalizado <- copy(param_final)\n",
    "\n",
    "param_normalizado$min_data_in_leaf <-  param_final$min_data_in_leaf / PARAM$trainingstrategy$undersampling"
   ]
  },
  {
   "cell_type": "code",
   "execution_count": 33,
   "metadata": {
    "id": "WRI_-taRwOXO"
   },
   "outputs": [],
   "source": [
    "  # entreno LightGBM\n",
    "\n",
    "  modelo_final <- lgb.train(\n",
    "    data= dtrain,\n",
    "    param= param_normalizado\n",
    "  )"
   ]
  },
  {
   "cell_type": "code",
   "execution_count": 34,
   "metadata": {
    "id": "_bkhnCvj0g3Q"
   },
   "outputs": [],
   "source": [
    "# ahora imprimo la importancia de variables\n",
    "\n",
    "tb_importancia <- as.data.table(lgb.importance(modelo_final))\n",
    "archivo_importancia <- \"impo.txt\"\n",
    "\n",
    "fwrite(tb_importancia,\n",
    "  file= archivo_importancia,\n",
    "  sep= \"\\t\"\n",
    ")"
   ]
  },
  {
   "cell_type": "code",
   "execution_count": 35,
   "metadata": {
    "id": "lZ3sLmbh0kFj"
   },
   "outputs": [],
   "source": [
    "# grabo a disco el modelo en un formato para seres humanos ... ponele ...\n",
    "\n",
    "lgb.save(modelo_final, \"modelo.txt\" )"
   ]
  },
  {
   "cell_type": "markdown",
   "metadata": {
    "id": "VEtp2--t5Ymg"
   },
   "source": [
    "### Scoring"
   ]
  },
  {
   "cell_type": "markdown",
   "metadata": {
    "id": "hI5008Mj5ZdI"
   },
   "source": [
    "Aplico el modelo final a los datos del futuro"
   ]
  },
  {
   "cell_type": "code",
   "execution_count": 36,
   "metadata": {
    "id": "PimBY3N_0ryP"
   },
   "outputs": [],
   "source": [
    "# aplico el modelo a los datos sin clase\n",
    "dfuture <- dataset[foto_mes == 202109]\n",
    "\n",
    "# aplico el modelo a los datos nuevos\n",
    "prediccion <- predict(\n",
    "  modelo_final,\n",
    "  data.matrix(dfuture[, campos_buenos, with= FALSE])\n",
    ")"
   ]
  },
  {
   "cell_type": "markdown",
   "metadata": {
    "id": "D26rNRh55gpw"
   },
   "source": [
    "#### Tabla Prediccion"
   ]
  },
  {
   "cell_type": "code",
   "execution_count": 37,
   "metadata": {
    "id": "RJwg7LHd11yu"
   },
   "outputs": [],
   "source": [
    "# tabla de prediccion\n",
    "\n",
    "tb_prediccion <- dfuture[, list(numero_de_cliente)]\n",
    "tb_prediccion[, prob := prediccion ]\n",
    "\n",
    "# grabo las probabilidad del modelo\n",
    "fwrite(tb_prediccion,\n",
    "  file= \"prediccion.txt\",\n",
    "  sep= \"\\t\"\n",
    ")"
   ]
  },
  {
   "cell_type": "markdown",
   "metadata": {
    "id": "jOt4eG_55ltv"
   },
   "source": [
    "Kaggle Competition Submit"
   ]
  },
  {
   "cell_type": "code",
   "execution_count": 38,
   "metadata": {
    "id": "gWW3tatE12je"
   },
   "outputs": [
    {
     "name": "stdout",
     "output_type": "stream",
     "text": [
      "Successfully submitted to Data Mining, Analista Sr 2025A \n",
      "Successfully submitted to Data Mining, Analista Sr 2025A \n",
      "Successfully submitted to Data Mining, Analista Sr 2025A \n",
      "Successfully submitted to Data Mining, Analista Sr 2025A \n",
      "Successfully submitted to Data Mining, Analista Sr 2025A \n"
     ]
    }
   ],
   "source": [
    "# genero archivos con los  \"envios\" mejores\n",
    "# suba TODOS los archivos a Kaggle\n",
    "\n",
    "# ordeno por probabilidad descendente\n",
    "setorder(tb_prediccion, -prob)\n",
    "\n",
    "dir.create(\"kaggle\")\n",
    "\n",
    "for (envios in PARAM$kaggle$cortes) {\n",
    "\n",
    "  tb_prediccion[, Predicted := 0L] # seteo inicial a 0\n",
    "  tb_prediccion[1:envios, Predicted := 1L] # marclo los primeros\n",
    "\n",
    "  archivo_kaggle <- paste0(\"./kaggle/KA\", PARAM$experimento, \"_\", envios, \".csv\")\n",
    "\n",
    "  # grabo el archivo\n",
    "  fwrite(tb_prediccion[, list(numero_de_cliente, Predicted)],\n",
    "    file= archivo_kaggle,\n",
    "    sep= \",\"\n",
    "  )\n",
    "\n",
    "  # subida a Kaggle, armo la linea de comando\n",
    "  comando <- \"kaggle competitions submit\"\n",
    "  competencia <- paste(\"-c\", PARAM$kaggle$competencia)\n",
    "  arch <- paste( \"-f\", archivo_kaggle)\n",
    "\n",
    "  mensaje <- paste0(\"-m 'envios=\", envios,\n",
    "  \"  semilla=\", PARAM$semilla_primigenia,\n",
    "    \"'\" )\n",
    "\n",
    "  linea <- paste( comando, competencia, arch, mensaje)\n",
    "\n",
    "  salida <- system(linea, intern=TRUE) # el submit a Kaggle\n",
    "  cat(salida, \"\\n\")\n",
    "}"
   ]
  },
  {
   "cell_type": "code",
   "execution_count": 39,
   "metadata": {
    "id": "B9tB2X4439Hg"
   },
   "outputs": [],
   "source": [
    "write_yaml( PARAM, file=\"PARAM.yml\")"
   ]
  },
  {
   "cell_type": "code",
   "execution_count": 40,
   "metadata": {
    "id": "9zA_W25c15DP"
   },
   "outputs": [
    {
     "data": {
      "text/html": [
       "'Tue Jul 29 22:04:29 2025'"
      ],
      "text/latex": [
       "'Tue Jul 29 22:04:29 2025'"
      ],
      "text/markdown": [
       "'Tue Jul 29 22:04:29 2025'"
      ],
      "text/plain": [
       "[1] \"Tue Jul 29 22:04:29 2025\""
      ]
     },
     "metadata": {},
     "output_type": "display_data"
    }
   ],
   "source": [
    "format(Sys.time(), \"%a %b %d %X %Y\")"
   ]
  },
  {
   "cell_type": "markdown",
   "metadata": {
    "id": "UdVZucdLHzZ0"
   },
   "source": [
    "Finalmente usted deberá cargar el resultado de su corrida en la Google Sheet Colaborativa,  hoja **TareaHogar04**\n",
    "<br> Siéntase libre de agregar las columnas que hagan falta a la planilla"
   ]
  },
  {
   "cell_type": "code",
   "execution_count": null,
   "metadata": {
    "id": "WMHh7uNVIJkT"
   },
   "outputs": [],
   "source": []
  }
 ],
 "metadata": {
  "colab": {
   "provenance": []
  },
  "kernelspec": {
   "display_name": "R",
   "language": "R",
   "name": "ir"
  },
  "language_info": {
   "codemirror_mode": "r",
   "file_extension": ".r",
   "mimetype": "text/x-r-source",
   "name": "R",
   "pygments_lexer": "r",
   "version": "4.4.3"
  }
 },
 "nbformat": 4,
 "nbformat_minor": 4
}
